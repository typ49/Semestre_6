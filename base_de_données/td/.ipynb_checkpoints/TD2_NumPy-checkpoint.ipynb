{
 "cells": [
  {
   "cell_type": "markdown",
   "id": "swedish-particular",
   "metadata": {},
   "source": [
    "# TD n°2 : NumPy"
   ]
  },
  {
   "cell_type": "code",
   "execution_count": 1,
   "id": "requested-essay",
   "metadata": {},
   "outputs": [],
   "source": [
    "import numpy as np"
   ]
  },
  {
   "cell_type": "markdown",
   "id": "cooked-gothic",
   "metadata": {},
   "source": [
    "### 1."
   ]
  },
  {
   "cell_type": "code",
   "execution_count": 2,
   "id": "prescription-logic",
   "metadata": {},
   "outputs": [
    {
     "name": "stdout",
     "output_type": "stream",
     "text": [
      "moyenne par colonnes\t :  [2. 3.]\n",
      "moyenne par lignes\t :  [1.5 3.5]\n"
     ]
    }
   ],
   "source": [
    "# Supposons que 'tableau' est notre tableau NumPy 2D\n",
    "tableau = np.array([[1, 2], [3, 4]])\n",
    "\n",
    "# Calcul de la moyenne sur chaque dimension\n",
    "moyenne_colonnes = np.mean(tableau, axis=0)\n",
    "moyenne_lignes = np.mean(tableau, axis=1)\n",
    "print(\"moyenne par colonnes\\t : \",moyenne_colonnes)\n",
    "print(\"moyenne par lignes\\t : \",moyenne_lignes)"
   ]
  },
  {
   "cell_type": "markdown",
   "id": "surrounded-ceremony",
   "metadata": {},
   "source": [
    "### 2."
   ]
  },
  {
   "cell_type": "code",
   "execution_count": 3,
   "id": "approximate-workplace",
   "metadata": {},
   "outputs": [
    {
     "name": "stdout",
     "output_type": "stream",
     "text": [
      "somme cumulée\t\t :  [ 2  6 12 20 30 42 56 72 90]\n",
      "somme par lignes\t :  [12 30 48]\n",
      "somme par colonnes\t :  [24 30 36]\n"
     ]
    }
   ],
   "source": [
    "# Supposons que 'tableaux' est une liste de trois tableaux NumPy 3x3\n",
    "tableaux = [np.array([[1, 2, 3], [4, 5, 6], [7, 8, 9]]),\n",
    "            np.array([[9, 8, 7], [6, 5, 4], [3, 2, 1]]),\n",
    "            np.array([[2, 4, 6], [8, 10, 12], [14, 16, 18]])]\n",
    "\n",
    "# Calculs demandés\n",
    "for tableau in tableaux:\n",
    "    somme_cumulee = np.cumsum(tableau)\n",
    "    somme_lignes = np.sum(tableau, axis=1)\n",
    "    somme_colonnes = np.sum(tableau, axis=0)\n",
    "    \n",
    "print(\"somme cumulée\\t\\t : \",somme_cumulee)\n",
    "print(\"somme par lignes\\t : \",somme_lignes)\n",
    "print(\"somme par colonnes\\t : \",somme_colonnes)"
   ]
  },
  {
   "cell_type": "markdown",
   "id": "binding-pocket",
   "metadata": {},
   "source": [
    "### 3."
   ]
  },
  {
   "cell_type": "code",
   "execution_count": 4,
   "id": "original-webcam",
   "metadata": {},
   "outputs": [
    {
     "name": "stdout",
     "output_type": "stream",
     "text": [
      "tableau 2d :\n",
      " [[2 1]\n",
      " [4 3]]\n",
      "\n",
      "\n",
      "trie premier axe :\n",
      " [[2 1]\n",
      " [4 3]] \n",
      "\n",
      "trie dernier axe :\n",
      " [[1 2]\n",
      " [3 4]] \n",
      "\n",
      "tableau aplati :\n",
      " [2 1 4 3] \n",
      "\n",
      "trie aplati :\n",
      " [1 2 3 4] \n",
      "\n"
     ]
    }
   ],
   "source": [
    "# Supposons que 'tableau_2d' est notre tableau NumPy 2D à trier\n",
    "tableau_2d = np.array([[2, 1], [4, 3]])\n",
    "print(\"tableau 2d :\\n\",tableau_2d)\n",
    "print(\"\\n\")\n",
    "\n",
    "# Triage selon le premier axe\n",
    "trie_premier_axe = np.sort(tableau_2d, axis=0)\n",
    "print(\"trie premier axe :\\n\",trie_premier_axe,\"\\n\")\n",
    "\n",
    "# Triage selon le dernier axe\n",
    "trie_dernier_axe = np.sort(tableau_2d, axis=-1)\n",
    "print(\"trie dernier axe :\\n\",trie_dernier_axe,\"\\n\")\n",
    "\n",
    "# Triage du tableau aplati\n",
    "tableau_aplati = tableau_2d.flatten()\n",
    "trie_aplati = np.sort(tableau_aplati)\n",
    "print(\"tableau aplati :\\n\",tableau_aplati,\"\\n\")\n",
    "print(\"trie aplati :\\n\",trie_aplati,\"\\n\")"
   ]
  },
  {
   "cell_type": "markdown",
   "id": "micro-information",
   "metadata": {},
   "source": [
    "### 4. "
   ]
  },
  {
   "cell_type": "code",
   "execution_count": 5,
   "id": "pressed-colonial",
   "metadata": {},
   "outputs": [
    {
     "name": "stdout",
     "output_type": "stream",
     "text": [
      "Cube 5x5x5 de 1:\n",
      " [[[1. 1. 1. 1. 1.]\n",
      "  [1. 1. 1. 1. 1.]\n",
      "  [1. 1. 1. 1. 1.]\n",
      "  [1. 1. 1. 1. 1.]\n",
      "  [1. 1. 1. 1. 1.]]\n",
      "\n",
      " [[1. 1. 1. 1. 1.]\n",
      "  [1. 1. 1. 1. 1.]\n",
      "  [1. 1. 1. 1. 1.]\n",
      "  [1. 1. 1. 1. 1.]\n",
      "  [1. 1. 1. 1. 1.]]\n",
      "\n",
      " [[1. 1. 1. 1. 1.]\n",
      "  [1. 1. 1. 1. 1.]\n",
      "  [1. 1. 1. 1. 1.]\n",
      "  [1. 1. 1. 1. 1.]\n",
      "  [1. 1. 1. 1. 1.]]\n",
      "\n",
      " [[1. 1. 1. 1. 1.]\n",
      "  [1. 1. 1. 1. 1.]\n",
      "  [1. 1. 1. 1. 1.]\n",
      "  [1. 1. 1. 1. 1.]\n",
      "  [1. 1. 1. 1. 1.]]\n",
      "\n",
      " [[1. 1. 1. 1. 1.]\n",
      "  [1. 1. 1. 1. 1.]\n",
      "  [1. 1. 1. 1. 1.]\n",
      "  [1. 1. 1. 1. 1.]\n",
      "  [1. 1. 1. 1. 1.]]]\n"
     ]
    }
   ],
   "source": [
    "# Création d'un cube 5x5x5 rempli de 1\n",
    "cube = np.ones((5, 5, 5))\n",
    "print(\"Cube 5x5x5 de 1:\\n\", cube)"
   ]
  },
  {
   "cell_type": "markdown",
   "id": "verified-praise",
   "metadata": {},
   "source": [
    "### 5. "
   ]
  },
  {
   "cell_type": "code",
   "execution_count": 6,
   "id": "awful-spanish",
   "metadata": {},
   "outputs": [
    {
     "name": "stdout",
     "output_type": "stream",
     "text": [
      "Troisième colonne: [ 3  7 11 15]\n"
     ]
    }
   ],
   "source": [
    "# Supposons que 'tableau_4x4' est notre tableau NumPy 4x4\n",
    "tableau_4x4 = np.array([[1, 2, 3, 4], [5, 6, 7, 8], [9, 10, 11, 12], [13, 14, 15, 16]])\n",
    "\n",
    "# Extraction de la troisième colonne\n",
    "troisieme_colonne = tableau_4x4[:, 2]\n",
    "print(\"Troisième colonne:\", troisieme_colonne)"
   ]
  },
  {
   "cell_type": "markdown",
   "id": "corporate-plate",
   "metadata": {},
   "source": [
    "### 6. "
   ]
  },
  {
   "cell_type": "code",
   "execution_count": 7,
   "id": "boolean-omaha",
   "metadata": {},
   "outputs": [
    {
     "name": "stdout",
     "output_type": "stream",
     "text": [
      "Premiers et deuxièmes éléments des deux premières lignes:\n",
      " [[1 2]\n",
      " [5 6]]\n"
     ]
    }
   ],
   "source": [
    "# Extraction des éléments requis\n",
    "premier_deuxieme_elements = tableau_4x4[:2, :2]\n",
    "print(\"Premiers et deuxièmes éléments des deux premières lignes:\\n\", premier_deuxieme_elements)"
   ]
  },
  {
   "cell_type": "markdown",
   "id": "broke-guard",
   "metadata": {},
   "source": [
    "### 7. "
   ]
  },
  {
   "cell_type": "code",
   "execution_count": 8,
   "id": "lucky-oklahoma",
   "metadata": {},
   "outputs": [
    {
     "name": "stdout",
     "output_type": "stream",
     "text": [
      "Troisièmes et quatrièmes éléments des deux premières lignes: [[3 4]\n",
      " [7 8]]\n"
     ]
    }
   ],
   "source": [
    "# Extraction des éléments requis\n",
    "troisieme_quatrieme_elements = tableau_4x4[:2, 2:]\n",
    "print(\"Troisièmes et quatrièmes éléments des deux premières lignes:\", troisieme_quatrieme_elements)"
   ]
  },
  {
   "cell_type": "markdown",
   "id": "timely-discussion",
   "metadata": {},
   "source": [
    "### 8."
   ]
  },
  {
   "cell_type": "code",
   "execution_count": 9,
   "id": "grateful-silver",
   "metadata": {},
   "outputs": [
    {
     "name": "stdout",
     "output_type": "stream",
     "text": [
      "Série triée: [0.04820953 0.14555348 0.1981269  0.22437507 0.30676375 0.46606805\n",
      " 0.59283953 0.67463487 0.79480983 0.8561755 ]\n"
     ]
    }
   ],
   "source": [
    "# Création de la série aléatoire de 10 éléments\n",
    "serie_aleatoire = np.random.rand(10)\n",
    "\n",
    "# Partitionnement en 2 avec 5 éléments chacun\n",
    "partition_1, partition_2 = np.array_split(serie_aleatoire, 2)\n",
    "\n",
    "# Tri par ordre croissant\n",
    "serie_triee = np.sort(serie_aleatoire)\n",
    "print(\"Série triée:\", serie_triee)"
   ]
  },
  {
   "cell_type": "markdown",
   "id": "medium-saying",
   "metadata": {},
   "source": [
    "### 9."
   ]
  },
  {
   "cell_type": "code",
   "execution_count": 10,
   "id": "dramatic-lounge",
   "metadata": {},
   "outputs": [
    {
     "name": "stdout",
     "output_type": "stream",
     "text": [
      "Matrice triée selon la deuxième colonne: [[10  0  6]\n",
      " [ 6  3  9]\n",
      " [ 5  3  9]]\n"
     ]
    }
   ],
   "source": [
    "# Création de la matrice d'entiers aléatoires\n",
    "matrice_aleatoire = np.random.randint(0, 11, size=(3, 3))\n",
    "\n",
    "# Tri de la matrice selon la deuxième colonne\n",
    "matrice_triee = matrice_aleatoire[matrice_aleatoire[:, 1].argsort()]\n",
    "print(\"Matrice triée selon la deuxième colonne:\", matrice_triee)"
   ]
  },
  {
   "cell_type": "markdown",
   "id": "continent-breakdown",
   "metadata": {},
   "source": [
    "### 10."
   ]
  },
  {
   "cell_type": "code",
   "execution_count": 11,
   "id": "complicated-large",
   "metadata": {},
   "outputs": [
    {
     "name": "stdout",
     "output_type": "stream",
     "text": [
      "Produit matriciel: [[1.17687356 0.54790576]\n",
      " [0.53770819 0.18936551]\n",
      " [0.92373772 0.40271967]\n",
      " [1.60378069 0.85051321]\n",
      " [0.56960059 0.29568544]]\n"
     ]
    }
   ],
   "source": [
    "# Création des matrices\n",
    "matrice_a = np.random.rand(5, 3)\n",
    "matrice_b = np.random.rand(3, 2)\n",
    "\n",
    "# Produit matriciel\n",
    "produit_matriciel = np.dot(matrice_a, matrice_b)\n",
    "print(\"Produit matriciel:\", produit_matriciel)\n"
   ]
  },
  {
   "cell_type": "markdown",
   "id": "cellular-bailey",
   "metadata": {},
   "source": [
    "### 11."
   ]
  },
  {
   "cell_type": "code",
   "execution_count": 12,
   "id": "wrong-writing",
   "metadata": {},
   "outputs": [
    {
     "name": "stdout",
     "output_type": "stream",
     "text": [
      "Tenseur x: [[[ 0  1  2  3]\n",
      "  [ 4  5  6  7]\n",
      "  [ 8  9 10 11]]\n",
      "\n",
      " [[12 13 14 15]\n",
      "  [16 17 18 19]\n",
      "  [20 21 22 23]]]\n",
      "Produit scalaire de x par y: [[ 14  38  62]\n",
      " [ 86 110 134]]\n"
     ]
    }
   ],
   "source": [
    "# Création du tenseur x\n",
    "x = np.arange(24).reshape((2, 3, 4))\n",
    "print(\"Tenseur x:\", x)\n",
    "\n",
    "# Tenseur y\n",
    "y = np.array([0, 1, 2, 3])\n",
    "\n",
    "# Produit scalaire\n",
    "produit_scalaire = np.tensordot(x, y, axes=([2], [0]))\n",
    "print(\"Produit scalaire de x par y:\", produit_scalaire)"
   ]
  }
 ],
 "metadata": {
  "kernelspec": {
   "display_name": "Python 3",
   "language": "python",
   "name": "python3"
  },
  "language_info": {
   "codemirror_mode": {
    "name": "ipython",
    "version": 3
   },
   "file_extension": ".py",
   "mimetype": "text/x-python",
   "name": "python",
   "nbconvert_exporter": "python",
   "pygments_lexer": "ipython3",
   "version": "3.9.2"
  }
 },
 "nbformat": 4,
 "nbformat_minor": 5
}
