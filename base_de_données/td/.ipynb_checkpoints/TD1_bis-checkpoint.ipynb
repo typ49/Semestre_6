{
 "cells": [
  {
   "cell_type": "markdown",
   "id": "empty-identifier",
   "metadata": {},
   "source": [
    "# TD n°1_bis : Manipulation des tenseurs sous NumPy\n",
    "## Création de tableaux (arrays)"
   ]
  },
  {
   "cell_type": "code",
   "execution_count": 4,
   "id": "amber-winner",
   "metadata": {},
   "outputs": [],
   "source": [
    "import numpy as np"
   ]
  },
  {
   "cell_type": "markdown",
   "id": "numerical-vehicle",
   "metadata": {},
   "source": [
    "### 1."
   ]
  },
  {
   "cell_type": "code",
   "execution_count": 10,
   "id": "beautiful-implementation",
   "metadata": {},
   "outputs": [
    {
     "name": "stdout",
     "output_type": "stream",
     "text": [
      "[0. 0. 0. 0. 0.]\n"
     ]
    }
   ],
   "source": [
    "array_F = np.zeros(5)\n",
    "print(array_F)"
   ]
  },
  {
   "cell_type": "markdown",
   "id": "ready-bermuda",
   "metadata": {},
   "source": [
    "### 2. "
   ]
  },
  {
   "cell_type": "code",
   "execution_count": 11,
   "id": "ignored-playing",
   "metadata": {},
   "outputs": [
    {
     "name": "stdout",
     "output_type": "stream",
     "text": [
      "[[0 0 0 0]\n",
      " [0 0 0 0]\n",
      " [0 0 0 0]]\n"
     ]
    }
   ],
   "source": [
    "array = np.array([[0,0,0,0],\n",
    "                  [0,0,0,0],\n",
    "                  [0,0,0,0]])\n",
    "print(array)"
   ]
  },
  {
   "cell_type": "markdown",
   "id": "related-shipping",
   "metadata": {},
   "source": [
    "### 3."
   ]
  },
  {
   "cell_type": "code",
   "execution_count": 18,
   "id": "acute-guitar",
   "metadata": {},
   "outputs": [
    {
     "name": "stdout",
     "output_type": "stream",
     "text": [
      "dimension :  2\n",
      "forme :  (8, 5)\n",
      "taille :  40\n"
     ]
    }
   ],
   "source": [
    "tab = np.random.random((8,5))\n",
    "print(\"dimension : \", tab.ndim)\n",
    "print(\"forme : \", tab.shape)\n",
    "print(\"taille : \", tab.size)"
   ]
  },
  {
   "cell_type": "markdown",
   "id": "dirty-hacker",
   "metadata": {},
   "source": [
    "### 4."
   ]
  },
  {
   "cell_type": "code",
   "execution_count": 19,
   "id": "chemical-consideration",
   "metadata": {},
   "outputs": [
    {
     "name": "stdout",
     "output_type": "stream",
     "text": [
      "dimension :  3\n",
      "forme :  (2, 3, 4)\n",
      "taille :  24\n"
     ]
    }
   ],
   "source": [
    "array3D = np.random.random((2,3,4))\n",
    "print(\"dimension : \",array3D.ndim)\n",
    "print(\"forme : \", array3D.shape)\n",
    "print(\"taille : \", array3D.size)"
   ]
  },
  {
   "cell_type": "markdown",
   "id": "closed-truck",
   "metadata": {},
   "source": [
    "### 5. "
   ]
  },
  {
   "cell_type": "code",
   "execution_count": 30,
   "id": "subtle-dayton",
   "metadata": {},
   "outputs": [
    {
     "name": "stdout",
     "output_type": "stream",
     "text": [
      "[[3.14159265 3.14159265 3.14159265 3.14159265]\n",
      " [3.14159265 3.14159265 3.14159265 3.14159265]\n",
      " [3.14159265 3.14159265 3.14159265 3.14159265]]\n"
     ]
    }
   ],
   "source": [
    "arrayPi = np.full((3, 4), np.pi)\n",
    "print(arrayPi)"
   ]
  },
  {
   "cell_type": "markdown",
   "id": "spiritual-saturn",
   "metadata": {},
   "source": [
    "### 6. "
   ]
  },
  {
   "cell_type": "code",
   "execution_count": 31,
   "id": "blocked-success",
   "metadata": {},
   "outputs": [
    {
     "name": "stdout",
     "output_type": "stream",
     "text": [
      "Empty array: [[2.67083983e-316 0.00000000e+000 8.48798317e-313]\n",
      " [2.41907520e-312 2.05833592e-312 1.69759663e-312]\n",
      " [8.70018275e-313 2.23953554e-316 3.95252517e-322]]\n",
      "Ones array: [[1. 1. 1.]\n",
      " [1. 1. 1.]\n",
      " [1. 1. 1.]]\n",
      "Arange array: [0 1 2 3 4 5 6 7 8 9]\n"
     ]
    }
   ],
   "source": [
    "empty_array = np.empty((3, 3))\n",
    "print('Empty array:', empty_array)\n",
    "\n",
    "ones_array = np.ones((3, 3))\n",
    "print('Ones array:', ones_array)\n",
    "\n",
    "arange_array = np.arange(10)\n",
    "print('Arange array:', arange_array)"
   ]
  },
  {
   "cell_type": "markdown",
   "id": "round-hybrid",
   "metadata": {},
   "source": [
    "### 7. "
   ]
  },
  {
   "cell_type": "code",
   "execution_count": 32,
   "id": "planned-strengthening",
   "metadata": {},
   "outputs": [
    {
     "name": "stdout",
     "output_type": "stream",
     "text": [
      "Rand array: [[0.42692295 0.42515187 0.55087944]\n",
      " [0.12574846 0.80421537 0.90121072]\n",
      " [0.11248013 0.82426901 0.97639764]]\n",
      "Randn array: [[-0.05487834 -0.34172178  0.19187439]\n",
      " [ 0.93503767  0.75922481 -0.17898903]\n",
      " [ 1.08158415 -0.75473508  0.06868471]]\n"
     ]
    }
   ],
   "source": [
    "# np.rand() n'existe pas, peut-être l'intention était d'utiliser np.random.rand()\n",
    "rand_array = np.random.rand(3, 3)\n",
    "print('Rand array:', rand_array)\n",
    "\n",
    "randn_array = np.random.randn(3, 3)\n",
    "print('Randn array:', randn_array)"
   ]
  },
  {
   "cell_type": "markdown",
   "id": "responsible-stockholm",
   "metadata": {},
   "source": [
    "### 8. "
   ]
  },
  {
   "cell_type": "code",
   "execution_count": 35,
   "id": "ordered-uzbekistan",
   "metadata": {},
   "outputs": [
    {
     "name": "stderr",
     "output_type": "stream",
     "text": [
      "Matplotlib is building the font cache; this may take a moment.\n"
     ]
    },
    {
     "data": {
      "image/png": "[encoded data removed]",
      "text/plain": [
       "<Figure size 432x288 with 1 Axes>"
      ]
     },
     "metadata": {
      "needs_background": "light"
     },
     "output_type": "display_data"
    }
   ],
   "source": [
    "import matplotlib.pyplot as plt\n",
    "\n",
    "x = np.linspace(-2.5, 2.5, 1000)\n",
    "y_rand = np.random.rand(1000)\n",
    "y_randn = np.random.randn(1000)\n",
    "\n",
    "plt.plot(x, y_rand, label='rand')\n",
    "plt.plot(x, y_randn, label='randn')\n",
    "plt.legend()\n",
    "\n",
    "plt.show()"
   ]
  },
  {
   "cell_type": "markdown",
   "id": "detailed-compound",
   "metadata": {},
   "source": [
    "### 9. "
   ]
  },
  {
   "cell_type": "code",
   "execution_count": 37,
   "id": "subjective-prince",
   "metadata": {},
   "outputs": [
    {
     "name": "stdout",
     "output_type": "stream",
     "text": [
      "Original array:\n",
      " [[ 0  1  2  3]\n",
      " [ 4  5  6  7]\n",
      " [ 8  9 10 11]\n",
      " [12 13 14 15]]\n",
      "\n",
      "Reshaped array:\n",
      " [[ 0  1  2  3  4  5  6  7]\n",
      " [ 8  9 10 11 12 13 14 15]]\n"
     ]
    }
   ],
   "source": [
    "array6 = np.arange(16).reshape(4, 4)\n",
    "print('Original array:\\n', array6)\n",
    "\n",
    "reshaped_array = array6.reshape(2, 8)\n",
    "print('\\nReshaped array:\\n', reshaped_array)"
   ]
  }
 ],
 "metadata": {
  "kernelspec": {
   "display_name": "Python 3",
   "language": "python",
   "name": "python3"
  },
  "language_info": {
   "codemirror_mode": {
    "name": "ipython",
    "version": 3
   },
   "file_extension": ".py",
   "mimetype": "text/x-python",
   "name": "python",
   "nbconvert_exporter": "python",
   "pygments_lexer": "ipython3",
   "version": "3.9.2"
  }
 },
 "nbformat": 4,
 "nbformat_minor": 5
}
