{
 "cells": [
  {
   "cell_type": "markdown",
   "id": "97eea5bc-3d4a-4032-af94-7cd04c649286",
   "metadata": {},
   "source": [
    "# TD n°4 - Machine Learning "
   ]
  },
  {
   "cell_type": "code",
   "execution_count": 1,
   "id": "ca11703c-7761-49af-90b8-5ebcd94a76aa",
   "metadata": {},
   "outputs": [
    {
     "ename": "SyntaxError",
     "evalue": "invalid syntax (1406656464.py, line 1)",
     "output_type": "error",
     "traceback": [
      "\u001b[0;36m  Cell \u001b[0;32mIn[1], line 1\u001b[0;36m\u001b[0m\n\u001b[0;31m    from numpy import * as np\u001b[0m\n\u001b[0m                        ^\u001b[0m\n\u001b[0;31mSyntaxError\u001b[0m\u001b[0;31m:\u001b[0m invalid syntax\n"
     ]
    }
   ],
   "source": [
    "import numpy as np\n",
    "import matplotlib.pyplot as plt\n",
    "import pandas as pd\n",
    "\n",
    "\n",
    "# Données exemple\n",
    "x = np.array([1, 2, 3, 4, 5])\n",
    "y = np.array([2, 3, 5, 7, 9])\n",
    "\n",
    "# Fonction de régression linéaire\n",
    "def linear_regression(x, a, b):\n",
    "    return a * x + b\n",
    "\n",
    "# Calcul de l'erreur quadratique moyenne\n",
    "def mean_squared_error(y_true, y_pred):\n",
    "    return ((y_true - y_pred) ** 2).mean()\n",
    "\n",
    "# Initialisation des paramètres du modèle\n",
    "a_init = 0\n",
    "b_init = 0\n",
    "\n",
    "# Calcul de l'erreur initiale\n",
    "y_pred_init = linear_regression(x, a_init, b_init)\n",
    "error_init = mean_squared_error(y, y_pred_init)\n",
    "\n",
    "# Affichage de l'erreur initiale et des données initiales\n",
    "print(f\"Erreur quadratique moyenne initiale: {error_init}\")\n",
    "\n",
    "plt.scatter(x,y)\n",
    "plt.show()\n",
    "\n",
    "# Mise à jour manuelle des paramètres\n",
    "a_update = 1.7\n",
    "b_update = 0.1\n",
    "\n",
    "# Calcul et visualisation avec les paramètres mis à jour\n",
    "y_pred_update = linear_regression(x, a_update, b_update)\n",
    "\n",
    "# Affichage de la droite de régression mise à jour"
   ]
  },
  {
   "cell_type": "code",
   "execution_count": null,
   "id": "1cf666c4-f933-4892-b43b-868b42d79ad4",
   "metadata": {},
   "outputs": [],
   "source": []
  }
 ],
 "metadata": {
  "kernelspec": {
   "display_name": "Python 3 (ipykernel)",
   "language": "python",
   "name": "python3"
  },
  "language_info": {
   "codemirror_mode": {
    "name": "ipython",
    "version": 3
   },
   "file_extension": ".py",
   "mimetype": "text/x-python",
   "name": "python",
   "nbconvert_exporter": "python",
   "pygments_lexer": "ipython3",
   "version": "3.11.7"
  }
 },
 "nbformat": 4,
 "nbformat_minor": 5
}
