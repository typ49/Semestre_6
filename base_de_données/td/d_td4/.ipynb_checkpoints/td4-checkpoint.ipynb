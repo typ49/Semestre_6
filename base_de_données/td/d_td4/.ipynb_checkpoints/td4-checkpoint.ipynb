{
 "cells": [
  {
   "cell_type": "markdown",
   "id": "97eea5bc-3d4a-4032-af94-7cd04c649286",
   "metadata": {},
   "source": [
    "# TD n°4 - Machine Learning "
   ]
  },
  {
   "cell_type": "code",
   "execution_count": 1,
   "id": "ca11703c-7761-49af-90b8-5ebcd94a76aa",
   "metadata": {},
   "outputs": [],
   "source": [
    "import numpy as np\n",
    "import pandas as pd\n",
    "import matplotlib as plt"
   ]
  },
  {
   "cell_type": "markdown",
   "id": "446f6032-c78e-4695-b7b0-bc2937fdb163",
   "metadata": {},
   "source": [
    "## 1"
   ]
  },
  {
   "cell_type": "markdown",
   "id": "263a1f05-5b88-4ac3-9542-c07a867cd57a",
   "metadata": {},
   "source": [
    "Définir le modèle : La fonction \n",
    "\n",
    "F dans un contexte de régression linéaire simple est souvent définie comme F(x)=ax+b, où a est la pente de la droite et b l'ordonnée à l'origine. Cette fonction vise à prédire la valeur de y pour une valeur donnée de x."
   ]
  },
  {
   "cell_type": "markdown",
   "id": "0ab2a0a2-8e64-48be-9d9d-b5ca243299eb",
   "metadata": {},
   "source": [
    "## 2 "
   ]
  },
  {
   "cell_type": "markdown",
   "id": "b3407f1d-9f4e-4135-b420-bc98869b58db",
   "metadata": {},
   "source": [
    "## 3 "
   ]
  },
  {
   "cell_type": "markdown",
   "id": "a3d35e4e-447c-495a-9a2f-71308333bd0f",
   "metadata": {},
   "source": [
    "## 4 "
   ]
  },
  {
   "cell_type": "markdown",
   "id": "65705d91-7e41-41b3-82f0-b997f6378bc8",
   "metadata": {},
   "source": [
    "## 5"
   ]
  },
  {
   "cell_type": "markdown",
   "id": "68857376-a5d1-4680-8511-896647ba9618",
   "metadata": {},
   "source": [
    "## 6 "
   ]
  },
  {
   "cell_type": "markdown",
   "id": "c28ebbc7-94f2-4b6c-9665-8c0cb9e0e415",
   "metadata": {},
   "source": [
    "## 7 "
   ]
  },
  {
   "cell_type": "markdown",
   "id": "855a0f2e-af37-4630-a17e-ce80f1a16794",
   "metadata": {},
   "source": [
    "## 8 "
   ]
  },
  {
   "cell_type": "code",
   "execution_count": 4,
   "id": "06184f4d-e2d9-4fe1-8296-d6cd6d34266f",
   "metadata": {},
   "outputs": [
    {
     "name": "stdout",
     "output_type": "stream",
     "text": [
      "Erreur initiale : 33.6\n"
     ]
    }
   ],
   "source": [
    "# Exemple de données\n",
    "X = np.array([1, 2, 3, 4, 5])  # Variables xi\n",
    "y = np.array([2, 3, 5, 7, 9])  # Cibles yj\n",
    "\n",
    "# Initialisation des paramètres du modèle\n",
    "a = 0  # Pente initiale\n",
    "b = 0  # Ordonnée à l'origine initiale\n",
    "\n",
    "# Fonction pour calculer l'erreur quadratique moyenne\n",
    "def mse(X, y, a, b):\n",
    "    n = len(X)\n",
    "    error = 0\n",
    "    for i in range(n):\n",
    "        error += (y[i] - (a * X[i] + b))**2\n",
    "    return error / n\n",
    "\n",
    "# Affichage de l'erreur initiale\n",
    "print(\"Erreur initiale :\", mse(X, y, a, b))\n",
    "\n",
    "# À ce stade, une méthode de minimisation telle que la descente de gradient serait introduite pour ajuster a et b"
   ]
  }
 ],
 "metadata": {
  "kernelspec": {
   "display_name": "Python 3 (ipykernel)",
   "language": "python",
   "name": "python3"
  },
  "language_info": {
   "codemirror_mode": {
    "name": "ipython",
    "version": 3
   },
   "file_extension": ".py",
   "mimetype": "text/x-python",
   "name": "python",
   "nbconvert_exporter": "python",
   "pygments_lexer": "ipython3",
   "version": "3.11.7"
  }
 },
 "nbformat": 4,
 "nbformat_minor": 5
}
