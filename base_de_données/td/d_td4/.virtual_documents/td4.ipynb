


import numpy as np
import matplotlib.pyplot as plt
import pandas as pd


# Données exemple
x = np.array([1, 2, 3, 4, 5])
y = np.array([2, 3, 5, 7, 9])

# Fonction de régression linéaire
def linear_regression(x, a, b):
    return a * x + b

# Calcul de l'erreur quadratique moyenne
def mean_squared_error(y_true, y_pred):
    return ((y_true - y_pred) ** 2).mean()

# Initialisation des paramètres du modèle
a_init = 0
b_init = 0

# Calcul de l'erreur initiale
y_pred_init = linear_regression(x, a_init, b_init)
error_init = mean_squared_error(y, y_pred_init)

# Affichage de l'erreur initiale et des données initiales
print(f"Erreur quadratique moyenne initiale: {error_init}")

plt.scatter(x,y)
plt.show()

# Mise à jour manuelle des paramètres
a_update = 1.7
b_update = 0.1

# Calcul et visualisation avec les paramètres mis à jour
y_pred_update = linear_regression(x, a_update, b_update)

# Affichage de la droite de régression mise à jour



