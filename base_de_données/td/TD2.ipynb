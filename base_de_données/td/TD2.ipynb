{
 "cells": [
  {
   "cell_type": "markdown",
   "id": "dense-titanium",
   "metadata": {},
   "source": [
    "# TD n°2 : Python"
   ]
  },
  {
   "cell_type": "code",
   "execution_count": 13,
   "id": "threatened-clearing",
   "metadata": {},
   "outputs": [],
   "source": [
    "import math\n",
    "import datetime as dt"
   ]
  },
  {
   "cell_type": "markdown",
   "id": "blocked-daisy",
   "metadata": {},
   "source": [
    "### 1. "
   ]
  },
  {
   "cell_type": "code",
   "execution_count": 14,
   "id": "sustained-forge",
   "metadata": {},
   "outputs": [
    {
     "name": "stdout",
     "output_type": "stream",
     "text": [
      "absValue(13) :  13\n",
      "absValue(-13) :  13\n"
     ]
    }
   ],
   "source": [
    "def absValue(nb):\n",
    "    if (nb < 0):\n",
    "        return -nb\n",
    "    return nb\n",
    "\n",
    "print(\"absValue(13) : \", absValue(13))\n",
    "print(\"absValue(-13) : \", absValue(-13))"
   ]
  },
  {
   "cell_type": "markdown",
   "id": "premium-opinion",
   "metadata": {},
   "source": [
    "### 2. "
   ]
  },
  {
   "cell_type": "code",
   "execution_count": 15,
   "id": "central-russell",
   "metadata": {},
   "outputs": [
    {
     "name": "stdout",
     "output_type": "stream",
     "text": [
      "est_pair(2) :  pair\n",
      "est_pair(3) :  impair\n"
     ]
    }
   ],
   "source": [
    "def est_pair(nb):\n",
    "    if (nb%2 == 0):\n",
    "        return \"pair\"\n",
    "    return \"impair\"\n",
    "\n",
    "print(\"est_pair(2) : \", est_pair(2))\n",
    "print(\"est_pair(3) : \", est_pair(3))"
   ]
  },
  {
   "cell_type": "markdown",
   "id": "vertical-retention",
   "metadata": {},
   "source": [
    "### 3. "
   ]
  },
  {
   "cell_type": "code",
   "execution_count": 16,
   "id": "round-green",
   "metadata": {},
   "outputs": [
    {
     "name": "stdout",
     "output_type": "stream",
     "text": [
      "squareRoot(9) :  3.0\n"
     ]
    }
   ],
   "source": [
    "def squareRoot(nb):\n",
    "    if (nb >= 0):\n",
    "        return math.sqrt(nb)\n",
    "    return \"entier négatif\"\n",
    "    \n",
    "print(\"squareRoot(9) : \",squareRoot(9))"
   ]
  },
  {
   "cell_type": "markdown",
   "id": "contrary-foundation",
   "metadata": {},
   "source": [
    "### 4. "
   ]
  },
  {
   "cell_type": "code",
   "execution_count": 17,
   "id": "public-namibia",
   "metadata": {},
   "outputs": [
    {
     "name": "stdout",
     "output_type": "stream",
     "text": [
      "nb_jour_mois(1) :  31\n",
      "nb_jour_mois(2) :  29\n",
      "nb_jour_mois(6) :  30\n"
     ]
    }
   ],
   "source": [
    "def nb_jour_mois(mois):\n",
    "    today = dt.date.today()\n",
    "    year = (int) (today.year)\n",
    "    if (mois == 1 or \n",
    "        mois == 3 or \n",
    "        mois == 5 or\n",
    "        mois == 7 or\n",
    "        mois == 8 or\n",
    "        mois == 10 or\n",
    "        mois == 12):\n",
    "        return 31\n",
    "    elif (mois == 4 or\n",
    "          mois == 6 or\n",
    "          mois == 9 or\n",
    "          mois == 11):\n",
    "        return 30\n",
    "    elif ((year%4 == 0 and year%100 != 0) or year%400 == 0):\n",
    "        return (29)\n",
    "    return (28)\n",
    "\n",
    "\n",
    "print(\"nb_jour_mois(1) : \", nb_jour_mois(1))\n",
    "print(\"nb_jour_mois(2) : \", nb_jour_mois(2))\n",
    "print(\"nb_jour_mois(6) : \", nb_jour_mois(6))"
   ]
  },
  {
   "cell_type": "markdown",
   "id": "imperial-reflection",
   "metadata": {},
   "source": [
    "### 5. "
   ]
  },
  {
   "cell_type": "code",
   "execution_count": 18,
   "id": "liked-train",
   "metadata": {},
   "outputs": [
    {
     "name": "stdout",
     "output_type": "stream",
     "text": [
      "secondDegree(1,2,3) :  (delta < 0) : no solution\n",
      "secondDegree(1,3,1) :  [-4.118033988749895, -1.881966011250105]\n",
      "secondDegree(0,0,0) :  0.0\n"
     ]
    }
   ],
   "source": [
    "def secondDegree(a,b,c):\n",
    "    delta = b*b - 4*a*c\n",
    "    if (delta < 0):\n",
    "        return \"(delta < 0) : no solution\"\n",
    "    elif (delta == 0):\n",
    "        return (-b / 2*a)\n",
    "    return [(-b - math.sqrt(delta)/2*a), (-b + math.sqrt(delta)/2*a)]\n",
    "\n",
    "\n",
    "print(\"secondDegree(1,2,3) : \", secondDegree(1,2,3))\n",
    "print(\"secondDegree(1,3,1) : \", secondDegree(1,3,1))\n",
    "print(\"secondDegree(0,0,0) : \", secondDegree(0,0,0))"
   ]
  },
  {
   "cell_type": "markdown",
   "id": "saving-thailand",
   "metadata": {},
   "source": [
    "### 6."
   ]
  },
  {
   "cell_type": "code",
   "execution_count": 19,
   "id": "fewer-median",
   "metadata": {},
   "outputs": [
    {
     "name": "stdout",
     "output_type": "stream",
     "text": [
      "age(4, 7, 2001) :  22 \n",
      "\n"
     ]
    }
   ],
   "source": [
    "def age(day, month, year):\n",
    "    today = dt.date.today()\n",
    "    age = today.year - year\n",
    "    if (month==today.month):\n",
    "        if (day <= today.day):\n",
    "            return age\n",
    "    elif (month < today.month):\n",
    "        return age\n",
    "    \n",
    "    return age-1\n",
    "    \n",
    "print(\"age(4, 7, 2001) : \", age(4, 7, 2001),\"\\n\")"
   ]
  },
  {
   "cell_type": "markdown",
   "id": "powerful-feelings",
   "metadata": {},
   "source": [
    "### 7. "
   ]
  },
  {
   "cell_type": "code",
   "execution_count": 20,
   "id": "speaking-honey",
   "metadata": {},
   "outputs": [
    {
     "name": "stdout",
     "output_type": "stream",
     "text": [
      "print_0_to_10() : \n",
      "0\n",
      "1\n",
      "2\n",
      "3\n",
      "4\n",
      "5\n",
      "6\n",
      "7\n",
      "8\n",
      "9\n",
      "10\n"
     ]
    }
   ],
   "source": [
    "def print_0_to_10():\n",
    "    for i in range(0,11):\n",
    "        print(i)\n",
    "\n",
    "print(\"print_0_to_10() : \")\n",
    "print_0_to_10()"
   ]
  },
  {
   "cell_type": "markdown",
   "id": "extended-installation",
   "metadata": {},
   "source": [
    "### 8. "
   ]
  },
  {
   "cell_type": "code",
   "execution_count": 21,
   "id": "prime-relative",
   "metadata": {},
   "outputs": [
    {
     "name": "stdout",
     "output_type": "stream",
     "text": [
      "print_pair(0, 40) :  [0, 2, 4, 6, 8, 10, 12, 14, 16, 18, 20, 22, 24, 26, 28, 30, 32, 34, 36, 38] \n",
      "\n"
     ]
    }
   ],
   "source": [
    "def print_pair(min, max):\n",
    "    listPair = []\n",
    "    for i in range(min,max,2):\n",
    "        listPair.append(i)\n",
    "    return listPair\n",
    "\n",
    "print(\"print_pair(0, 40) : \", print_pair(0, 40), \"\\n\")"
   ]
  },
  {
   "cell_type": "markdown",
   "id": "casual-climb",
   "metadata": {},
   "source": [
    "### 9. "
   ]
  },
  {
   "cell_type": "code",
   "execution_count": 22,
   "id": "municipal-algebra",
   "metadata": {},
   "outputs": [
    {
     "name": "stdout",
     "output_type": "stream",
     "text": [
      "mult_3(0, 40) :  [0, 3, 6, 9, 12, 15, 18, 21, 24, 27, 30, 33, 36, 39] \n",
      "\n"
     ]
    }
   ],
   "source": [
    "def mult_3(min, max):\n",
    "    listMult3 = []\n",
    "    toPrint = \"\"\n",
    "    for i in range(min, max+1):\n",
    "        if (i%3 == 0):\n",
    "            listMult3.append(i)\n",
    "    return listMult3\n",
    "\n",
    "print(\"mult_3(0, 40) : \", mult_3(0,40), \"\\n\")"
   ]
  },
  {
   "cell_type": "markdown",
   "id": "suspected-africa",
   "metadata": {},
   "source": [
    "### 10."
   ]
  },
  {
   "cell_type": "code",
   "execution_count": 23,
   "id": "understood-allergy",
   "metadata": {},
   "outputs": [
    {
     "name": "stdout",
     "output_type": "stream",
     "text": [
      "Lettres extraites de la phrase : poyo\n"
     ]
    }
   ],
   "source": [
    "# Programme qui filtre et affiche seulement les lettres d'une phrase\n",
    "phrase = input(\"Saisissez une phrase : \")\n",
    "lettres = ''.join(filter(str.isalpha, phrase))\n",
    "print(\"Lettres extraites de la phrase :\", lettres) "
   ]
  },
  {
   "cell_type": "markdown",
   "id": "available-disability",
   "metadata": {},
   "source": [
    "### 11."
   ]
  },
  {
   "cell_type": "code",
   "execution_count": 24,
   "id": "civilian-administrator",
   "metadata": {},
   "outputs": [
    {
     "name": "stdout",
     "output_type": "stream",
     "text": [
      "La factorielle de 10 est 3628800\n"
     ]
    }
   ],
   "source": [
    "# Programme pour calculer la factorielle d'un nombre\n",
    "nombre = int(input(\"Saisissez un nombre pour calculer sa factorielle : \"))\n",
    "factorielle = 1\n",
    "for i in range(1, nombre + 1):\n",
    "    factorielle *= i\n",
    "print(\"La factorielle de\", nombre, \"est\", factorielle)"
   ]
  },
  {
   "cell_type": "markdown",
   "id": "surgical-murder",
   "metadata": {},
   "source": [
    "### 12. "
   ]
  },
  {
   "cell_type": "code",
   "execution_count": 25,
   "id": "subtle-reflection",
   "metadata": {},
   "outputs": [
    {
     "name": "stdout",
     "output_type": "stream",
     "text": [
      "Le nombre 153 est cubique car 153 = 153\n",
      "Le nombre 370 est cubique car 370 = 370\n",
      "Le nombre 371 est cubique car 371 = 371\n",
      "Le nombre 407 est cubique car 407 = 407\n"
     ]
    }
   ],
   "source": [
    "# Programme pour afficher tous les nombres cubiques de trois chiffres\n",
    "for number in range(100, 1000):\n",
    "    sum_of_cubes = sum(int(digit)**3 for digit in str(number))\n",
    "    if number == sum_of_cubes:\n",
    "        print(f\"Le nombre {number} est cubique car {sum_of_cubes} = {number}\")"
   ]
  },
  {
   "cell_type": "markdown",
   "id": "antique-fleet",
   "metadata": {},
   "source": [
    "### 13. "
   ]
  },
  {
   "cell_type": "code",
   "execution_count": 26,
   "id": "graduate-shoot",
   "metadata": {},
   "outputs": [
    {
     "name": "stdout",
     "output_type": "stream",
     "text": [
      "Accès refusé.\n"
     ]
    }
   ],
   "source": [
    "# Programme qui demande un mot de passe et affiche un message si correct\n",
    "mot_de_passe = \"Hello python\"\n",
    "tentative = input(\"Saisissez le mot de passe : \")\n",
    "if tentative == mot_de_passe:\n",
    "    print(\"Accès autorisé.\")\n",
    "else:\n",
    "    print(\"Accès refusé.\")"
   ]
  },
  {
   "cell_type": "markdown",
   "id": "restricted-warren",
   "metadata": {},
   "source": [
    "###  14."
   ]
  },
  {
   "cell_type": "code",
   "execution_count": null,
   "id": "downtown-status",
   "metadata": {},
   "outputs": [],
   "source": []
  },
  {
   "cell_type": "markdown",
   "id": "increasing-continuity",
   "metadata": {},
   "source": [
    "### 15. "
   ]
  },
  {
   "cell_type": "code",
   "execution_count": null,
   "id": "different-nickname",
   "metadata": {},
   "outputs": [],
   "source": []
  },
  {
   "cell_type": "markdown",
   "id": "expressed-breach",
   "metadata": {},
   "source": [
    "### 16. "
   ]
  },
  {
   "cell_type": "code",
   "execution_count": null,
   "id": "federal-aviation",
   "metadata": {},
   "outputs": [],
   "source": []
  },
  {
   "cell_type": "markdown",
   "id": "dimensional-isaac",
   "metadata": {},
   "source": [
    "### 17. "
   ]
  },
  {
   "cell_type": "code",
   "execution_count": null,
   "id": "indie-thong",
   "metadata": {},
   "outputs": [],
   "source": []
  },
  {
   "cell_type": "markdown",
   "id": "intelligent-ability",
   "metadata": {},
   "source": [
    "### 18."
   ]
  },
  {
   "cell_type": "code",
   "execution_count": null,
   "id": "religious-dressing",
   "metadata": {},
   "outputs": [],
   "source": []
  },
  {
   "cell_type": "markdown",
   "id": "utility-royalty",
   "metadata": {},
   "source": [
    "### 19. "
   ]
  },
  {
   "cell_type": "code",
   "execution_count": null,
   "id": "strong-speaking",
   "metadata": {},
   "outputs": [],
   "source": []
  },
  {
   "cell_type": "markdown",
   "id": "falling-corpus",
   "metadata": {},
   "source": [
    "### 20. "
   ]
  },
  {
   "cell_type": "code",
   "execution_count": 27,
   "id": "different-procedure",
   "metadata": {},
   "outputs": [
    {
     "name": "stdout",
     "output_type": "stream",
     "text": [
      "['vive', 'python', '(#ironie)']\n"
     ]
    }
   ],
   "source": [
    "string = \"vive python (#ironie)\"\n",
    "parseList = string.split(\" \")\n",
    "\n",
    "print(parseList)"
   ]
  }
 ],
 "metadata": {
  "kernelspec": {
   "display_name": "Python 3",
   "language": "python",
   "name": "python3"
  },
  "language_info": {
   "codemirror_mode": {
    "name": "ipython",
    "version": 3
   },
   "file_extension": ".py",
   "mimetype": "text/x-python",
   "name": "python",
   "nbconvert_exporter": "python",
   "pygments_lexer": "ipython3",
   "version": "3.9.2"
  }
 },
 "nbformat": 4,
 "nbformat_minor": 5
}
