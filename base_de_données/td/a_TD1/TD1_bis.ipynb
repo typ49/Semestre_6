{
 "cells": [
  {
   "cell_type": "markdown",
   "id": "empty-identifier",
   "metadata": {},
   "source": [
    "# TD n°1_bis : Manipulation des tenseurs sous NumPy\n",
    "## Création de tableaux (arrays)"
   ]
  },
  {
   "cell_type": "code",
   "execution_count": 1,
   "id": "amber-winner",
   "metadata": {},
   "outputs": [],
   "source": [
    "import numpy as np"
   ]
  },
  {
   "cell_type": "markdown",
   "id": "numerical-vehicle",
   "metadata": {},
   "source": [
    "### 1."
   ]
  },
  {
   "cell_type": "code",
   "execution_count": 2,
   "id": "beautiful-implementation",
   "metadata": {},
   "outputs": [
    {
     "name": "stdout",
     "output_type": "stream",
     "text": [
      "[0. 0. 0. 0. 0.]\n"
     ]
    }
   ],
   "source": [
    "array_F = np.zeros(5)\n",
    "print(array_F)"
   ]
  },
  {
   "cell_type": "markdown",
   "id": "ready-bermuda",
   "metadata": {},
   "source": [
    "### 2. "
   ]
  },
  {
   "cell_type": "code",
   "execution_count": 3,
   "id": "ignored-playing",
   "metadata": {},
   "outputs": [
    {
     "name": "stdout",
     "output_type": "stream",
     "text": [
      "[[0 0 0 0]\n",
      " [0 0 0 0]\n",
      " [0 0 0 0]]\n"
     ]
    }
   ],
   "source": [
    "array = np.array([[0,0,0,0],\n",
    "                  [0,0,0,0],\n",
    "                  [0,0,0,0]])\n",
    "print(array)"
   ]
  },
  {
   "cell_type": "markdown",
   "id": "related-shipping",
   "metadata": {},
   "source": [
    "### 3."
   ]
  },
  {
   "cell_type": "code",
   "execution_count": 4,
   "id": "acute-guitar",
   "metadata": {},
   "outputs": [
    {
     "name": "stdout",
     "output_type": "stream",
     "text": [
      "dimension :  2\n",
      "forme :  (8, 5)\n",
      "taille :  40\n"
     ]
    }
   ],
   "source": [
    "tab = np.random.random((8,5))\n",
    "print(\"dimension : \", tab.ndim)\n",
    "print(\"forme : \", tab.shape)\n",
    "print(\"taille : \", tab.size)"
   ]
  },
  {
   "cell_type": "markdown",
   "id": "dirty-hacker",
   "metadata": {},
   "source": [
    "### 4."
   ]
  },
  {
   "cell_type": "code",
   "execution_count": 5,
   "id": "chemical-consideration",
   "metadata": {},
   "outputs": [
    {
     "name": "stdout",
     "output_type": "stream",
     "text": [
      "dimension :  3\n",
      "forme :  (2, 3, 4)\n",
      "taille :  24\n"
     ]
    }
   ],
   "source": [
    "array3D = np.random.random((2,3,4))\n",
    "print(\"dimension : \",array3D.ndim)\n",
    "print(\"forme : \", array3D.shape)\n",
    "print(\"taille : \", array3D.size)"
   ]
  },
  {
   "cell_type": "markdown",
   "id": "closed-truck",
   "metadata": {},
   "source": [
    "### 5. "
   ]
  },
  {
   "cell_type": "code",
   "execution_count": 6,
   "id": "subtle-dayton",
   "metadata": {},
   "outputs": [
    {
     "name": "stdout",
     "output_type": "stream",
     "text": [
      "[[3.14159265 3.14159265 3.14159265 3.14159265]\n",
      " [3.14159265 3.14159265 3.14159265 3.14159265]\n",
      " [3.14159265 3.14159265 3.14159265 3.14159265]]\n"
     ]
    }
   ],
   "source": [
    "arrayPi = np.full((3, 4), np.pi)\n",
    "print(arrayPi)"
   ]
  },
  {
   "cell_type": "markdown",
   "id": "spiritual-saturn",
   "metadata": {},
   "source": [
    "### 6. "
   ]
  },
  {
   "cell_type": "code",
   "execution_count": 7,
   "id": "blocked-success",
   "metadata": {},
   "outputs": [
    {
     "name": "stdout",
     "output_type": "stream",
     "text": [
      "Empty array: [[6.75285571e-310 6.75285571e-310 2.22809558e-312]\n",
      " [6.12673464e-062 6.75801667e-067 3.37985179e-057]\n",
      " [2.77123562e-057 1.25757832e-071 2.25426899e+180]]\n",
      "Ones array: [[1. 1. 1.]\n",
      " [1. 1. 1.]\n",
      " [1. 1. 1.]]\n",
      "Arange array: [0 1 2 3 4 5 6 7 8 9]\n"
     ]
    }
   ],
   "source": [
    "empty_array = np.empty((3, 3))\n",
    "print('Empty array:', empty_array)\n",
    "\n",
    "ones_array = np.ones((3, 3))\n",
    "print('Ones array:', ones_array)\n",
    "\n",
    "arange_array = np.arange(10)\n",
    "print('Arange array:', arange_array)"
   ]
  },
  {
   "cell_type": "markdown",
   "id": "round-hybrid",
   "metadata": {},
   "source": [
    "### 7. "
   ]
  },
  {
   "cell_type": "code",
   "execution_count": 8,
   "id": "planned-strengthening",
   "metadata": {},
   "outputs": [
    {
     "name": "stdout",
     "output_type": "stream",
     "text": [
      "Rand array: [[0.1105752  0.6644333  0.82148385]\n",
      " [0.09750883 0.67001712 0.86355307]\n",
      " [0.92686452 0.44200701 0.90304322]]\n",
      "Randn array: [[-0.9065279  -0.1283642  -0.67504073]\n",
      " [-0.27982301 -1.23709157  1.2655948 ]\n",
      " [-0.33699166 -0.82639585  0.29127225]]\n"
     ]
    }
   ],
   "source": [
    "# np.rand() n'existe pas, peut-être l'intention était d'utiliser np.random.rand()\n",
    "rand_array = np.random.rand(3, 3)\n",
    "print('Rand array:', rand_array)\n",
    "\n",
    "randn_array = np.random.randn(3, 3)\n",
    "print('Randn array:', randn_array)"
   ]
  },
  {
   "cell_type": "markdown",
   "id": "responsible-stockholm",
   "metadata": {},
   "source": [
    "### 8. "
   ]
  },
  {
   "cell_type": "code",
   "execution_count": 9,
   "id": "ordered-uzbekistan",
   "metadata": {},
   "outputs": [
    {
     "data": {
      "image/png": "[encoded data removed]",
      "text/plain": [
       "<Figure size 432x288 with 1 Axes>"
      ]
     },
     "metadata": {
      "needs_background": "light"
     },
     "output_type": "display_data"
    }
   ],
   "source": [
    "import matplotlib.pyplot as plt\n",
    "\n",
    "x = np.linspace(-2.5, 2.5, 1000)\n",
    "y_rand = np.random.rand(1000)\n",
    "y_randn = np.random.randn(1000)\n",
    "\n",
    "plt.plot(x, y_rand, label='rand')\n",
    "plt.plot(x, y_randn, label='randn')\n",
    "plt.legend()\n",
    "\n",
    "plt.show()"
   ]
  },
  {
   "cell_type": "markdown",
   "id": "detailed-compound",
   "metadata": {},
   "source": [
    "### 9. "
   ]
  },
  {
   "cell_type": "code",
   "execution_count": 10,
   "id": "subjective-prince",
   "metadata": {},
   "outputs": [
    {
     "name": "stdout",
     "output_type": "stream",
     "text": [
      "Original array:\n",
      " [[ 0  1  2  3]\n",
      " [ 4  5  6  7]\n",
      " [ 8  9 10 11]\n",
      " [12 13 14 15]]\n",
      "\n",
      "Reshaped array:\n",
      " [[ 0  1  2  3  4  5  6  7]\n",
      " [ 8  9 10 11 12 13 14 15]]\n"
     ]
    }
   ],
   "source": [
    "array6 = np.arange(16).reshape(4, 4)\n",
    "print('Original array:\\n', array6)\n",
    "\n",
    "reshaped_array = array6.reshape(2, 8)\n",
    "print('\\nReshaped array:\\n', reshaped_array)"
   ]
  }
 ],
 "metadata": {
  "kernelspec": {
   "display_name": "Python 3",
   "language": "python",
   "name": "python3"
  },
  "language_info": {
   "codemirror_mode": {
    "name": "ipython",
    "version": 3
   },
   "file_extension": ".py",
   "mimetype": "text/x-python",
   "name": "python",
   "nbconvert_exporter": "python",
   "pygments_lexer": "ipython3",
   "version": "3.9.2"
  }
 },
 "nbformat": 4,
 "nbformat_minor": 5
}
