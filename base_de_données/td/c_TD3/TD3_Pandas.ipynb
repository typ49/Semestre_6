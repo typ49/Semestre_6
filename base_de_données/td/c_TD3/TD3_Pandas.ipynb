{
 "cells": [
  {
   "cell_type": "code",
   "execution_count": 1,
   "id": "coupled-reggae",
   "metadata": {},
   "outputs": [
    {
     "name": "stdout",
     "output_type": "stream",
     "text": [
      "Les deux séries sont-elles égales ? True\n"
     ]
    },
    {
     "name": "stderr",
     "output_type": "stream",
     "text": [
      "<ipython-input-1-390f6f5ad0e4>:1: DeprecationWarning: \n",
      "Pyarrow will become a required dependency of pandas in the next major release of pandas (pandas 3.0),\n",
      "(to allow more performant data types, such as the Arrow string type, and better interoperability with other libraries)\n",
      "but was not found to be installed on your system.\n",
      "If this would cause problems for you,\n",
      "please provide us feedback at https://github.com/pandas-dev/pandas/issues/54466\n",
      "        \n",
      "  import pandas as pd\n"
     ]
    }
   ],
   "source": [
    "import pandas as pd\n",
    "\n",
    "# Sample data\n",
    "data1 = [1, 8, 7, 5, 6, 5, 3, 4, 7, 1]\n",
    "data2 = [1, 8, 7, 5, 6, 5, 3, 4, 7, 1]\n",
    "\n",
    "# Création de deux séries Pandas\n",
    "serie1 = pd.Series(data1)\n",
    "serie2 = pd.Series(data2)\n",
    "\n",
    "# Vérification de l'égalité des deux séries\n",
    "egalite = serie1.equals(serie2)\n",
    "\n",
    "print(\"Les deux séries sont-elles égales ?\", egalite)"
   ]
  },
  {
   "cell_type": "code",
   "execution_count": null,
   "id": "small-brand",
   "metadata": {},
   "outputs": [],
   "source": []
  }
 ],
 "metadata": {
  "kernelspec": {
   "display_name": "Python 3",
   "language": "python",
   "name": "python3"
  },
  "language_info": {
   "codemirror_mode": {
    "name": "ipython",
    "version": 3
   },
   "file_extension": ".py",
   "mimetype": "text/x-python",
   "name": "python",
   "nbconvert_exporter": "python",
   "pygments_lexer": "ipython3",
   "version": "3.9.2"
  }
 },
 "nbformat": 4,
 "nbformat_minor": 5
}
