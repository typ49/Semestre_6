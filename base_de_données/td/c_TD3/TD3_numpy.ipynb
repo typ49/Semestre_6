{
 "cells": [
  {
   "cell_type": "markdown",
   "id": "arctic-hepatitis",
   "metadata": {},
   "source": [
    "# TD n°3 - Numpy (Slicing) "
   ]
  },
  {
   "cell_type": "markdown",
   "id": "mineral-jewel",
   "metadata": {},
   "source": [
    "## 1)"
   ]
  },
  {
   "cell_type": "code",
   "execution_count": 1,
   "id": "consolidated-pavilion",
   "metadata": {},
   "outputs": [
    {
     "name": "stdout",
     "output_type": "stream",
     "text": [
      "Liste discrète : [0.05263157894736842, 0.15789473684210525, 0.3157894736842105, 0.47368421052631576, 0.5263157894736842, 0.7894736842105263, 0.9473684210526315]\n"
     ]
    }
   ],
   "source": [
    "def discretiser_liste(nombres, nb_points=20):\n",
    "    # Calcul de l'intervalle entre les points équidistants\n",
    "    intervalle = 1 / (nb_points - 1)\n",
    "    \n",
    "    # Génération des points équidistants\n",
    "    points_equidistants = [i * intervalle for i in range(nb_points)]\n",
    "    \n",
    "    # Discrétisation de la liste\n",
    "    liste_discrete = []\n",
    "    for nombre in nombres:\n",
    "        # Trouver le point équidistant le plus proche\n",
    "        point_proche = min(points_equidistants, key=lambda point: abs(point - nombre))\n",
    "        liste_discrete.append(point_proche)\n",
    "    \n",
    "    return liste_discrete\n",
    "\n",
    "# Exemple d'utilisation\n",
    "nombres = [0.05, 0.18, 0.33, 0.47, 0.52, 0.81, 0.95]  # La liste à discrétiser\n",
    "liste_discrete = discretiser_liste(nombres)\n",
    "\n",
    "print(\"Liste discrète :\", liste_discrete)\n"
   ]
  },
  {
   "cell_type": "markdown",
   "id": "third-channels",
   "metadata": {},
   "source": [
    "## 2) "
   ]
  },
  {
   "cell_type": "code",
   "execution_count": 2,
   "id": "solved-alberta",
   "metadata": {},
   "outputs": [],
   "source": [
    "import numpy as np\n",
    "\n",
    "tableau = np.array([0, 2, 4, 8, 10, 12])"
   ]
  },
  {
   "cell_type": "markdown",
   "id": "boolean-alexandria",
   "metadata": {},
   "source": [
    "## 3)"
   ]
  },
  {
   "cell_type": "code",
   "execution_count": 3,
   "id": "younger-weight",
   "metadata": {},
   "outputs": [
    {
     "data": {
      "image/png": "[encoded data removed]",
      "text/plain": [
       "<Figure size 432x288 with 1 Axes>"
      ]
     },
     "metadata": {
      "needs_background": "light"
     },
     "output_type": "display_data"
    }
   ],
   "source": [
    "import matplotlib.pyplot as plt\n",
    "\n",
    "# Supposons que 'x' et 'y' sont vos coordonnées pour le nuage de points.\n",
    "x = np.array([0, 1, 2, 3, 4, 5, 6])  # Remplissez avec les abscisses des points\n",
    "y = np.array([15.5, 16, 17, 14, 13, 18.5, 16])  # Remplissez avec les ordonnées des points\n",
    "\n",
    "plt.scatter(x, y)\n",
    "plt.show()\n"
   ]
  },
  {
   "cell_type": "markdown",
   "id": "center-joshua",
   "metadata": {},
   "source": [
    "## 4)"
   ]
  },
  {
   "cell_type": "code",
   "execution_count": 4,
   "id": "outer-chicken",
   "metadata": {},
   "outputs": [],
   "source": [
    "# Matrices à assembler\n",
    "A = np.ones((3, 2))\n",
    "B = np.zeros((3, 2))\n",
    "\n",
    "# Assemblage horizontal\n",
    "C = np.hstack((A, B))\n",
    "\n",
    "# Assemblage vertical\n",
    "D = np.vstack((A, B))\n"
   ]
  },
  {
   "cell_type": "markdown",
   "id": "nutritional-behalf",
   "metadata": {},
   "source": [
    "## 5) "
   ]
  },
  {
   "cell_type": "code",
   "execution_count": 5,
   "id": "raising-bargain",
   "metadata": {},
   "outputs": [],
   "source": [
    "premiere_colonne = A[:, 0]\n",
    "premiere_ligne = A[0, :]"
   ]
  },
  {
   "cell_type": "markdown",
   "id": "exact-studio",
   "metadata": {},
   "source": [
    "## 6) "
   ]
  },
  {
   "cell_type": "code",
   "execution_count": 6,
   "id": "muslim-garden",
   "metadata": {},
   "outputs": [],
   "source": [
    "A[:2, :2] = 10  # Remplace le quadrant supérieur gauche par 10"
   ]
  },
  {
   "cell_type": "markdown",
   "id": "affecting-hearts",
   "metadata": {},
   "source": [
    "## 7) "
   ]
  },
  {
   "cell_type": "code",
   "execution_count": 7,
   "id": "dental-steps",
   "metadata": {},
   "outputs": [],
   "source": [
    "B = np.ones_like(A)  # Crée une matrice de même forme que A remplie de 1\n",
    "A = B.copy()         # Remplace A par une copie de B"
   ]
  },
  {
   "cell_type": "markdown",
   "id": "front-culture",
   "metadata": {},
   "source": [
    "## 8) "
   ]
  },
  {
   "cell_type": "code",
   "execution_count": 12,
   "id": "developing-reading",
   "metadata": {},
   "outputs": [
    {
     "ename": "TypeError",
     "evalue": "list indices must be integers or slices, not list",
     "output_type": "error",
     "traceback": [
      "\u001b[0;31m---------------------------------------------------------------------------\u001b[0m",
      "\u001b[0;31mTypeError\u001b[0m                                 Traceback (most recent call last)",
      "\u001b[0;32m<ipython-input-12-791595caec4e>\u001b[0m in \u001b[0;36m<module>\u001b[0;34m\u001b[0m\n\u001b[1;32m      3\u001b[0m \u001b[0;34m\u001b[0m\u001b[0m\n\u001b[1;32m      4\u001b[0m \u001b[0;31m# Supposons que 'matrice' est votre matrice d'origine\u001b[0m\u001b[0;34m\u001b[0m\u001b[0;34m\u001b[0m\u001b[0;34m\u001b[0m\u001b[0m\n\u001b[0;32m----> 5\u001b[0;31m \u001b[0mzones_vertes\u001b[0m \u001b[0;34m=\u001b[0m \u001b[0mmatrice\u001b[0m\u001b[0;34m[\u001b[0m\u001b[0mconditions\u001b[0m\u001b[0;34m]\u001b[0m  \u001b[0;31m# 'conditions' est un array booléen indiquant les zones vertes\u001b[0m\u001b[0;34m\u001b[0m\u001b[0;34m\u001b[0m\u001b[0m\n\u001b[0m\u001b[1;32m      6\u001b[0m \u001b[0;34m\u001b[0m\u001b[0m\n\u001b[1;32m      7\u001b[0m \u001b[0;31m# Exemple de matrice 6x6\u001b[0m\u001b[0;34m\u001b[0m\u001b[0;34m\u001b[0m\u001b[0;34m\u001b[0m\u001b[0m\n",
      "\u001b[0;31mTypeError\u001b[0m: list indices must be integers or slices, not list"
     ]
    }
   ],
   "source": [
    "matrice = []\n",
    "conditions = [True, True, True, False, False, True]\n",
    "\n",
    "# Supposons que 'matrice' est votre matrice d'origine\n",
    "zones_vertes = matrice[conditions]  # 'conditions' est un array booléen indiquant les zones vertes\n",
    "\n",
    "# Exemple de matrice 6x6\n",
    "matrice = np.arange(36).reshape(6, 6)\n",
    "\n",
    "# Création d'un masque pour les \"zones vertes\"\n",
    "masque = np.zeros_like(matrice, dtype=bool)\n",
    "masque[::2, 1::2] = True  # Sélection des zones vertes\n",
    "\n",
    "# Extraction des zones vertes\n",
    "zones_vertes = matrice[masque]\n",
    "\n",
    "print(zones_vertes)"
   ]
  },
  {
   "cell_type": "markdown",
   "id": "royal-shower",
   "metadata": {},
   "source": [
    "## 9) "
   ]
  },
  {
   "cell_type": "code",
   "execution_count": null,
   "id": "logical-dictionary",
   "metadata": {},
   "outputs": [],
   "source": []
  },
  {
   "cell_type": "markdown",
   "id": "extreme-ethics",
   "metadata": {},
   "source": [
    "## 10)"
   ]
  },
  {
   "cell_type": "code",
   "execution_count": null,
   "id": "optical-denial",
   "metadata": {},
   "outputs": [],
   "source": []
  },
  {
   "cell_type": "markdown",
   "id": "hungarian-staff",
   "metadata": {},
   "source": [
    "## 11) "
   ]
  },
  {
   "cell_type": "code",
   "execution_count": null,
   "id": "statewide-indie",
   "metadata": {},
   "outputs": [],
   "source": []
  }
 ],
 "metadata": {
  "kernelspec": {
   "display_name": "Python 3",
   "language": "python",
   "name": "python3"
  },
  "language_info": {
   "codemirror_mode": {
    "name": "ipython",
    "version": 3
   },
   "file_extension": ".py",
   "mimetype": "text/x-python",
   "name": "python",
   "nbconvert_exporter": "python",
   "pygments_lexer": "ipython3",
   "version": "3.9.2"
  }
 },
 "nbformat": 4,
 "nbformat_minor": 5
}
