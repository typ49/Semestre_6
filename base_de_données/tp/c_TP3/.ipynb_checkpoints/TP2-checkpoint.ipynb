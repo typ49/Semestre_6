{
 "cells": [
  {
   "cell_type": "markdown",
   "id": "b0cd0f21-7fc9-4349-8cc7-ff7283685c9f",
   "metadata": {},
   "source": [
    "# TP2"
   ]
  },
  {
   "cell_type": "code",
   "execution_count": 1,
   "id": "d4d8fea6-d8b7-4443-96f7-b22c18cfb402",
   "metadata": {},
   "outputs": [
    {
     "name": "stdout",
     "output_type": "stream",
     "text": [
      "Requirement already satisfied: scikit-learn in /home/juliengauthier410/anaconda3/lib/python3.11/site-packages (1.4.1.post1)\n",
      "Requirement already satisfied: numpy<2.0,>=1.19.5 in /home/juliengauthier410/anaconda3/lib/python3.11/site-packages (from scikit-learn) (1.26.4)\n",
      "Requirement already satisfied: scipy>=1.6.0 in /home/juliengauthier410/anaconda3/lib/python3.11/site-packages (from scikit-learn) (1.11.4)\n",
      "Requirement already satisfied: joblib>=1.2.0 in /home/juliengauthier410/anaconda3/lib/python3.11/site-packages (from scikit-learn) (1.2.0)\n",
      "Requirement already satisfied: threadpoolctl>=2.0.0 in /home/juliengauthier410/anaconda3/lib/python3.11/site-packages (from scikit-learn) (2.2.0)\n",
      "Note: you may need to restart the kernel to use updated packages.\n"
     ]
    }
   ],
   "source": [
    "pip install scikit-learn"
   ]
  },
  {
   "cell_type": "code",
   "execution_count": null,
   "id": "b78b0cc9-e9d8-4676-a6e0-997b857b87a9",
   "metadata": {},
   "outputs": [],
   "source": [
    "# 1. Importation des packages et classes nécessaires\n",
    "import numpy as np\n",
    "from sklearn.datasets import make_regression\n",
    "from sklearn.linear_model import LinearRegression\n",
    "from sklearn.model_selection import train_test_split\n",
    "from sklearn.metrics import mean_squared_error\n",
    "\n",
    "\n",
    "# 2. Génération des échantillons\n",
    "x, y = make_regression(n_samples=100, n_features=3, noise=0.1)\n",
    "\n",
    "# 3. Impression des premières valeurs\n",
    "print(\"Les 5 premières valeurs de x:\", x[:5])\n",
    "print(\"Les 5 premières valeurs de y:\", y[:5])\n",
    "\n",
    "# Création d'un jeu de données d'entraînement et de test\n",
    "x_train, x_test, y_train, y_test = train_test_split(x, y, test_size=0.2, random_state=42)\n",
    "\n",
    "# 4. Création et entraînement du modèle\n",
    "model_linReg = LinearRegression()\n",
    "model_linReg.fit(x_train, y_train)\n",
    "\"\"\"\n",
    "# 5. Faire quelques prédictions\n",
    "predictions = model_linReg.predict(x_test)\n",
    "print(\"Quelques prédictions:\", predictions[:5])\n",
    "\n",
    "# Calcul de l'erreur quadratique moyenne (MSE)\n",
    "mse = mean_squared_error(y_test, predictions)\n",
    "print(\"Erreur quadratique moyenne (MSE):\", mse)\n",
    "\n",
    "# Calcul de la précision du modèle\n",
    "score = model_linReg.score(x_test, y_test)\n",
    "print(\"Précision du modèle:\", score)\n",
    "\"\"\""
   ]
  },
  {
   "cell_type": "code",
   "execution_count": null,
   "id": "09923516-8070-45dd-ad65-81d4c8a1a68c",
   "metadata": {},
   "outputs": [],
   "source": []
  }
 ],
 "metadata": {
  "kernelspec": {
   "display_name": "Python 3 (ipykernel)",
   "language": "python",
   "name": "python3"
  },
  "language_info": {
   "codemirror_mode": {
    "name": "ipython",
    "version": 3
   },
   "file_extension": ".py",
   "mimetype": "text/x-python",
   "name": "python",
   "nbconvert_exporter": "python",
   "pygments_lexer": "ipython3",
   "version": "3.11.7"
  }
 },
 "nbformat": 4,
 "nbformat_minor": 5
}
