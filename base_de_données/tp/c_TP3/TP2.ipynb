{
 "cells": [
  {
   "cell_type": "markdown",
   "id": "b0cd0f21-7fc9-4349-8cc7-ff7283685c9f",
   "metadata": {},
   "source": [
    "# TP2"
   ]
  },
  {
   "cell_type": "code",
   "execution_count": 1,
   "id": "d7b4ff04-746c-4880-be96-182f0c6c5c6c",
   "metadata": {},
   "outputs": [
    {
     "name": "stdout",
     "output_type": "stream",
     "text": [
      "Requirement already satisfied: numpy in /home/juliengauthier410/anaconda3/envs/TP2/lib/python3.12/site-packages (1.26.4)\n",
      "Requirement already satisfied: scipy in /home/juliengauthier410/anaconda3/envs/TP2/lib/python3.12/site-packages (1.12.0)\n",
      "Requirement already satisfied: scikit-learn in /home/juliengauthier410/anaconda3/envs/TP2/lib/python3.12/site-packages (1.4.1.post1)\n",
      "Requirement already satisfied: joblib>=1.2.0 in /home/juliengauthier410/anaconda3/envs/TP2/lib/python3.12/site-packages (from scikit-learn) (1.2.0)\n",
      "Requirement already satisfied: threadpoolctl>=2.0.0 in /home/juliengauthier410/anaconda3/envs/TP2/lib/python3.12/site-packages (from scikit-learn) (2.2.0)\n",
      "Note: you may need to restart the kernel to use updated packages.\n"
     ]
    }
   ],
   "source": [
    "pip install --upgrade numpy scipy scikit-learn"
   ]
  },
  {
   "cell_type": "code",
   "execution_count": null,
   "id": "f25329df-e746-4395-9326-4695fabdb876",
   "metadata": {},
   "outputs": [],
   "source": [
    "# 1. Importation des packages et classes nécessaires\n",
    "import numpy as np\n",
    "from sklearn.datasets import make_regression\n",
    "from sklearn.linear_model import LinearRegression\n",
    "from sklearn.model_selection import train_test_split\n",
    "from sklearn.metrics import mean_squared_error\n",
    "\n",
    "# 2. Génération des échantillons\n",
    "x, y = make_regression(n_samples=100, n_features=3, noise=0.1)\n",
    "\n",
    "# Nettoyage des données: Assurez-vous qu'il n'y a pas de valeurs infinies ou NaN\n",
    "x = np.nan_to_num(x)\n",
    "y = np.nan_to_num(y)\n",
    "\n",
    "# 3. Impression des premières valeurs\n",
    "print(\"Les 5 premières valeurs de x:\", x[:5])\n",
    "print(\"Les 5 premières valeurs de y:\", y[:5])\n",
    "\n",
    "# Création d'un jeu de données d'entraînement et de test\n",
    "x_train, x_test, y_train, y_test = train_test_split(x, y, test_size=0.2, random_state=42)\n",
    "\n",
    "# 4. Création et entraînement du modèle\n",
    "model_linReg = LinearRegression()\n",
    "model_linReg.fit(x_train, y_train)  # Utilisation de toutes les données d'entraînement\n",
    "\n",
    "# 5. Faire quelques prédictions\n",
    "predictions = model_linReg.predict(x_test)\n",
    "print(\"Quelques prédictions:\", predictions[:5])\n",
    "\n",
    "# Calcul de l'erreur quadratique moyenne (MSE)\n",
    "mse = mean_squared_error(y_test, predictions)\n",
    "print(\"Erreur quadratique moyenne (MSE):\", mse)\n",
    "\n",
    "# Calcul de la précision du modèle\n",
    "score = model_linReg.score(x_test, y_test)\n",
    "print(\"Précision du modèle:\", score)"
   ]
  }
 ],
 "metadata": {
  "kernelspec": {
   "display_name": "Python 3 (ipykernel)",
   "language": "python",
   "name": "python3"
  },
  "language_info": {
   "codemirror_mode": {
    "name": "ipython",
    "version": 3
   },
   "file_extension": ".py",
   "mimetype": "text/x-python",
   "name": "python",
   "nbconvert_exporter": "python",
   "pygments_lexer": "ipython3",
   "version": "3.12.2"
  }
 },
 "nbformat": 4,
 "nbformat_minor": 5
}
