


pip install scikit-learn


# 1. Importation des packages et classes nécessaires
import numpy as np
from sklearn.datasets import make_regression
from sklearn.linear_model import LinearRegression
from sklearn.model_selection import train_test_split
from sklearn.metrics import mean_squared_error


# 2. Génération des échantillons
x, y = make_regression(n_samples=100, n_features=3, noise=0.1)

# 3. Impression des premières valeurs
print("Les 5 premières valeurs de x:", x[:5])
print("Les 5 premières valeurs de y:", y[:5])

# Création d'un jeu de données d'entraînement et de test
x_train, x_test, y_train, y_test = train_test_split(x, y, test_size=0.2, random_state=42)

# 4. Création et entraînement du modèle
model_linReg = LinearRegression()
model_linReg.fit(x_train, y_train)
"""
# 5. Faire quelques prédictions
predictions = model_linReg.predict(x_test)
print("Quelques prédictions:", predictions[:5])

# Calcul de l'erreur quadratique moyenne (MSE)
mse = mean_squared_error(y_test, predictions)
print("Erreur quadratique moyenne (MSE):", mse)

# Calcul de la précision du modèle
score = model_linReg.score(x_test, y_test)
print("Précision du modèle:", score)
"""



