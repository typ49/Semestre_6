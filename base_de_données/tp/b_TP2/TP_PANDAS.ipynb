{
 "cells": [
  {
   "cell_type": "markdown",
   "id": "5f7d1758-ae5e-4ade-8b1b-74784ce47f51",
   "metadata": {},
   "source": [
    "# TP : PANDAS"
   ]
  },
  {
   "cell_type": "markdown",
   "id": "2cfaa71b-99a3-4263-96f6-07527ece528c",
   "metadata": {},
   "source": [
    "### Julien Gauthier "
   ]
  },
  {
   "cell_type": "code",
   "execution_count": 1,
   "id": "02a7d580-03d9-4b91-ba67-8c037674f1ca",
   "metadata": {},
   "outputs": [],
   "source": [
    "import numpy as np\n",
    "import pandas as pd\n",
    "import matplotlib as mpl"
   ]
  },
  {
   "cell_type": "markdown",
   "id": "c8257ca3-15cf-4c88-944e-7a48fec5d77c",
   "metadata": {},
   "source": [
    "## Introduction "
   ]
  },
  {
   "cell_type": "markdown",
   "id": "bf9ecb31-4558-482c-af3d-a03d30931b30",
   "metadata": {},
   "source": [
    "### 1"
   ]
  },
  {
   "cell_type": "code",
   "execution_count": 2,
   "id": "fb542795-8a78-4c11-becb-9b2512427f4a",
   "metadata": {},
   "outputs": [],
   "source": [
    "# Adjust the path as necessary\n",
    "file_path = '120-years-of-olympic-history-athletes-and-results.csv'\n",
    "data = pd.read_csv(file_path)"
   ]
  },
  {
   "cell_type": "markdown",
   "id": "c6f3c58d-9a7a-481a-8d4c-7c5fc4609bee",
   "metadata": {},
   "source": [
    "### 2"
   ]
  },
  {
   "cell_type": "code",
   "execution_count": 3,
   "id": "ed27e249-f8f4-4ca8-90dd-71296725e82b",
   "metadata": {},
   "outputs": [
    {
     "name": "stdout",
     "output_type": "stream",
     "text": [
      "nombres de lignes  et de colonnes : 271116 x 15\n",
      "\n",
      "list of columns name :  Index(['ID', 'Name', 'Sex', 'Age', 'Height', 'Weight', 'Team', 'NOC', 'Games',\n",
      "       'Year', 'Season', 'City', 'Sport', 'Event', 'Medal'],\n",
      "      dtype='object') \n",
      "\n",
      "data info : \n",
      "<class 'pandas.core.frame.DataFrame'>\n",
      "RangeIndex: 271116 entries, 0 to 271115\n",
      "Data columns (total 15 columns):\n",
      " #   Column  Non-Null Count   Dtype  \n",
      "---  ------  --------------   -----  \n",
      " 0   ID      271116 non-null  int64  \n",
      " 1   Name    271116 non-null  object \n",
      " 2   Sex     271116 non-null  object \n",
      " 3   Age     261642 non-null  float64\n",
      " 4   Height  210945 non-null  float64\n",
      " 5   Weight  208241 non-null  float64\n",
      " 6   Team    271116 non-null  object \n",
      " 7   NOC     271116 non-null  object \n",
      " 8   Games   271116 non-null  object \n",
      " 9   Year    271116 non-null  int64  \n",
      " 10  Season  271116 non-null  object \n",
      " 11  City    271116 non-null  object \n",
      " 12  Sport   271116 non-null  object \n",
      " 13  Event   271116 non-null  object \n",
      " 14  Medal   39783 non-null   object \n",
      "dtypes: float64(3), int64(2), object(10)\n",
      "memory usage: 31.0+ MB\n",
      "None\n",
      "\n",
      "\n",
      "data describe : \n",
      "                  ID            Age         Height         Weight  \\\n",
      "count  271116.000000  261642.000000  210945.000000  208241.000000   \n",
      "mean    68248.954396      25.556898     175.338970      70.702393   \n",
      "std     39022.286345       6.393561      10.518462      14.348020   \n",
      "min         1.000000      10.000000     127.000000      25.000000   \n",
      "25%     34643.000000      21.000000     168.000000      60.000000   \n",
      "50%     68205.000000      24.000000     175.000000      70.000000   \n",
      "75%    102097.250000      28.000000     183.000000      79.000000   \n",
      "max    135571.000000      97.000000     226.000000     214.000000   \n",
      "\n",
      "                Year  \n",
      "count  271116.000000  \n",
      "mean     1978.378480  \n",
      "std        29.877632  \n",
      "min      1896.000000  \n",
      "25%      1960.000000  \n",
      "50%      1988.000000  \n",
      "75%      2002.000000  \n",
      "max      2016.000000  \n"
     ]
    }
   ],
   "source": [
    "print(\"nombres de lignes  et de colonnes : %i x %i\\n\"%data.shape)\n",
    "print(\"list of columns name : \",data.columns,\"\\n\")\n",
    "print(\"data info : \")\n",
    "print(data.info())\n",
    "print(\"\\n\")\n",
    "print(\"data describe : \")\n",
    "print(data.describe())"
   ]
  },
  {
   "cell_type": "markdown",
   "id": "04ccc0a7-c677-4ad1-aa5a-5ee861df87de",
   "metadata": {},
   "source": [
    "### 3 "
   ]
  },
  {
   "cell_type": "code",
   "execution_count": 4,
   "id": "612296c8-c377-4e6b-8465-f9175bca9e26",
   "metadata": {},
   "outputs": [],
   "source": [
    "data = data.rename(columns = {'ID' : 'ID', 'Name' : 'Nom', 'Sex' : 'Sexe', 'Age' : 'Age', 'Height' : 'Taille', 'Weight' : 'Poids', 'Team' : 'Équipe', 'NOC' : 'Nation', 'Games' : 'Jeux', 'Year' : 'Année', 'Season' : 'Saison', 'City' : 'Ville', 'Sport' : 'Sport', 'Event' : 'Évenement', 'Medal' : 'Médail'})"
   ]
  },
  {
   "cell_type": "code",
   "execution_count": 5,
   "id": "0f9f5bd4-1522-4945-b99a-f7d9814cb751",
   "metadata": {},
   "outputs": [
    {
     "name": "stdout",
     "output_type": "stream",
     "text": [
      "Index(['ID', 'Nom', 'Sexe', 'Age', 'Taille', 'Poids', 'Équipe', 'Nation',\n",
      "       'Jeux', 'Année', 'Saison', 'Ville', 'Sport', 'Évenement', 'Médail'],\n",
      "      dtype='object')\n"
     ]
    }
   ],
   "source": [
    "print(data.columns)"
   ]
  },
  {
   "cell_type": "markdown",
   "id": "287287e4-c44c-4fc7-9d65-fa51c8e459b3",
   "metadata": {},
   "source": [
    "## Retour au csv original"
   ]
  },
  {
   "cell_type": "markdown",
   "id": "add116fa-4319-4437-8d8a-ed8294f09c53",
   "metadata": {},
   "source": [
    "### 4"
   ]
  },
  {
   "cell_type": "code",
   "execution_count": 6,
   "id": "f2c6f666-a27e-4ee5-97cf-b3d80bada9e3",
   "metadata": {},
   "outputs": [],
   "source": [
    "data = pd.read_csv(file_path, index_col=0)"
   ]
  },
  {
   "cell_type": "markdown",
   "id": "7888a7d7-fcbc-43bb-95cf-d625238fc7e5",
   "metadata": {},
   "source": [
    "### 5"
   ]
  },
  {
   "cell_type": "code",
   "execution_count": 7,
   "id": "ee03f3c3-ec31-465b-8a84-9d6cf76a27bd",
   "metadata": {},
   "outputs": [
    {
     "name": "stdout",
     "output_type": "stream",
     "text": [
      "                            Name  Height  Weight\n",
      "ID                                              \n",
      "1                      A Dijiang   180.0    80.0\n",
      "2                       A Lamusi   170.0    60.0\n",
      "3            Gunnar Nielsen Aaby     NaN     NaN\n",
      "4           Edgar Lindenau Aabye     NaN     NaN\n",
      "5       Christine Jacoba Aaftink   185.0    82.0\n",
      "...                          ...     ...     ...\n",
      "135569                Andrzej ya   179.0    89.0\n",
      "135570                  Piotr ya   176.0    59.0\n",
      "135570                  Piotr ya   176.0    59.0\n",
      "135571        Tomasz Ireneusz ya   185.0    96.0\n",
      "135571        Tomasz Ireneusz ya   185.0    96.0\n",
      "\n",
      "[271116 rows x 3 columns]\n"
     ]
    }
   ],
   "source": [
    "selected_columns_by_position = data.iloc[:, [0, 3, 4]]  # Adjust indexes as needed\n",
    "print(selected_columns_by_position)"
   ]
  },
  {
   "cell_type": "code",
   "execution_count": 8,
   "id": "454be208-c185-4cb5-814c-cb95d74b531d",
   "metadata": {},
   "outputs": [
    {
     "name": "stdout",
     "output_type": "stream",
     "text": [
      "                            Name  Height  Weight\n",
      "ID                                              \n",
      "1                      A Dijiang   180.0    80.0\n",
      "2                       A Lamusi   170.0    60.0\n",
      "3            Gunnar Nielsen Aaby     NaN     NaN\n",
      "4           Edgar Lindenau Aabye     NaN     NaN\n",
      "5       Christine Jacoba Aaftink   185.0    82.0\n",
      "...                          ...     ...     ...\n",
      "135569                Andrzej ya   179.0    89.0\n",
      "135570                  Piotr ya   176.0    59.0\n",
      "135570                  Piotr ya   176.0    59.0\n",
      "135571        Tomasz Ireneusz ya   185.0    96.0\n",
      "135571        Tomasz Ireneusz ya   185.0    96.0\n",
      "\n",
      "[271116 rows x 3 columns]\n"
     ]
    }
   ],
   "source": [
    "selected_columns_by_name = data[['Name', 'Height', 'Weight']]\n",
    "print(selected_columns_by_name)"
   ]
  },
  {
   "cell_type": "markdown",
   "id": "6a3266be-ff86-44df-b99a-f36f4837158e",
   "metadata": {},
   "source": [
    "### 6"
   ]
  },
  {
   "cell_type": "code",
   "execution_count": 9,
   "id": "4fc7a077-9f48-4460-8d63-da05cc1ad6ce",
   "metadata": {},
   "outputs": [
    {
     "name": "stdout",
     "output_type": "stream",
     "text": [
      "Name       object\n",
      "Sex        object\n",
      "Age       float64\n",
      "Height    float64\n",
      "Weight    float64\n",
      "Team       object\n",
      "NOC        object\n",
      "Games      object\n",
      "Year        int64\n",
      "Season     object\n",
      "City       object\n",
      "Sport      object\n",
      "Event      object\n",
      "Medal      object\n",
      "dtype: object\n"
     ]
    }
   ],
   "source": [
    "print(data.dtypes)"
   ]
  },
  {
   "cell_type": "markdown",
   "id": "894c455c-e917-4b9e-8cf2-cba5e8e304ee",
   "metadata": {},
   "source": [
    "### 7"
   ]
  },
  {
   "cell_type": "code",
   "execution_count": 10,
   "id": "6ae68601-e175-4a33-9ce0-a1f7e971f9f4",
   "metadata": {},
   "outputs": [],
   "source": [
    "# pas de date"
   ]
  },
  {
   "cell_type": "markdown",
   "id": "03e0ec33-371d-4cbd-8aa3-3d57c1ecafaa",
   "metadata": {},
   "source": [
    "### 8"
   ]
  },
  {
   "cell_type": "code",
   "execution_count": 11,
   "id": "06c3ff16-3a53-43ae-a064-04e5bdc3dea6",
   "metadata": {},
   "outputs": [
    {
     "name": "stdout",
     "output_type": "stream",
     "text": [
      "            ID                      Name Sex   Age  Height  Weight  \\\n",
      "0            1                 A Dijiang   M  24.0   180.0    80.0   \n",
      "1            2                  A Lamusi   M  23.0   170.0    60.0   \n",
      "2            3       Gunnar Nielsen Aaby   M  24.0     NaN     NaN   \n",
      "3            4      Edgar Lindenau Aabye   M  34.0     NaN     NaN   \n",
      "4            5  Christine Jacoba Aaftink   F  21.0   185.0    82.0   \n",
      "...        ...                       ...  ..   ...     ...     ...   \n",
      "271111  135569                Andrzej ya   M  29.0   179.0    89.0   \n",
      "271112  135570                  Piotr ya   M  27.0   176.0    59.0   \n",
      "271113  135570                  Piotr ya   M  27.0   176.0    59.0   \n",
      "271114  135571        Tomasz Ireneusz ya   M  30.0   185.0    96.0   \n",
      "271115  135571        Tomasz Ireneusz ya   M  34.0   185.0    96.0   \n",
      "\n",
      "                  Team  NOC        Games  Year  Season            City  \\\n",
      "0                China  CHN  1992 Summer  1992  Summer       Barcelona   \n",
      "1                China  CHN  2012 Summer  2012  Summer          London   \n",
      "2              Denmark  DEN  1920 Summer  1920  Summer       Antwerpen   \n",
      "3       Denmark/Sweden  DEN  1900 Summer  1900  Summer           Paris   \n",
      "4          Netherlands  NED  1988 Winter  1988  Winter         Calgary   \n",
      "...                ...  ...          ...   ...     ...             ...   \n",
      "271111        Poland-1  POL  1976 Winter  1976  Winter       Innsbruck   \n",
      "271112          Poland  POL  2014 Winter  2014  Winter           Sochi   \n",
      "271113          Poland  POL  2014 Winter  2014  Winter           Sochi   \n",
      "271114          Poland  POL  1998 Winter  1998  Winter          Nagano   \n",
      "271115          Poland  POL  2002 Winter  2002  Winter  Salt Lake City   \n",
      "\n",
      "                Sport                                     Event Medal  \n",
      "0          Basketball               Basketball Men's Basketball   NaN  \n",
      "1                Judo              Judo Men's Extra-Lightweight   NaN  \n",
      "2            Football                   Football Men's Football   NaN  \n",
      "3          Tug-Of-War               Tug-Of-War Men's Tug-Of-War  Gold  \n",
      "4       Speed Skating          Speed Skating Women's 500 metres   NaN  \n",
      "...               ...                                       ...   ...  \n",
      "271111           Luge                Luge Mixed (Men)'s Doubles   NaN  \n",
      "271112    Ski Jumping  Ski Jumping Men's Large Hill, Individual   NaN  \n",
      "271113    Ski Jumping        Ski Jumping Men's Large Hill, Team   NaN  \n",
      "271114      Bobsleigh                      Bobsleigh Men's Four   NaN  \n",
      "271115      Bobsleigh                      Bobsleigh Men's Four   NaN  \n",
      "\n",
      "[271116 rows x 15 columns]\n"
     ]
    }
   ],
   "source": [
    "excel_data = pd.read_excel('120-years-of-olympic-history-athletes-and-results.xlsx', engine='openpyxl')\n",
    "print(excel_data)"
   ]
  },
  {
   "cell_type": "markdown",
   "id": "0b574256-3733-4afd-b9ce-117f9df5cceb",
   "metadata": {},
   "source": [
    "### 9"
   ]
  },
  {
   "cell_type": "code",
   "execution_count": 12,
   "id": "ea71c691-4fae-4b7c-b858-067daafde89d",
   "metadata": {},
   "outputs": [
    {
     "name": "stdout",
     "output_type": "stream",
     "text": [
      "       ArtistId                   Name  AlbumId  \\\n",
      "0             1                  AC/DC        1   \n",
      "1             1                  AC/DC        2   \n",
      "2             1                  AC/DC        3   \n",
      "3             1                  AC/DC        4   \n",
      "4             1                  AC/DC        5   \n",
      "...         ...                    ...      ...   \n",
      "95420       275  Philip Glass Ensemble      343   \n",
      "95421       275  Philip Glass Ensemble      344   \n",
      "95422       275  Philip Glass Ensemble      345   \n",
      "95423       275  Philip Glass Ensemble      346   \n",
      "95424       275  Philip Glass Ensemble      347   \n",
      "\n",
      "                                                   Title  ArtistId  \n",
      "0                  For Those About To Rock We Salute You         1  \n",
      "1                                      Balls to the Wall         2  \n",
      "2                                      Restless and Wild         2  \n",
      "3                                      Let There Be Rock         1  \n",
      "4                                               Big Ones         3  \n",
      "...                                                  ...       ...  \n",
      "95420                             Respighi:Pines of Rome       226  \n",
      "95421  Schubert: The Late String Quartets & String Qu...       272  \n",
      "95422                                Monteverdi: L'Orfeo       273  \n",
      "95423                              Mozart: Chamber Music       274  \n",
      "95424  Koyaanisqatsi (Soundtrack from the Motion Pict...       275  \n",
      "\n",
      "[95425 rows x 5 columns]\n"
     ]
    }
   ],
   "source": [
    "import sqlite3\n",
    "conn = sqlite3.connect('chinook.db')\n",
    "db_data = pd.read_sql_query(\"SELECT * FROM artists, albums\", conn)\n",
    "# db_data = pd.read_sql_query(\"SHOW TABLES\", conn)\n",
    "print(db_data)"
   ]
  },
  {
   "cell_type": "markdown",
   "id": "b6258c4e-3fd2-4d6c-86f2-df3a2bbefa4a",
   "metadata": {},
   "source": [
    "### 10"
   ]
  },
  {
   "cell_type": "code",
   "execution_count": 13,
   "id": "8fcdd9c4-cd1d-4bf7-a59e-a183bfab3465",
   "metadata": {},
   "outputs": [
    {
     "name": "stdout",
     "output_type": "stream",
     "text": [
      "   EmployeeId  LastName FirstName                Title  ReportsTo  \\\n",
      "0           1     Adams    Andrew      General Manager        NaN   \n",
      "1           2   Edwards     Nancy        Sales Manager        1.0   \n",
      "2           3   Peacock      Jane  Sales Support Agent        2.0   \n",
      "3           4      Park  Margaret  Sales Support Agent        2.0   \n",
      "4           5   Johnson     Steve  Sales Support Agent        2.0   \n",
      "5           6  Mitchell   Michael           IT Manager        1.0   \n",
      "6           7      King    Robert             IT Staff        6.0   \n",
      "7           8  Callahan     Laura             IT Staff        6.0   \n",
      "\n",
      "             BirthDate             HireDate                      Address  \\\n",
      "0  1962-02-18 00:00:00  2002-08-14 00:00:00          11120 Jasper Ave NW   \n",
      "1  1958-12-08 00:00:00  2002-05-01 00:00:00                 825 8 Ave SW   \n",
      "2  1973-08-29 00:00:00  2002-04-01 00:00:00                1111 6 Ave SW   \n",
      "3  1947-09-19 00:00:00  2003-05-03 00:00:00             683 10 Street SW   \n",
      "4  1965-03-03 00:00:00  2003-10-17 00:00:00                 7727B 41 Ave   \n",
      "5  1973-07-01 00:00:00  2003-10-17 00:00:00         5827 Bowness Road NW   \n",
      "6  1970-05-29 00:00:00  2004-01-02 00:00:00  590 Columbia Boulevard West   \n",
      "7  1968-01-09 00:00:00  2004-03-04 00:00:00                  923 7 ST NW   \n",
      "\n",
      "         City State Country PostalCode              Phone                Fax  \\\n",
      "0    Edmonton    AB  Canada    T5K 2N1  +1 (780) 428-9482  +1 (780) 428-3457   \n",
      "1     Calgary    AB  Canada    T2P 2T3  +1 (403) 262-3443  +1 (403) 262-3322   \n",
      "2     Calgary    AB  Canada    T2P 5M5  +1 (403) 262-3443  +1 (403) 262-6712   \n",
      "3     Calgary    AB  Canada    T2P 5G3  +1 (403) 263-4423  +1 (403) 263-4289   \n",
      "4     Calgary    AB  Canada    T3B 1Y7   1 (780) 836-9987   1 (780) 836-9543   \n",
      "5     Calgary    AB  Canada    T3B 0C5  +1 (403) 246-9887  +1 (403) 246-9899   \n",
      "6  Lethbridge    AB  Canada    T1K 5N8  +1 (403) 456-9986  +1 (403) 456-8485   \n",
      "7  Lethbridge    AB  Canada    T1H 1Y8  +1 (403) 467-3351  +1 (403) 467-8772   \n",
      "\n",
      "                      Email  \n",
      "0    andrew@chinookcorp.com  \n",
      "1     nancy@chinookcorp.com  \n",
      "2      jane@chinookcorp.com  \n",
      "3  margaret@chinookcorp.com  \n",
      "4     steve@chinookcorp.com  \n",
      "5   michael@chinookcorp.com  \n",
      "6    robert@chinookcorp.com  \n",
      "7     laura@chinookcorp.com  \n"
     ]
    }
   ],
   "source": [
    "json_data = pd.read_json('employees.json')\n",
    "print(json_data)"
   ]
  },
  {
   "cell_type": "markdown",
   "id": "184eed07-c588-498f-841c-4a53532f0bb1",
   "metadata": {},
   "source": [
    "### 11 "
   ]
  },
  {
   "cell_type": "code",
   "execution_count": 14,
   "id": "1c04031d-6562-44a0-a843-5f8668787212",
   "metadata": {},
   "outputs": [
    {
     "name": "stdout",
     "output_type": "stream",
     "text": [
      "ID\n",
      "1         80.0\n",
      "2         60.0\n",
      "3          NaN\n",
      "4          NaN\n",
      "5         82.0\n",
      "          ... \n",
      "135569    89.0\n",
      "135570    59.0\n",
      "135570    59.0\n",
      "135571    96.0\n",
      "135571    96.0\n",
      "Name: Weight, Length: 271116, dtype: float64\n"
     ]
    }
   ],
   "source": [
    "print(data['Weight'])"
   ]
  },
  {
   "cell_type": "markdown",
   "id": "ff687646-bbd9-4092-939d-df2777c52bb6",
   "metadata": {},
   "source": [
    "### 12"
   ]
  },
  {
   "cell_type": "code",
   "execution_count": 15,
   "id": "febc2f4c-151e-4ec3-b061-bc056e7e208e",
   "metadata": {},
   "outputs": [
    {
     "name": "stdout",
     "output_type": "stream",
     "text": [
      "                          Weight\n",
      "Name                            \n",
      "A Dijiang                   80.0\n",
      "A Lamusi                    60.0\n",
      "Gunnar Nielsen Aaby          NaN\n",
      "Edgar Lindenau Aabye         NaN\n",
      "Christine Jacoba Aaftink    82.0\n",
      "...                          ...\n",
      "Andrzej ya                  89.0\n",
      "Piotr ya                    59.0\n",
      "Piotr ya                    59.0\n",
      "Tomasz Ireneusz ya          96.0\n",
      "Tomasz Ireneusz ya          96.0\n",
      "\n",
      "[271116 rows x 1 columns]\n"
     ]
    }
   ],
   "source": [
    "data_subset = pd.read_csv(file_path, usecols=[1, 5], index_col=0)\n",
    "print(data_subset)"
   ]
  },
  {
   "cell_type": "markdown",
   "id": "b90e38f5-024d-4061-abd0-7c3a6996d8af",
   "metadata": {},
   "source": [
    "### 13"
   ]
  },
  {
   "cell_type": "code",
   "execution_count": 16,
   "id": "9e4f7379-8e58-4a2a-940a-4f0abe39aa11",
   "metadata": {},
   "outputs": [
    {
     "name": "stdout",
     "output_type": "stream",
     "text": [
      "ID\n",
      "9         96.0\n",
      "135569    89.0\n",
      "Name: Weight, dtype: float64\n",
      "ID\n",
      "9         96.0\n",
      "135569    89.0\n",
      "Name: Weight, dtype: float64\n"
     ]
    }
   ],
   "source": [
    "specific_athletes = data.loc[data['Name'].isin(['Antti Sami Aalto', 'Andrzej ya']), 'Weight']\n",
    "print(specific_athletes)\n",
    "print(specific_athletes)"
   ]
  },
  {
   "cell_type": "markdown",
   "id": "97e3c69d-c841-4138-b864-c407eb8a72b5",
   "metadata": {},
   "source": [
    "### 14"
   ]
  },
  {
   "cell_type": "code",
   "execution_count": 17,
   "id": "7c50607f-1f74-48fe-bfbc-f9a72768b0cf",
   "metadata": {},
   "outputs": [
    {
     "name": "stdout",
     "output_type": "stream",
     "text": [
      "1    value1\n",
      "3    value2\n",
      "2    value3\n",
      "0    value4\n",
      "dtype: object\n"
     ]
    }
   ],
   "source": [
    "series_data = pd.Series([\"value1\", \"value2\", \"value3\", \"value4\"], index=[1, 3, 2, 0])\n",
    "print(series_data)"
   ]
  },
  {
   "cell_type": "markdown",
   "id": "6eb3b9f0-af26-41d5-b976-9e70b79c32e9",
   "metadata": {},
   "source": [
    "### 15"
   ]
  },
  {
   "cell_type": "code",
   "execution_count": 18,
   "id": "fcddeb72-022e-4a3b-8a68-d22283c47891",
   "metadata": {},
   "outputs": [
    {
     "name": "stdout",
     "output_type": "stream",
     "text": [
      "                          Name Sex   Age  Height  Weight         Team  NOC  \\\n",
      "ID                                                                           \n",
      "9             Antti Sami Aalto   M  26.0   186.0    96.0      Finland  FIN   \n",
      "18        Timo Antero Aaltonen   M  31.0   189.0   130.0      Finland  FIN   \n",
      "22               Andreea Aanei   F  22.0   170.0   125.0      Romania  ROU   \n",
      "35      Dagfinn Sverre Aarskog   M  24.0   190.0    98.0       Norway  NOR   \n",
      "46                  Hans Aasns   M  33.0   194.0    93.0       Norway  NOR   \n",
      "...                        ...  ..   ...     ...     ...          ...  ...   \n",
      "135545         Henk Jan Zwolle   M  31.0   197.0    93.0  Netherlands  NED   \n",
      "135557            Dominik ycki   M  34.0   192.0    95.0       Poland  POL   \n",
      "135557            Dominik ycki   M  38.0   192.0    95.0       Poland  POL   \n",
      "135571      Tomasz Ireneusz ya   M  30.0   185.0    96.0       Poland  POL   \n",
      "135571      Tomasz Ireneusz ya   M  34.0   185.0    96.0       Poland  POL   \n",
      "\n",
      "              Games  Year  Season            City          Sport  \\\n",
      "ID                                                                 \n",
      "9       2002 Winter  2002  Winter  Salt Lake City     Ice Hockey   \n",
      "18      2000 Summer  2000  Summer          Sydney      Athletics   \n",
      "22      2016 Summer  2016  Summer  Rio de Janeiro  Weightlifting   \n",
      "35      1998 Winter  1998  Winter          Nagano      Bobsleigh   \n",
      "46      1936 Summer  1936  Summer          Berlin       Shooting   \n",
      "...             ...   ...     ...             ...            ...   \n",
      "135545  1996 Summer  1996  Summer         Atlanta         Rowing   \n",
      "135557  2008 Summer  2008  Summer         Beijing        Sailing   \n",
      "135557  2012 Summer  2012  Summer          London        Sailing   \n",
      "135571  1998 Winter  1998  Winter          Nagano      Bobsleigh   \n",
      "135571  2002 Winter  2002  Winter  Salt Lake City      Bobsleigh   \n",
      "\n",
      "                                              Event Medal  \n",
      "ID                                                         \n",
      "9                       Ice Hockey Men's Ice Hockey   NaN  \n",
      "18                         Athletics Men's Shot Put   NaN  \n",
      "22          Weightlifting Women's Super-Heavyweight   NaN  \n",
      "35                             Bobsleigh Men's Four   NaN  \n",
      "46      Shooting Men's Rapid-Fire Pistol, 25 metres   NaN  \n",
      "...                                             ...   ...  \n",
      "135545                    Rowing Men's Coxed Eights  Gold  \n",
      "135557            Sailing Men's Two Person Keelboat   NaN  \n",
      "135557            Sailing Men's Two Person Keelboat   NaN  \n",
      "135571                         Bobsleigh Men's Four   NaN  \n",
      "135571                         Bobsleigh Men's Four   NaN  \n",
      "\n",
      "[16819 rows x 14 columns]\n"
     ]
    }
   ],
   "source": [
    "over_90kg = data[data['Weight'] > 90]\n",
    "print(over_90kg)"
   ]
  },
  {
   "cell_type": "markdown",
   "id": "0b2a8200-6683-478e-8ada-0749d28ee0af",
   "metadata": {},
   "source": [
    "### 16"
   ]
  },
  {
   "cell_type": "code",
   "execution_count": 19,
   "id": "e6837ff3-cd7b-4a59-b6fb-02e91d55e6d0",
   "metadata": {},
   "outputs": [
    {
     "name": "stdout",
     "output_type": "stream",
     "text": [
      "                          Name Sex   Age  Height  Weight         Team  NOC  \\\n",
      "ID                                                                           \n",
      "9             Antti Sami Aalto   M  26.0   186.0    96.0      Finland  FIN   \n",
      "35      Dagfinn Sverre Aarskog   M  24.0   190.0    98.0       Norway  NOR   \n",
      "46                  Hans Aasns   M  33.0   194.0    93.0       Norway  NOR   \n",
      "46                  Hans Aasns   M  45.0   194.0    93.0       Norway  NOR   \n",
      "46                  Hans Aasns   M  49.0   194.0    93.0       Norway  NOR   \n",
      "...                        ...  ..   ...     ...     ...          ...  ...   \n",
      "135545         Henk Jan Zwolle   M  31.0   197.0    93.0  Netherlands  NED   \n",
      "135557            Dominik ycki   M  34.0   192.0    95.0       Poland  POL   \n",
      "135557            Dominik ycki   M  38.0   192.0    95.0       Poland  POL   \n",
      "135571      Tomasz Ireneusz ya   M  30.0   185.0    96.0       Poland  POL   \n",
      "135571      Tomasz Ireneusz ya   M  34.0   185.0    96.0       Poland  POL   \n",
      "\n",
      "              Games  Year  Season            City       Sport  \\\n",
      "ID                                                              \n",
      "9       2002 Winter  2002  Winter  Salt Lake City  Ice Hockey   \n",
      "35      1998 Winter  1998  Winter          Nagano   Bobsleigh   \n",
      "46      1936 Summer  1936  Summer          Berlin    Shooting   \n",
      "46      1948 Summer  1948  Summer          London    Shooting   \n",
      "46      1952 Summer  1952  Summer        Helsinki    Shooting   \n",
      "...             ...   ...     ...             ...         ...   \n",
      "135545  1996 Summer  1996  Summer         Atlanta      Rowing   \n",
      "135557  2008 Summer  2008  Summer         Beijing     Sailing   \n",
      "135557  2012 Summer  2012  Summer          London     Sailing   \n",
      "135571  1998 Winter  1998  Winter          Nagano   Bobsleigh   \n",
      "135571  2002 Winter  2002  Winter  Salt Lake City   Bobsleigh   \n",
      "\n",
      "                                              Event Medal  \n",
      "ID                                                         \n",
      "9                       Ice Hockey Men's Ice Hockey   NaN  \n",
      "35                             Bobsleigh Men's Four   NaN  \n",
      "46      Shooting Men's Rapid-Fire Pistol, 25 metres   NaN  \n",
      "46      Shooting Men's Rapid-Fire Pistol, 25 metres   NaN  \n",
      "46                              Shooting Men's Trap   NaN  \n",
      "...                                             ...   ...  \n",
      "135545                    Rowing Men's Coxed Eights  Gold  \n",
      "135557            Sailing Men's Two Person Keelboat   NaN  \n",
      "135557            Sailing Men's Two Person Keelboat   NaN  \n",
      "135571                         Bobsleigh Men's Four   NaN  \n",
      "135571                         Bobsleigh Men's Four   NaN  \n",
      "\n",
      "[9892 rows x 14 columns]\n"
     ]
    }
   ],
   "source": [
    "between_90_and_100kg = data[(data['Weight'] > 90) & (data['Weight'] < 100)]\n",
    "print(between_90_and_100kg)"
   ]
  },
  {
   "cell_type": "markdown",
   "id": "4843010b-66b2-4d61-a07b-5d12cf3d018b",
   "metadata": {},
   "source": [
    "### 17 "
   ]
  },
  {
   "cell_type": "code",
   "execution_count": 20,
   "id": "a36f4567-d826-45f6-88be-a49cda1d4ee3",
   "metadata": {},
   "outputs": [
    {
     "name": "stdout",
     "output_type": "stream",
     "text": [
      "1000      84.0\n",
      "1001      84.0\n",
      "1002      84.0\n",
      "1003      73.0\n",
      "1004      54.0\n",
      "          ... \n",
      "271111    89.0\n",
      "271112    59.0\n",
      "271113    59.0\n",
      "271114    96.0\n",
      "271115    96.0\n",
      "Name: Weight, Length: 270116, dtype: float64\n"
     ]
    }
   ],
   "source": [
    "serie_weight = pd.Series(data['Weight'][1000:].values, name='Weight')\n",
    "serie_weight.index = range(1000, 1000 + len(serie_weight))\n",
    "print(serie_weight)"
   ]
  },
  {
   "cell_type": "markdown",
   "id": "61e7e875-5e4c-4185-b811-39a505f8dd00",
   "metadata": {},
   "source": [
    "### 18 "
   ]
  },
  {
   "cell_type": "code",
   "execution_count": 21,
   "id": "5bbe985d-df1c-4552-b272-fd044ec6b7b1",
   "metadata": {},
   "outputs": [
    {
     "name": "stdout",
     "output_type": "stream",
     "text": [
      "0     80.0\n",
      "1     60.0\n",
      "2      NaN\n",
      "3      NaN\n",
      "4     82.0\n",
      "5     82.0\n",
      "6     82.0\n",
      "7     82.0\n",
      "8     82.0\n",
      "9     82.0\n",
      "10    75.0\n",
      "11    75.0\n",
      "12    75.0\n",
      "13    75.0\n",
      "14    75.0\n",
      "15    75.0\n",
      "16    75.0\n",
      "17    75.0\n",
      "18    72.0\n",
      "19    72.0\n",
      "Name: Weight, dtype: float64\n"
     ]
    }
   ],
   "source": [
    "serie_weight_2 = pd.Series(data['Weight'][0:20].values, name='Weight')\n",
    "print(serie_weight_2)"
   ]
  },
  {
   "cell_type": "markdown",
   "id": "16e14174-dc81-48a7-9fbf-3e13cc29365c",
   "metadata": {},
   "source": [
    "### 19"
   ]
  },
  {
   "cell_type": "code",
   "execution_count": 22,
   "id": "0951de61-c31d-4315-9e10-6770a6d2bd89",
   "metadata": {},
   "outputs": [
    {
     "name": "stdout",
     "output_type": "stream",
     "text": [
      "270116\n",
      "20\n"
     ]
    }
   ],
   "source": [
    "print(serie_weight.size)\n",
    "print(serie_weight_2.size)"
   ]
  },
  {
   "cell_type": "markdown",
   "id": "1a76f3f3-720b-4418-b7d8-0470fcd6a5ac",
   "metadata": {},
   "source": [
    "### 20"
   ]
  },
  {
   "cell_type": "code",
   "execution_count": 23,
   "id": "5af057d8-5e38-408f-ba2e-5a9b9b25ec90",
   "metadata": {},
   "outputs": [
    {
     "name": "stdout",
     "output_type": "stream",
     "text": [
      "count    207485.000000\n",
      "mean         70.698342\n",
      "std          14.349144\n",
      "min          25.000000\n",
      "25%          60.000000\n",
      "50%          70.000000\n",
      "75%          79.000000\n",
      "max         214.000000\n",
      "Name: Weight, dtype: float64\n"
     ]
    }
   ],
   "source": [
    "print(serie_weight.describe())"
   ]
  },
  {
   "cell_type": "markdown",
   "id": "f9bbbd1e-75c8-46e0-a575-54f6695f0503",
   "metadata": {},
   "source": [
    "### 21"
   ]
  },
  {
   "cell_type": "code",
   "execution_count": 24,
   "id": "9c62e941-73c3-4150-8029-6d03c3b1a673",
   "metadata": {},
   "outputs": [
    {
     "data": {
      "text/html": [
       "<div>\n",
       "<style scoped>\n",
       "    .dataframe tbody tr th:only-of-type {\n",
       "        vertical-align: middle;\n",
       "    }\n",
       "\n",
       "    .dataframe tbody tr th {\n",
       "        vertical-align: top;\n",
       "    }\n",
       "\n",
       "    .dataframe thead th {\n",
       "        text-align: right;\n",
       "    }\n",
       "</style>\n",
       "<table border=\"1\" class=\"dataframe\">\n",
       "  <thead>\n",
       "    <tr style=\"text-align: right;\">\n",
       "      <th></th>\n",
       "      <th>Sex</th>\n",
       "      <th>Age</th>\n",
       "      <th>Height</th>\n",
       "      <th>Weight</th>\n",
       "      <th>Team</th>\n",
       "      <th>NOC</th>\n",
       "      <th>Games</th>\n",
       "      <th>Year</th>\n",
       "      <th>Season</th>\n",
       "      <th>City</th>\n",
       "      <th>Sport</th>\n",
       "      <th>Event</th>\n",
       "      <th>Medal</th>\n",
       "    </tr>\n",
       "    <tr>\n",
       "      <th>Name</th>\n",
       "      <th></th>\n",
       "      <th></th>\n",
       "      <th></th>\n",
       "      <th></th>\n",
       "      <th></th>\n",
       "      <th></th>\n",
       "      <th></th>\n",
       "      <th></th>\n",
       "      <th></th>\n",
       "      <th></th>\n",
       "      <th></th>\n",
       "      <th></th>\n",
       "      <th></th>\n",
       "    </tr>\n",
       "  </thead>\n",
       "  <tbody>\n",
       "    <tr>\n",
       "      <th>Usain St. Leo Bolt</th>\n",
       "      <td>M</td>\n",
       "      <td>17.0</td>\n",
       "      <td>196.0</td>\n",
       "      <td>95.0</td>\n",
       "      <td>Jamaica</td>\n",
       "      <td>JAM</td>\n",
       "      <td>2004 Summer</td>\n",
       "      <td>2004</td>\n",
       "      <td>Summer</td>\n",
       "      <td>Athina</td>\n",
       "      <td>Athletics</td>\n",
       "      <td>Athletics Men's 200 metres</td>\n",
       "      <td>NaN</td>\n",
       "    </tr>\n",
       "    <tr>\n",
       "      <th>Usain St. Leo Bolt</th>\n",
       "      <td>M</td>\n",
       "      <td>21.0</td>\n",
       "      <td>196.0</td>\n",
       "      <td>95.0</td>\n",
       "      <td>Jamaica</td>\n",
       "      <td>JAM</td>\n",
       "      <td>2008 Summer</td>\n",
       "      <td>2008</td>\n",
       "      <td>Summer</td>\n",
       "      <td>Beijing</td>\n",
       "      <td>Athletics</td>\n",
       "      <td>Athletics Men's 100 metres</td>\n",
       "      <td>Gold</td>\n",
       "    </tr>\n",
       "    <tr>\n",
       "      <th>Usain St. Leo Bolt</th>\n",
       "      <td>M</td>\n",
       "      <td>21.0</td>\n",
       "      <td>196.0</td>\n",
       "      <td>95.0</td>\n",
       "      <td>Jamaica</td>\n",
       "      <td>JAM</td>\n",
       "      <td>2008 Summer</td>\n",
       "      <td>2008</td>\n",
       "      <td>Summer</td>\n",
       "      <td>Beijing</td>\n",
       "      <td>Athletics</td>\n",
       "      <td>Athletics Men's 200 metres</td>\n",
       "      <td>Gold</td>\n",
       "    </tr>\n",
       "    <tr>\n",
       "      <th>Usain St. Leo Bolt</th>\n",
       "      <td>M</td>\n",
       "      <td>21.0</td>\n",
       "      <td>196.0</td>\n",
       "      <td>95.0</td>\n",
       "      <td>Jamaica</td>\n",
       "      <td>JAM</td>\n",
       "      <td>2008 Summer</td>\n",
       "      <td>2008</td>\n",
       "      <td>Summer</td>\n",
       "      <td>Beijing</td>\n",
       "      <td>Athletics</td>\n",
       "      <td>Athletics Men's 4 x 100 metres Relay</td>\n",
       "      <td>NaN</td>\n",
       "    </tr>\n",
       "    <tr>\n",
       "      <th>Usain St. Leo Bolt</th>\n",
       "      <td>M</td>\n",
       "      <td>25.0</td>\n",
       "      <td>196.0</td>\n",
       "      <td>95.0</td>\n",
       "      <td>Jamaica</td>\n",
       "      <td>JAM</td>\n",
       "      <td>2012 Summer</td>\n",
       "      <td>2012</td>\n",
       "      <td>Summer</td>\n",
       "      <td>London</td>\n",
       "      <td>Athletics</td>\n",
       "      <td>Athletics Men's 100 metres</td>\n",
       "      <td>Gold</td>\n",
       "    </tr>\n",
       "    <tr>\n",
       "      <th>Usain St. Leo Bolt</th>\n",
       "      <td>M</td>\n",
       "      <td>25.0</td>\n",
       "      <td>196.0</td>\n",
       "      <td>95.0</td>\n",
       "      <td>Jamaica</td>\n",
       "      <td>JAM</td>\n",
       "      <td>2012 Summer</td>\n",
       "      <td>2012</td>\n",
       "      <td>Summer</td>\n",
       "      <td>London</td>\n",
       "      <td>Athletics</td>\n",
       "      <td>Athletics Men's 200 metres</td>\n",
       "      <td>Gold</td>\n",
       "    </tr>\n",
       "    <tr>\n",
       "      <th>Usain St. Leo Bolt</th>\n",
       "      <td>M</td>\n",
       "      <td>25.0</td>\n",
       "      <td>196.0</td>\n",
       "      <td>95.0</td>\n",
       "      <td>Jamaica</td>\n",
       "      <td>JAM</td>\n",
       "      <td>2012 Summer</td>\n",
       "      <td>2012</td>\n",
       "      <td>Summer</td>\n",
       "      <td>London</td>\n",
       "      <td>Athletics</td>\n",
       "      <td>Athletics Men's 4 x 100 metres Relay</td>\n",
       "      <td>Gold</td>\n",
       "    </tr>\n",
       "    <tr>\n",
       "      <th>Usain St. Leo Bolt</th>\n",
       "      <td>M</td>\n",
       "      <td>29.0</td>\n",
       "      <td>196.0</td>\n",
       "      <td>95.0</td>\n",
       "      <td>Jamaica</td>\n",
       "      <td>JAM</td>\n",
       "      <td>2016 Summer</td>\n",
       "      <td>2016</td>\n",
       "      <td>Summer</td>\n",
       "      <td>Rio de Janeiro</td>\n",
       "      <td>Athletics</td>\n",
       "      <td>Athletics Men's 100 metres</td>\n",
       "      <td>Gold</td>\n",
       "    </tr>\n",
       "    <tr>\n",
       "      <th>Usain St. Leo Bolt</th>\n",
       "      <td>M</td>\n",
       "      <td>29.0</td>\n",
       "      <td>196.0</td>\n",
       "      <td>95.0</td>\n",
       "      <td>Jamaica</td>\n",
       "      <td>JAM</td>\n",
       "      <td>2016 Summer</td>\n",
       "      <td>2016</td>\n",
       "      <td>Summer</td>\n",
       "      <td>Rio de Janeiro</td>\n",
       "      <td>Athletics</td>\n",
       "      <td>Athletics Men's 200 metres</td>\n",
       "      <td>Gold</td>\n",
       "    </tr>\n",
       "    <tr>\n",
       "      <th>Usain St. Leo Bolt</th>\n",
       "      <td>M</td>\n",
       "      <td>29.0</td>\n",
       "      <td>196.0</td>\n",
       "      <td>95.0</td>\n",
       "      <td>Jamaica</td>\n",
       "      <td>JAM</td>\n",
       "      <td>2016 Summer</td>\n",
       "      <td>2016</td>\n",
       "      <td>Summer</td>\n",
       "      <td>Rio de Janeiro</td>\n",
       "      <td>Athletics</td>\n",
       "      <td>Athletics Men's 4 x 100 metres Relay</td>\n",
       "      <td>Gold</td>\n",
       "    </tr>\n",
       "  </tbody>\n",
       "</table>\n",
       "</div>"
      ],
      "text/plain": [
       "                   Sex   Age  Height  Weight     Team  NOC        Games  Year  \\\n",
       "Name                                                                            \n",
       "Usain St. Leo Bolt   M  17.0   196.0    95.0  Jamaica  JAM  2004 Summer  2004   \n",
       "Usain St. Leo Bolt   M  21.0   196.0    95.0  Jamaica  JAM  2008 Summer  2008   \n",
       "Usain St. Leo Bolt   M  21.0   196.0    95.0  Jamaica  JAM  2008 Summer  2008   \n",
       "Usain St. Leo Bolt   M  21.0   196.0    95.0  Jamaica  JAM  2008 Summer  2008   \n",
       "Usain St. Leo Bolt   M  25.0   196.0    95.0  Jamaica  JAM  2012 Summer  2012   \n",
       "Usain St. Leo Bolt   M  25.0   196.0    95.0  Jamaica  JAM  2012 Summer  2012   \n",
       "Usain St. Leo Bolt   M  25.0   196.0    95.0  Jamaica  JAM  2012 Summer  2012   \n",
       "Usain St. Leo Bolt   M  29.0   196.0    95.0  Jamaica  JAM  2016 Summer  2016   \n",
       "Usain St. Leo Bolt   M  29.0   196.0    95.0  Jamaica  JAM  2016 Summer  2016   \n",
       "Usain St. Leo Bolt   M  29.0   196.0    95.0  Jamaica  JAM  2016 Summer  2016   \n",
       "\n",
       "                    Season            City      Sport  \\\n",
       "Name                                                    \n",
       "Usain St. Leo Bolt  Summer          Athina  Athletics   \n",
       "Usain St. Leo Bolt  Summer         Beijing  Athletics   \n",
       "Usain St. Leo Bolt  Summer         Beijing  Athletics   \n",
       "Usain St. Leo Bolt  Summer         Beijing  Athletics   \n",
       "Usain St. Leo Bolt  Summer          London  Athletics   \n",
       "Usain St. Leo Bolt  Summer          London  Athletics   \n",
       "Usain St. Leo Bolt  Summer          London  Athletics   \n",
       "Usain St. Leo Bolt  Summer  Rio de Janeiro  Athletics   \n",
       "Usain St. Leo Bolt  Summer  Rio de Janeiro  Athletics   \n",
       "Usain St. Leo Bolt  Summer  Rio de Janeiro  Athletics   \n",
       "\n",
       "                                                   Event Medal  \n",
       "Name                                                            \n",
       "Usain St. Leo Bolt            Athletics Men's 200 metres   NaN  \n",
       "Usain St. Leo Bolt            Athletics Men's 100 metres  Gold  \n",
       "Usain St. Leo Bolt            Athletics Men's 200 metres  Gold  \n",
       "Usain St. Leo Bolt  Athletics Men's 4 x 100 metres Relay   NaN  \n",
       "Usain St. Leo Bolt            Athletics Men's 100 metres  Gold  \n",
       "Usain St. Leo Bolt            Athletics Men's 200 metres  Gold  \n",
       "Usain St. Leo Bolt  Athletics Men's 4 x 100 metres Relay  Gold  \n",
       "Usain St. Leo Bolt            Athletics Men's 100 metres  Gold  \n",
       "Usain St. Leo Bolt            Athletics Men's 200 metres  Gold  \n",
       "Usain St. Leo Bolt  Athletics Men's 4 x 100 metres Relay  Gold  "
      ]
     },
     "execution_count": 24,
     "metadata": {},
     "output_type": "execute_result"
    }
   ],
   "source": [
    "data_index = data.set_index('Name')\n",
    "data_index.loc['Usain St. Leo Bolt']"
   ]
  },
  {
   "cell_type": "markdown",
   "id": "35994f61-7111-4e30-b33c-1a13e4d3588f",
   "metadata": {},
   "source": [
    "### 22"
   ]
  },
  {
   "cell_type": "code",
   "execution_count": 25,
   "id": "1c4787c6-fe6d-45bf-b832-b87db4f39c10",
   "metadata": {},
   "outputs": [
    {
     "data": {
      "text/html": [
       "<div>\n",
       "<style scoped>\n",
       "    .dataframe tbody tr th:only-of-type {\n",
       "        vertical-align: middle;\n",
       "    }\n",
       "\n",
       "    .dataframe tbody tr th {\n",
       "        vertical-align: top;\n",
       "    }\n",
       "\n",
       "    .dataframe thead th {\n",
       "        text-align: right;\n",
       "    }\n",
       "</style>\n",
       "<table border=\"1\" class=\"dataframe\">\n",
       "  <thead>\n",
       "    <tr style=\"text-align: right;\">\n",
       "      <th></th>\n",
       "      <th>Sex</th>\n",
       "      <th>Age</th>\n",
       "      <th>Height</th>\n",
       "      <th>Weight</th>\n",
       "      <th>Team</th>\n",
       "      <th>NOC</th>\n",
       "      <th>Games</th>\n",
       "      <th>Year</th>\n",
       "      <th>Season</th>\n",
       "      <th>City</th>\n",
       "      <th>Sport</th>\n",
       "      <th>Event</th>\n",
       "      <th>Medal</th>\n",
       "    </tr>\n",
       "    <tr>\n",
       "      <th>Name</th>\n",
       "      <th></th>\n",
       "      <th></th>\n",
       "      <th></th>\n",
       "      <th></th>\n",
       "      <th></th>\n",
       "      <th></th>\n",
       "      <th></th>\n",
       "      <th></th>\n",
       "      <th></th>\n",
       "      <th></th>\n",
       "      <th></th>\n",
       "      <th></th>\n",
       "      <th></th>\n",
       "    </tr>\n",
       "  </thead>\n",
       "  <tbody>\n",
       "    <tr>\n",
       "      <th>Usain St. Leo Bolt</th>\n",
       "      <td>M</td>\n",
       "      <td>17.0</td>\n",
       "      <td>196.0</td>\n",
       "      <td>95.0</td>\n",
       "      <td>Jamaica</td>\n",
       "      <td>JAM</td>\n",
       "      <td>2004 Summer</td>\n",
       "      <td>2004</td>\n",
       "      <td>Summer</td>\n",
       "      <td>Athina</td>\n",
       "      <td>Athletics</td>\n",
       "      <td>Athletics Men's 200 metres</td>\n",
       "      <td>NaN</td>\n",
       "    </tr>\n",
       "    <tr>\n",
       "      <th>Usain St. Leo Bolt</th>\n",
       "      <td>M</td>\n",
       "      <td>21.0</td>\n",
       "      <td>196.0</td>\n",
       "      <td>95.0</td>\n",
       "      <td>Jamaica</td>\n",
       "      <td>JAM</td>\n",
       "      <td>2008 Summer</td>\n",
       "      <td>2008</td>\n",
       "      <td>Summer</td>\n",
       "      <td>Beijing</td>\n",
       "      <td>Athletics</td>\n",
       "      <td>Athletics Men's 100 metres</td>\n",
       "      <td>Gold</td>\n",
       "    </tr>\n",
       "    <tr>\n",
       "      <th>Usain St. Leo Bolt</th>\n",
       "      <td>M</td>\n",
       "      <td>21.0</td>\n",
       "      <td>196.0</td>\n",
       "      <td>95.0</td>\n",
       "      <td>Jamaica</td>\n",
       "      <td>JAM</td>\n",
       "      <td>2008 Summer</td>\n",
       "      <td>2008</td>\n",
       "      <td>Summer</td>\n",
       "      <td>Beijing</td>\n",
       "      <td>Athletics</td>\n",
       "      <td>Athletics Men's 200 metres</td>\n",
       "      <td>Gold</td>\n",
       "    </tr>\n",
       "    <tr>\n",
       "      <th>Usain St. Leo Bolt</th>\n",
       "      <td>M</td>\n",
       "      <td>21.0</td>\n",
       "      <td>196.0</td>\n",
       "      <td>95.0</td>\n",
       "      <td>Jamaica</td>\n",
       "      <td>JAM</td>\n",
       "      <td>2008 Summer</td>\n",
       "      <td>2008</td>\n",
       "      <td>Summer</td>\n",
       "      <td>Beijing</td>\n",
       "      <td>Athletics</td>\n",
       "      <td>Athletics Men's 4 x 100 metres Relay</td>\n",
       "      <td>NaN</td>\n",
       "    </tr>\n",
       "    <tr>\n",
       "      <th>Usain St. Leo Bolt</th>\n",
       "      <td>M</td>\n",
       "      <td>25.0</td>\n",
       "      <td>196.0</td>\n",
       "      <td>95.0</td>\n",
       "      <td>Jamaica</td>\n",
       "      <td>JAM</td>\n",
       "      <td>2012 Summer</td>\n",
       "      <td>2012</td>\n",
       "      <td>Summer</td>\n",
       "      <td>London</td>\n",
       "      <td>Athletics</td>\n",
       "      <td>Athletics Men's 100 metres</td>\n",
       "      <td>Gold</td>\n",
       "    </tr>\n",
       "    <tr>\n",
       "      <th>Usain St. Leo Bolt</th>\n",
       "      <td>M</td>\n",
       "      <td>25.0</td>\n",
       "      <td>196.0</td>\n",
       "      <td>95.0</td>\n",
       "      <td>Jamaica</td>\n",
       "      <td>JAM</td>\n",
       "      <td>2012 Summer</td>\n",
       "      <td>2012</td>\n",
       "      <td>Summer</td>\n",
       "      <td>London</td>\n",
       "      <td>Athletics</td>\n",
       "      <td>Athletics Men's 200 metres</td>\n",
       "      <td>Gold</td>\n",
       "    </tr>\n",
       "    <tr>\n",
       "      <th>Usain St. Leo Bolt</th>\n",
       "      <td>M</td>\n",
       "      <td>25.0</td>\n",
       "      <td>196.0</td>\n",
       "      <td>95.0</td>\n",
       "      <td>Jamaica</td>\n",
       "      <td>JAM</td>\n",
       "      <td>2012 Summer</td>\n",
       "      <td>2012</td>\n",
       "      <td>Summer</td>\n",
       "      <td>London</td>\n",
       "      <td>Athletics</td>\n",
       "      <td>Athletics Men's 4 x 100 metres Relay</td>\n",
       "      <td>Gold</td>\n",
       "    </tr>\n",
       "    <tr>\n",
       "      <th>Usain St. Leo Bolt</th>\n",
       "      <td>M</td>\n",
       "      <td>29.0</td>\n",
       "      <td>196.0</td>\n",
       "      <td>95.0</td>\n",
       "      <td>Jamaica</td>\n",
       "      <td>JAM</td>\n",
       "      <td>2016 Summer</td>\n",
       "      <td>2016</td>\n",
       "      <td>Summer</td>\n",
       "      <td>Rio de Janeiro</td>\n",
       "      <td>Athletics</td>\n",
       "      <td>Athletics Men's 100 metres</td>\n",
       "      <td>Gold</td>\n",
       "    </tr>\n",
       "    <tr>\n",
       "      <th>Usain St. Leo Bolt</th>\n",
       "      <td>M</td>\n",
       "      <td>29.0</td>\n",
       "      <td>196.0</td>\n",
       "      <td>95.0</td>\n",
       "      <td>Jamaica</td>\n",
       "      <td>JAM</td>\n",
       "      <td>2016 Summer</td>\n",
       "      <td>2016</td>\n",
       "      <td>Summer</td>\n",
       "      <td>Rio de Janeiro</td>\n",
       "      <td>Athletics</td>\n",
       "      <td>Athletics Men's 200 metres</td>\n",
       "      <td>Gold</td>\n",
       "    </tr>\n",
       "    <tr>\n",
       "      <th>Usain St. Leo Bolt</th>\n",
       "      <td>M</td>\n",
       "      <td>29.0</td>\n",
       "      <td>196.0</td>\n",
       "      <td>95.0</td>\n",
       "      <td>Jamaica</td>\n",
       "      <td>JAM</td>\n",
       "      <td>2016 Summer</td>\n",
       "      <td>2016</td>\n",
       "      <td>Summer</td>\n",
       "      <td>Rio de Janeiro</td>\n",
       "      <td>Athletics</td>\n",
       "      <td>Athletics Men's 4 x 100 metres Relay</td>\n",
       "      <td>Gold</td>\n",
       "    </tr>\n",
       "    <tr>\n",
       "      <th>Justin Alexander Gatlin</th>\n",
       "      <td>M</td>\n",
       "      <td>22.0</td>\n",
       "      <td>186.0</td>\n",
       "      <td>80.0</td>\n",
       "      <td>United States</td>\n",
       "      <td>USA</td>\n",
       "      <td>2004 Summer</td>\n",
       "      <td>2004</td>\n",
       "      <td>Summer</td>\n",
       "      <td>Athina</td>\n",
       "      <td>Athletics</td>\n",
       "      <td>Athletics Men's 100 metres</td>\n",
       "      <td>Gold</td>\n",
       "    </tr>\n",
       "    <tr>\n",
       "      <th>Justin Alexander Gatlin</th>\n",
       "      <td>M</td>\n",
       "      <td>22.0</td>\n",
       "      <td>186.0</td>\n",
       "      <td>80.0</td>\n",
       "      <td>United States</td>\n",
       "      <td>USA</td>\n",
       "      <td>2004 Summer</td>\n",
       "      <td>2004</td>\n",
       "      <td>Summer</td>\n",
       "      <td>Athina</td>\n",
       "      <td>Athletics</td>\n",
       "      <td>Athletics Men's 200 metres</td>\n",
       "      <td>Bronze</td>\n",
       "    </tr>\n",
       "    <tr>\n",
       "      <th>Justin Alexander Gatlin</th>\n",
       "      <td>M</td>\n",
       "      <td>22.0</td>\n",
       "      <td>186.0</td>\n",
       "      <td>80.0</td>\n",
       "      <td>United States</td>\n",
       "      <td>USA</td>\n",
       "      <td>2004 Summer</td>\n",
       "      <td>2004</td>\n",
       "      <td>Summer</td>\n",
       "      <td>Athina</td>\n",
       "      <td>Athletics</td>\n",
       "      <td>Athletics Men's 4 x 100 metres Relay</td>\n",
       "      <td>Silver</td>\n",
       "    </tr>\n",
       "    <tr>\n",
       "      <th>Justin Alexander Gatlin</th>\n",
       "      <td>M</td>\n",
       "      <td>30.0</td>\n",
       "      <td>186.0</td>\n",
       "      <td>80.0</td>\n",
       "      <td>United States</td>\n",
       "      <td>USA</td>\n",
       "      <td>2012 Summer</td>\n",
       "      <td>2012</td>\n",
       "      <td>Summer</td>\n",
       "      <td>London</td>\n",
       "      <td>Athletics</td>\n",
       "      <td>Athletics Men's 100 metres</td>\n",
       "      <td>Bronze</td>\n",
       "    </tr>\n",
       "    <tr>\n",
       "      <th>Justin Alexander Gatlin</th>\n",
       "      <td>M</td>\n",
       "      <td>30.0</td>\n",
       "      <td>186.0</td>\n",
       "      <td>80.0</td>\n",
       "      <td>United States</td>\n",
       "      <td>USA</td>\n",
       "      <td>2012 Summer</td>\n",
       "      <td>2012</td>\n",
       "      <td>Summer</td>\n",
       "      <td>London</td>\n",
       "      <td>Athletics</td>\n",
       "      <td>Athletics Men's 4 x 100 metres Relay</td>\n",
       "      <td>NaN</td>\n",
       "    </tr>\n",
       "    <tr>\n",
       "      <th>Justin Alexander Gatlin</th>\n",
       "      <td>M</td>\n",
       "      <td>34.0</td>\n",
       "      <td>186.0</td>\n",
       "      <td>80.0</td>\n",
       "      <td>United States</td>\n",
       "      <td>USA</td>\n",
       "      <td>2016 Summer</td>\n",
       "      <td>2016</td>\n",
       "      <td>Summer</td>\n",
       "      <td>Rio de Janeiro</td>\n",
       "      <td>Athletics</td>\n",
       "      <td>Athletics Men's 100 metres</td>\n",
       "      <td>Silver</td>\n",
       "    </tr>\n",
       "    <tr>\n",
       "      <th>Justin Alexander Gatlin</th>\n",
       "      <td>M</td>\n",
       "      <td>34.0</td>\n",
       "      <td>186.0</td>\n",
       "      <td>80.0</td>\n",
       "      <td>United States</td>\n",
       "      <td>USA</td>\n",
       "      <td>2016 Summer</td>\n",
       "      <td>2016</td>\n",
       "      <td>Summer</td>\n",
       "      <td>Rio de Janeiro</td>\n",
       "      <td>Athletics</td>\n",
       "      <td>Athletics Men's 200 metres</td>\n",
       "      <td>NaN</td>\n",
       "    </tr>\n",
       "    <tr>\n",
       "      <th>Justin Alexander Gatlin</th>\n",
       "      <td>M</td>\n",
       "      <td>34.0</td>\n",
       "      <td>186.0</td>\n",
       "      <td>80.0</td>\n",
       "      <td>United States</td>\n",
       "      <td>USA</td>\n",
       "      <td>2016 Summer</td>\n",
       "      <td>2016</td>\n",
       "      <td>Summer</td>\n",
       "      <td>Rio de Janeiro</td>\n",
       "      <td>Athletics</td>\n",
       "      <td>Athletics Men's 4 x 100 metres Relay</td>\n",
       "      <td>NaN</td>\n",
       "    </tr>\n",
       "  </tbody>\n",
       "</table>\n",
       "</div>"
      ],
      "text/plain": [
       "                        Sex   Age  Height  Weight           Team  NOC  \\\n",
       "Name                                                                    \n",
       "Usain St. Leo Bolt        M  17.0   196.0    95.0        Jamaica  JAM   \n",
       "Usain St. Leo Bolt        M  21.0   196.0    95.0        Jamaica  JAM   \n",
       "Usain St. Leo Bolt        M  21.0   196.0    95.0        Jamaica  JAM   \n",
       "Usain St. Leo Bolt        M  21.0   196.0    95.0        Jamaica  JAM   \n",
       "Usain St. Leo Bolt        M  25.0   196.0    95.0        Jamaica  JAM   \n",
       "Usain St. Leo Bolt        M  25.0   196.0    95.0        Jamaica  JAM   \n",
       "Usain St. Leo Bolt        M  25.0   196.0    95.0        Jamaica  JAM   \n",
       "Usain St. Leo Bolt        M  29.0   196.0    95.0        Jamaica  JAM   \n",
       "Usain St. Leo Bolt        M  29.0   196.0    95.0        Jamaica  JAM   \n",
       "Usain St. Leo Bolt        M  29.0   196.0    95.0        Jamaica  JAM   \n",
       "Justin Alexander Gatlin   M  22.0   186.0    80.0  United States  USA   \n",
       "Justin Alexander Gatlin   M  22.0   186.0    80.0  United States  USA   \n",
       "Justin Alexander Gatlin   M  22.0   186.0    80.0  United States  USA   \n",
       "Justin Alexander Gatlin   M  30.0   186.0    80.0  United States  USA   \n",
       "Justin Alexander Gatlin   M  30.0   186.0    80.0  United States  USA   \n",
       "Justin Alexander Gatlin   M  34.0   186.0    80.0  United States  USA   \n",
       "Justin Alexander Gatlin   M  34.0   186.0    80.0  United States  USA   \n",
       "Justin Alexander Gatlin   M  34.0   186.0    80.0  United States  USA   \n",
       "\n",
       "                               Games  Year  Season            City      Sport  \\\n",
       "Name                                                                            \n",
       "Usain St. Leo Bolt       2004 Summer  2004  Summer          Athina  Athletics   \n",
       "Usain St. Leo Bolt       2008 Summer  2008  Summer         Beijing  Athletics   \n",
       "Usain St. Leo Bolt       2008 Summer  2008  Summer         Beijing  Athletics   \n",
       "Usain St. Leo Bolt       2008 Summer  2008  Summer         Beijing  Athletics   \n",
       "Usain St. Leo Bolt       2012 Summer  2012  Summer          London  Athletics   \n",
       "Usain St. Leo Bolt       2012 Summer  2012  Summer          London  Athletics   \n",
       "Usain St. Leo Bolt       2012 Summer  2012  Summer          London  Athletics   \n",
       "Usain St. Leo Bolt       2016 Summer  2016  Summer  Rio de Janeiro  Athletics   \n",
       "Usain St. Leo Bolt       2016 Summer  2016  Summer  Rio de Janeiro  Athletics   \n",
       "Usain St. Leo Bolt       2016 Summer  2016  Summer  Rio de Janeiro  Athletics   \n",
       "Justin Alexander Gatlin  2004 Summer  2004  Summer          Athina  Athletics   \n",
       "Justin Alexander Gatlin  2004 Summer  2004  Summer          Athina  Athletics   \n",
       "Justin Alexander Gatlin  2004 Summer  2004  Summer          Athina  Athletics   \n",
       "Justin Alexander Gatlin  2012 Summer  2012  Summer          London  Athletics   \n",
       "Justin Alexander Gatlin  2012 Summer  2012  Summer          London  Athletics   \n",
       "Justin Alexander Gatlin  2016 Summer  2016  Summer  Rio de Janeiro  Athletics   \n",
       "Justin Alexander Gatlin  2016 Summer  2016  Summer  Rio de Janeiro  Athletics   \n",
       "Justin Alexander Gatlin  2016 Summer  2016  Summer  Rio de Janeiro  Athletics   \n",
       "\n",
       "                                                        Event   Medal  \n",
       "Name                                                                   \n",
       "Usain St. Leo Bolt                 Athletics Men's 200 metres     NaN  \n",
       "Usain St. Leo Bolt                 Athletics Men's 100 metres    Gold  \n",
       "Usain St. Leo Bolt                 Athletics Men's 200 metres    Gold  \n",
       "Usain St. Leo Bolt       Athletics Men's 4 x 100 metres Relay     NaN  \n",
       "Usain St. Leo Bolt                 Athletics Men's 100 metres    Gold  \n",
       "Usain St. Leo Bolt                 Athletics Men's 200 metres    Gold  \n",
       "Usain St. Leo Bolt       Athletics Men's 4 x 100 metres Relay    Gold  \n",
       "Usain St. Leo Bolt                 Athletics Men's 100 metres    Gold  \n",
       "Usain St. Leo Bolt                 Athletics Men's 200 metres    Gold  \n",
       "Usain St. Leo Bolt       Athletics Men's 4 x 100 metres Relay    Gold  \n",
       "Justin Alexander Gatlin            Athletics Men's 100 metres    Gold  \n",
       "Justin Alexander Gatlin            Athletics Men's 200 metres  Bronze  \n",
       "Justin Alexander Gatlin  Athletics Men's 4 x 100 metres Relay  Silver  \n",
       "Justin Alexander Gatlin            Athletics Men's 100 metres  Bronze  \n",
       "Justin Alexander Gatlin  Athletics Men's 4 x 100 metres Relay     NaN  \n",
       "Justin Alexander Gatlin            Athletics Men's 100 metres  Silver  \n",
       "Justin Alexander Gatlin            Athletics Men's 200 metres     NaN  \n",
       "Justin Alexander Gatlin  Athletics Men's 4 x 100 metres Relay     NaN  "
      ]
     },
     "execution_count": 25,
     "metadata": {},
     "output_type": "execute_result"
    }
   ],
   "source": [
    "data_index.loc[['Usain St. Leo Bolt', 'Justin Alexander Gatlin']]"
   ]
  },
  {
   "cell_type": "markdown",
   "id": "7b3801c3-c2b2-410d-adf4-dd14ec6bcba7",
   "metadata": {},
   "source": [
    "### 23"
   ]
  },
  {
   "cell_type": "code",
   "execution_count": 26,
   "id": "b4510c08-c322-41b6-a22d-ccfed8315d86",
   "metadata": {},
   "outputs": [
    {
     "data": {
      "text/html": [
       "<div>\n",
       "<style scoped>\n",
       "    .dataframe tbody tr th:only-of-type {\n",
       "        vertical-align: middle;\n",
       "    }\n",
       "\n",
       "    .dataframe tbody tr th {\n",
       "        vertical-align: top;\n",
       "    }\n",
       "\n",
       "    .dataframe thead th {\n",
       "        text-align: right;\n",
       "    }\n",
       "</style>\n",
       "<table border=\"1\" class=\"dataframe\">\n",
       "  <thead>\n",
       "    <tr style=\"text-align: right;\">\n",
       "      <th></th>\n",
       "      <th>Name</th>\n",
       "      <th>Sex</th>\n",
       "      <th>Age</th>\n",
       "      <th>Height</th>\n",
       "      <th>Weight</th>\n",
       "      <th>Team</th>\n",
       "      <th>NOC</th>\n",
       "      <th>Games</th>\n",
       "      <th>Year</th>\n",
       "      <th>Season</th>\n",
       "      <th>City</th>\n",
       "      <th>Sport</th>\n",
       "      <th>Event</th>\n",
       "      <th>Medal</th>\n",
       "    </tr>\n",
       "    <tr>\n",
       "      <th>ID</th>\n",
       "      <th></th>\n",
       "      <th></th>\n",
       "      <th></th>\n",
       "      <th></th>\n",
       "      <th></th>\n",
       "      <th></th>\n",
       "      <th></th>\n",
       "      <th></th>\n",
       "      <th></th>\n",
       "      <th></th>\n",
       "      <th></th>\n",
       "      <th></th>\n",
       "      <th></th>\n",
       "      <th></th>\n",
       "    </tr>\n",
       "  </thead>\n",
       "  <tbody>\n",
       "    <tr>\n",
       "      <th>21</th>\n",
       "      <td>Ragnhild Margrethe Aamodt</td>\n",
       "      <td>F</td>\n",
       "      <td>27.0</td>\n",
       "      <td>163.0</td>\n",
       "      <td>NaN</td>\n",
       "      <td>Norway</td>\n",
       "      <td>NOR</td>\n",
       "      <td>2008 Summer</td>\n",
       "      <td>2008</td>\n",
       "      <td>Summer</td>\n",
       "      <td>Beijing</td>\n",
       "      <td>Handball</td>\n",
       "      <td>Handball Women's Handball</td>\n",
       "      <td>Gold</td>\n",
       "    </tr>\n",
       "    <tr>\n",
       "      <th>150</th>\n",
       "      <td>Margaret Ives Abbott (-Dunne)</td>\n",
       "      <td>F</td>\n",
       "      <td>23.0</td>\n",
       "      <td>NaN</td>\n",
       "      <td>NaN</td>\n",
       "      <td>United States</td>\n",
       "      <td>USA</td>\n",
       "      <td>1900 Summer</td>\n",
       "      <td>1900</td>\n",
       "      <td>Summer</td>\n",
       "      <td>Paris</td>\n",
       "      <td>Golf</td>\n",
       "      <td>Golf Women's Individual</td>\n",
       "      <td>Gold</td>\n",
       "    </tr>\n",
       "    <tr>\n",
       "      <th>832</th>\n",
       "      <td>Nicola Virginia Adams</td>\n",
       "      <td>F</td>\n",
       "      <td>29.0</td>\n",
       "      <td>164.0</td>\n",
       "      <td>51.0</td>\n",
       "      <td>Great Britain</td>\n",
       "      <td>GBR</td>\n",
       "      <td>2012 Summer</td>\n",
       "      <td>2012</td>\n",
       "      <td>Summer</td>\n",
       "      <td>London</td>\n",
       "      <td>Boxing</td>\n",
       "      <td>Boxing Women's Flyweight</td>\n",
       "      <td>Gold</td>\n",
       "    </tr>\n",
       "    <tr>\n",
       "      <th>832</th>\n",
       "      <td>Nicola Virginia Adams</td>\n",
       "      <td>F</td>\n",
       "      <td>33.0</td>\n",
       "      <td>164.0</td>\n",
       "      <td>51.0</td>\n",
       "      <td>Great Britain</td>\n",
       "      <td>GBR</td>\n",
       "      <td>2016 Summer</td>\n",
       "      <td>2016</td>\n",
       "      <td>Summer</td>\n",
       "      <td>Rio de Janeiro</td>\n",
       "      <td>Boxing</td>\n",
       "      <td>Boxing Women's Flyweight</td>\n",
       "      <td>Gold</td>\n",
       "    </tr>\n",
       "    <tr>\n",
       "      <th>846</th>\n",
       "      <td>Valerie Kasanita Adams-Vili (-Price)</td>\n",
       "      <td>F</td>\n",
       "      <td>23.0</td>\n",
       "      <td>193.0</td>\n",
       "      <td>120.0</td>\n",
       "      <td>New Zealand</td>\n",
       "      <td>NZL</td>\n",
       "      <td>2008 Summer</td>\n",
       "      <td>2008</td>\n",
       "      <td>Summer</td>\n",
       "      <td>Beijing</td>\n",
       "      <td>Athletics</td>\n",
       "      <td>Athletics Women's Shot Put</td>\n",
       "      <td>Gold</td>\n",
       "    </tr>\n",
       "    <tr>\n",
       "      <th>...</th>\n",
       "      <td>...</td>\n",
       "      <td>...</td>\n",
       "      <td>...</td>\n",
       "      <td>...</td>\n",
       "      <td>...</td>\n",
       "      <td>...</td>\n",
       "      <td>...</td>\n",
       "      <td>...</td>\n",
       "      <td>...</td>\n",
       "      <td>...</td>\n",
       "      <td>...</td>\n",
       "      <td>...</td>\n",
       "      <td>...</td>\n",
       "      <td>...</td>\n",
       "    </tr>\n",
       "    <tr>\n",
       "      <th>135331</th>\n",
       "      <td>Olha Valentynivna Zubareva</td>\n",
       "      <td>F</td>\n",
       "      <td>22.0</td>\n",
       "      <td>182.0</td>\n",
       "      <td>90.0</td>\n",
       "      <td>Soviet Union</td>\n",
       "      <td>URS</td>\n",
       "      <td>1980 Summer</td>\n",
       "      <td>1980</td>\n",
       "      <td>Summer</td>\n",
       "      <td>Moskva</td>\n",
       "      <td>Handball</td>\n",
       "      <td>Handball Women's Handball</td>\n",
       "      <td>Gold</td>\n",
       "    </tr>\n",
       "    <tr>\n",
       "      <th>135488</th>\n",
       "      <td>Nataliya Vladimirovna Zuyeva</td>\n",
       "      <td>F</td>\n",
       "      <td>19.0</td>\n",
       "      <td>176.0</td>\n",
       "      <td>62.0</td>\n",
       "      <td>Russia</td>\n",
       "      <td>RUS</td>\n",
       "      <td>2008 Summer</td>\n",
       "      <td>2008</td>\n",
       "      <td>Summer</td>\n",
       "      <td>Beijing</td>\n",
       "      <td>Rhythmic Gymnastics</td>\n",
       "      <td>Rhythmic Gymnastics Women's Group</td>\n",
       "      <td>Gold</td>\n",
       "    </tr>\n",
       "    <tr>\n",
       "      <th>135501</th>\n",
       "      <td>Ellina Aleksandrovna Zvereva (Kisheyeva-)</td>\n",
       "      <td>F</td>\n",
       "      <td>39.0</td>\n",
       "      <td>183.0</td>\n",
       "      <td>100.0</td>\n",
       "      <td>Belarus</td>\n",
       "      <td>BLR</td>\n",
       "      <td>2000 Summer</td>\n",
       "      <td>2000</td>\n",
       "      <td>Summer</td>\n",
       "      <td>Sydney</td>\n",
       "      <td>Athletics</td>\n",
       "      <td>Athletics Women's Discus Throw</td>\n",
       "      <td>Gold</td>\n",
       "    </tr>\n",
       "    <tr>\n",
       "      <th>135520</th>\n",
       "      <td>Julia Zwehl</td>\n",
       "      <td>F</td>\n",
       "      <td>28.0</td>\n",
       "      <td>167.0</td>\n",
       "      <td>60.0</td>\n",
       "      <td>Germany</td>\n",
       "      <td>GER</td>\n",
       "      <td>2004 Summer</td>\n",
       "      <td>2004</td>\n",
       "      <td>Summer</td>\n",
       "      <td>Athina</td>\n",
       "      <td>Hockey</td>\n",
       "      <td>Hockey Women's Hockey</td>\n",
       "      <td>Gold</td>\n",
       "    </tr>\n",
       "    <tr>\n",
       "      <th>135553</th>\n",
       "      <td>Galina Ivanovna Zybina (-Fyodorova)</td>\n",
       "      <td>F</td>\n",
       "      <td>21.0</td>\n",
       "      <td>168.0</td>\n",
       "      <td>80.0</td>\n",
       "      <td>Soviet Union</td>\n",
       "      <td>URS</td>\n",
       "      <td>1952 Summer</td>\n",
       "      <td>1952</td>\n",
       "      <td>Summer</td>\n",
       "      <td>Helsinki</td>\n",
       "      <td>Athletics</td>\n",
       "      <td>Athletics Women's Shot Put</td>\n",
       "      <td>Gold</td>\n",
       "    </tr>\n",
       "  </tbody>\n",
       "</table>\n",
       "<p>3747 rows × 14 columns</p>\n",
       "</div>"
      ],
      "text/plain": [
       "                                             Name Sex   Age  Height  Weight  \\\n",
       "ID                                                                            \n",
       "21                      Ragnhild Margrethe Aamodt   F  27.0   163.0     NaN   \n",
       "150                 Margaret Ives Abbott (-Dunne)   F  23.0     NaN     NaN   \n",
       "832                         Nicola Virginia Adams   F  29.0   164.0    51.0   \n",
       "832                         Nicola Virginia Adams   F  33.0   164.0    51.0   \n",
       "846          Valerie Kasanita Adams-Vili (-Price)   F  23.0   193.0   120.0   \n",
       "...                                           ...  ..   ...     ...     ...   \n",
       "135331                 Olha Valentynivna Zubareva   F  22.0   182.0    90.0   \n",
       "135488               Nataliya Vladimirovna Zuyeva   F  19.0   176.0    62.0   \n",
       "135501  Ellina Aleksandrovna Zvereva (Kisheyeva-)   F  39.0   183.0   100.0   \n",
       "135520                                Julia Zwehl   F  28.0   167.0    60.0   \n",
       "135553        Galina Ivanovna Zybina (-Fyodorova)   F  21.0   168.0    80.0   \n",
       "\n",
       "                 Team  NOC        Games  Year  Season            City  \\\n",
       "ID                                                                      \n",
       "21             Norway  NOR  2008 Summer  2008  Summer         Beijing   \n",
       "150     United States  USA  1900 Summer  1900  Summer           Paris   \n",
       "832     Great Britain  GBR  2012 Summer  2012  Summer          London   \n",
       "832     Great Britain  GBR  2016 Summer  2016  Summer  Rio de Janeiro   \n",
       "846       New Zealand  NZL  2008 Summer  2008  Summer         Beijing   \n",
       "...               ...  ...          ...   ...     ...             ...   \n",
       "135331   Soviet Union  URS  1980 Summer  1980  Summer          Moskva   \n",
       "135488         Russia  RUS  2008 Summer  2008  Summer         Beijing   \n",
       "135501        Belarus  BLR  2000 Summer  2000  Summer          Sydney   \n",
       "135520        Germany  GER  2004 Summer  2004  Summer          Athina   \n",
       "135553   Soviet Union  URS  1952 Summer  1952  Summer        Helsinki   \n",
       "\n",
       "                      Sport                              Event Medal  \n",
       "ID                                                                    \n",
       "21                 Handball          Handball Women's Handball  Gold  \n",
       "150                    Golf            Golf Women's Individual  Gold  \n",
       "832                  Boxing           Boxing Women's Flyweight  Gold  \n",
       "832                  Boxing           Boxing Women's Flyweight  Gold  \n",
       "846               Athletics         Athletics Women's Shot Put  Gold  \n",
       "...                     ...                                ...   ...  \n",
       "135331             Handball          Handball Women's Handball  Gold  \n",
       "135488  Rhythmic Gymnastics  Rhythmic Gymnastics Women's Group  Gold  \n",
       "135501            Athletics     Athletics Women's Discus Throw  Gold  \n",
       "135520               Hockey              Hockey Women's Hockey  Gold  \n",
       "135553            Athletics         Athletics Women's Shot Put  Gold  \n",
       "\n",
       "[3747 rows x 14 columns]"
      ]
     },
     "execution_count": 26,
     "metadata": {},
     "output_type": "execute_result"
    }
   ],
   "source": [
    "data[(data['Sex'] == 'F') & (data['Medal'] == 'Gold')]"
   ]
  },
  {
   "cell_type": "markdown",
   "id": "c9b3170a-216f-4902-b950-5e6e3536a7ba",
   "metadata": {},
   "source": [
    "### 24"
   ]
  },
  {
   "cell_type": "code",
   "execution_count": 27,
   "id": "8b3afac0-85d4-4ff6-84ab-eee3003d270d",
   "metadata": {},
   "outputs": [
    {
     "data": {
      "text/plain": [
       "Name           0\n",
       "Sex            0\n",
       "Age         9474\n",
       "Height     60171\n",
       "Weight     62875\n",
       "Team           0\n",
       "NOC            0\n",
       "Games          0\n",
       "Year           0\n",
       "Season         0\n",
       "City           0\n",
       "Sport          0\n",
       "Event          0\n",
       "Medal     231333\n",
       "dtype: int64"
      ]
     },
     "execution_count": 27,
     "metadata": {},
     "output_type": "execute_result"
    }
   ],
   "source": [
    "data.isnull().sum()"
   ]
  },
  {
   "cell_type": "markdown",
   "id": "176905d1-0388-4bb0-a35d-4583665de3f7",
   "metadata": {},
   "source": [
    "### 25"
   ]
  },
  {
   "cell_type": "code",
   "execution_count": 28,
   "id": "4481754b-519c-469d-859f-d8da6b016207",
   "metadata": {},
   "outputs": [
    {
     "name": "stdout",
     "output_type": "stream",
     "text": [
      "<bound method DataFrame.info of                             Name Sex   Age  Height  Weight         Team  NOC  \\\n",
      "ID                                                                             \n",
      "1                      A Dijiang   M  24.0   180.0    80.0        China  CHN   \n",
      "2                       A Lamusi   M  23.0   170.0    60.0        China  CHN   \n",
      "5       Christine Jacoba Aaftink   F  21.0   185.0    82.0  Netherlands  NED   \n",
      "5       Christine Jacoba Aaftink   F  21.0   185.0    82.0  Netherlands  NED   \n",
      "5       Christine Jacoba Aaftink   F  25.0   185.0    82.0  Netherlands  NED   \n",
      "...                          ...  ..   ...     ...     ...          ...  ...   \n",
      "135569                Andrzej ya   M  29.0   179.0    89.0     Poland-1  POL   \n",
      "135570                  Piotr ya   M  27.0   176.0    59.0       Poland  POL   \n",
      "135570                  Piotr ya   M  27.0   176.0    59.0       Poland  POL   \n",
      "135571        Tomasz Ireneusz ya   M  30.0   185.0    96.0       Poland  POL   \n",
      "135571        Tomasz Ireneusz ya   M  34.0   185.0    96.0       Poland  POL   \n",
      "\n",
      "              Games  Year  Season            City          Sport  \\\n",
      "ID                                                                 \n",
      "1       1992 Summer  1992  Summer       Barcelona     Basketball   \n",
      "2       2012 Summer  2012  Summer          London           Judo   \n",
      "5       1988 Winter  1988  Winter         Calgary  Speed Skating   \n",
      "5       1988 Winter  1988  Winter         Calgary  Speed Skating   \n",
      "5       1992 Winter  1992  Winter     Albertville  Speed Skating   \n",
      "...             ...   ...     ...             ...            ...   \n",
      "135569  1976 Winter  1976  Winter       Innsbruck           Luge   \n",
      "135570  2014 Winter  2014  Winter           Sochi    Ski Jumping   \n",
      "135570  2014 Winter  2014  Winter           Sochi    Ski Jumping   \n",
      "135571  1998 Winter  1998  Winter          Nagano      Bobsleigh   \n",
      "135571  2002 Winter  2002  Winter  Salt Lake City      Bobsleigh   \n",
      "\n",
      "                                           Event Medal  \n",
      "ID                                                      \n",
      "1                    Basketball Men's Basketball   NaN  \n",
      "2                   Judo Men's Extra-Lightweight   NaN  \n",
      "5               Speed Skating Women's 500 metres   NaN  \n",
      "5             Speed Skating Women's 1,000 metres   NaN  \n",
      "5               Speed Skating Women's 500 metres   NaN  \n",
      "...                                          ...   ...  \n",
      "135569                Luge Mixed (Men)'s Doubles   NaN  \n",
      "135570  Ski Jumping Men's Large Hill, Individual   NaN  \n",
      "135570        Ski Jumping Men's Large Hill, Team   NaN  \n",
      "135571                      Bobsleigh Men's Four   NaN  \n",
      "135571                      Bobsleigh Men's Four   NaN  \n",
      "\n",
      "[210945 rows x 14 columns]>\n"
     ]
    }
   ],
   "source": [
    "data.dropna(subset=['Height'], inplace=True)\n",
    "print(data.info)"
   ]
  },
  {
   "cell_type": "markdown",
   "id": "e29319d9-8a10-4c19-89dd-250c743de4c7",
   "metadata": {},
   "source": [
    "### 26"
   ]
  },
  {
   "cell_type": "code",
   "execution_count": 29,
   "id": "31780e8e-9f49-497c-8f48-601b22bc1fd6",
   "metadata": {},
   "outputs": [
    {
     "name": "stdout",
     "output_type": "stream",
     "text": [
      "         Age  Height  Weight\n",
      "ID                          \n",
      "1       24.0   180.0    80.0\n",
      "2       23.0   170.0    60.0\n",
      "5       21.0   185.0    82.0\n",
      "5       21.0   185.0    82.0\n",
      "5       25.0   185.0    82.0\n",
      "...      ...     ...     ...\n",
      "135569  29.0   179.0    89.0\n",
      "135570  27.0   176.0    59.0\n",
      "135570  27.0   176.0    59.0\n",
      "135571  30.0   185.0    96.0\n",
      "135571  34.0   185.0    96.0\n",
      "\n",
      "[210945 rows x 3 columns]\n"
     ]
    }
   ],
   "source": [
    "# First, fill NA values with the column means\n",
    "data[['Age', 'Height', 'Weight']].fillna(data[['Age', 'Height', 'Weight']].mean())\n",
    "\n",
    "# Then, if you want to verify the operation, print the DataFrame or the specific columns\n",
    "print(data[['Age', 'Height', 'Weight']])"
   ]
  },
  {
   "cell_type": "markdown",
   "id": "1b65dfaa-13bd-4c6a-9fa4-de1900f18b32",
   "metadata": {},
   "source": [
    "### 27"
   ]
  },
  {
   "cell_type": "code",
   "execution_count": 30,
   "id": "bf212ad7-4c3f-4e81-b7b3-b584448a5f25",
   "metadata": {},
   "outputs": [
    {
     "data": {
      "text/plain": [
       "28"
      ]
     },
     "execution_count": 30,
     "metadata": {},
     "output_type": "execute_result"
    }
   ],
   "source": [
    "data.duplicated().sum()"
   ]
  },
  {
   "cell_type": "markdown",
   "id": "78136ba9-35db-4088-b7f7-55d91301c5ac",
   "metadata": {},
   "source": [
    "### 28"
   ]
  },
  {
   "cell_type": "code",
   "execution_count": 31,
   "id": "3b35b37c-8db8-449a-9972-6b392b6f7772",
   "metadata": {},
   "outputs": [
    {
     "data": {
      "text/plain": [
       "(210945, 14)"
      ]
     },
     "execution_count": 31,
     "metadata": {},
     "output_type": "execute_result"
    }
   ],
   "source": [
    "data.shape"
   ]
  },
  {
   "cell_type": "markdown",
   "id": "8f35ef25-d60d-4c75-a4b6-db37100505d3",
   "metadata": {},
   "source": [
    "### 29"
   ]
  },
  {
   "cell_type": "code",
   "execution_count": 32,
   "id": "f2179f35-da07-477a-9ac9-442fa70b594a",
   "metadata": {},
   "outputs": [],
   "source": [
    "data.drop_duplicates(inplace=True)"
   ]
  },
  {
   "cell_type": "markdown",
   "id": "fe43faf5-01cf-4bbb-922a-5a66cd1b7c61",
   "metadata": {},
   "source": [
    "### 30"
   ]
  },
  {
   "cell_type": "code",
   "execution_count": 33,
   "id": "395e6cc4-66bf-4238-828b-1c46fe4dc061",
   "metadata": {},
   "outputs": [
    {
     "ename": "TypeError",
     "evalue": "agg function failed [how->mean,dtype->object]",
     "output_type": "error",
     "traceback": [
      "\u001b[0;31m---------------------------------------------------------------------------\u001b[0m",
      "\u001b[0;31mTypeError\u001b[0m                                 Traceback (most recent call last)",
      "File \u001b[0;32m~/anaconda3/lib/python3.11/site-packages/pandas/core/groupby/groupby.py:1874\u001b[0m, in \u001b[0;36mGroupBy._agg_py_fallback\u001b[0;34m(self, how, values, ndim, alt)\u001b[0m\n\u001b[1;32m   1873\u001b[0m \u001b[38;5;28;01mtry\u001b[39;00m:\n\u001b[0;32m-> 1874\u001b[0m     res_values \u001b[38;5;241m=\u001b[39m \u001b[38;5;28mself\u001b[39m\u001b[38;5;241m.\u001b[39mgrouper\u001b[38;5;241m.\u001b[39magg_series(ser, alt, preserve_dtype\u001b[38;5;241m=\u001b[39m\u001b[38;5;28;01mTrue\u001b[39;00m)\n\u001b[1;32m   1875\u001b[0m \u001b[38;5;28;01mexcept\u001b[39;00m \u001b[38;5;167;01mException\u001b[39;00m \u001b[38;5;28;01mas\u001b[39;00m err:\n",
      "File \u001b[0;32m~/anaconda3/lib/python3.11/site-packages/pandas/core/groupby/ops.py:849\u001b[0m, in \u001b[0;36mBaseGrouper.agg_series\u001b[0;34m(self, obj, func, preserve_dtype)\u001b[0m\n\u001b[1;32m    847\u001b[0m     preserve_dtype \u001b[38;5;241m=\u001b[39m \u001b[38;5;28;01mTrue\u001b[39;00m\n\u001b[0;32m--> 849\u001b[0m result \u001b[38;5;241m=\u001b[39m \u001b[38;5;28mself\u001b[39m\u001b[38;5;241m.\u001b[39m_aggregate_series_pure_python(obj, func)\n\u001b[1;32m    851\u001b[0m \u001b[38;5;28;01mif\u001b[39;00m \u001b[38;5;28mlen\u001b[39m(obj) \u001b[38;5;241m==\u001b[39m \u001b[38;5;241m0\u001b[39m \u001b[38;5;129;01mand\u001b[39;00m \u001b[38;5;28mlen\u001b[39m(result) \u001b[38;5;241m==\u001b[39m \u001b[38;5;241m0\u001b[39m \u001b[38;5;129;01mand\u001b[39;00m \u001b[38;5;28misinstance\u001b[39m(obj\u001b[38;5;241m.\u001b[39mdtype, ExtensionDtype):\n",
      "File \u001b[0;32m~/anaconda3/lib/python3.11/site-packages/pandas/core/groupby/ops.py:877\u001b[0m, in \u001b[0;36mBaseGrouper._aggregate_series_pure_python\u001b[0;34m(self, obj, func)\u001b[0m\n\u001b[1;32m    876\u001b[0m \u001b[38;5;28;01mfor\u001b[39;00m i, group \u001b[38;5;129;01min\u001b[39;00m \u001b[38;5;28menumerate\u001b[39m(splitter):\n\u001b[0;32m--> 877\u001b[0m     res \u001b[38;5;241m=\u001b[39m func(group)\n\u001b[1;32m    878\u001b[0m     res \u001b[38;5;241m=\u001b[39m extract_result(res)\n",
      "File \u001b[0;32m~/anaconda3/lib/python3.11/site-packages/pandas/core/groupby/groupby.py:2380\u001b[0m, in \u001b[0;36mGroupBy.mean.<locals>.<lambda>\u001b[0;34m(x)\u001b[0m\n\u001b[1;32m   2377\u001b[0m \u001b[38;5;28;01melse\u001b[39;00m:\n\u001b[1;32m   2378\u001b[0m     result \u001b[38;5;241m=\u001b[39m \u001b[38;5;28mself\u001b[39m\u001b[38;5;241m.\u001b[39m_cython_agg_general(\n\u001b[1;32m   2379\u001b[0m         \u001b[38;5;124m\"\u001b[39m\u001b[38;5;124mmean\u001b[39m\u001b[38;5;124m\"\u001b[39m,\n\u001b[0;32m-> 2380\u001b[0m         alt\u001b[38;5;241m=\u001b[39m\u001b[38;5;28;01mlambda\u001b[39;00m x: Series(x)\u001b[38;5;241m.\u001b[39mmean(numeric_only\u001b[38;5;241m=\u001b[39mnumeric_only),\n\u001b[1;32m   2381\u001b[0m         numeric_only\u001b[38;5;241m=\u001b[39mnumeric_only,\n\u001b[1;32m   2382\u001b[0m     )\n\u001b[1;32m   2383\u001b[0m     \u001b[38;5;28;01mreturn\u001b[39;00m result\u001b[38;5;241m.\u001b[39m__finalize__(\u001b[38;5;28mself\u001b[39m\u001b[38;5;241m.\u001b[39mobj, method\u001b[38;5;241m=\u001b[39m\u001b[38;5;124m\"\u001b[39m\u001b[38;5;124mgroupby\u001b[39m\u001b[38;5;124m\"\u001b[39m)\n",
      "File \u001b[0;32m~/anaconda3/lib/python3.11/site-packages/pandas/core/series.py:6225\u001b[0m, in \u001b[0;36mSeries.mean\u001b[0;34m(self, axis, skipna, numeric_only, **kwargs)\u001b[0m\n\u001b[1;32m   6217\u001b[0m \u001b[38;5;129m@doc\u001b[39m(make_doc(\u001b[38;5;124m\"\u001b[39m\u001b[38;5;124mmean\u001b[39m\u001b[38;5;124m\"\u001b[39m, ndim\u001b[38;5;241m=\u001b[39m\u001b[38;5;241m1\u001b[39m))\n\u001b[1;32m   6218\u001b[0m \u001b[38;5;28;01mdef\u001b[39;00m \u001b[38;5;21mmean\u001b[39m(\n\u001b[1;32m   6219\u001b[0m     \u001b[38;5;28mself\u001b[39m,\n\u001b[0;32m   (...)\u001b[0m\n\u001b[1;32m   6223\u001b[0m     \u001b[38;5;241m*\u001b[39m\u001b[38;5;241m*\u001b[39mkwargs,\n\u001b[1;32m   6224\u001b[0m ):\n\u001b[0;32m-> 6225\u001b[0m     \u001b[38;5;28;01mreturn\u001b[39;00m NDFrame\u001b[38;5;241m.\u001b[39mmean(\u001b[38;5;28mself\u001b[39m, axis, skipna, numeric_only, \u001b[38;5;241m*\u001b[39m\u001b[38;5;241m*\u001b[39mkwargs)\n",
      "File \u001b[0;32m~/anaconda3/lib/python3.11/site-packages/pandas/core/generic.py:11992\u001b[0m, in \u001b[0;36mNDFrame.mean\u001b[0;34m(self, axis, skipna, numeric_only, **kwargs)\u001b[0m\n\u001b[1;32m  11985\u001b[0m \u001b[38;5;28;01mdef\u001b[39;00m \u001b[38;5;21mmean\u001b[39m(\n\u001b[1;32m  11986\u001b[0m     \u001b[38;5;28mself\u001b[39m,\n\u001b[1;32m  11987\u001b[0m     axis: Axis \u001b[38;5;241m|\u001b[39m \u001b[38;5;28;01mNone\u001b[39;00m \u001b[38;5;241m=\u001b[39m \u001b[38;5;241m0\u001b[39m,\n\u001b[0;32m   (...)\u001b[0m\n\u001b[1;32m  11990\u001b[0m     \u001b[38;5;241m*\u001b[39m\u001b[38;5;241m*\u001b[39mkwargs,\n\u001b[1;32m  11991\u001b[0m ) \u001b[38;5;241m-\u001b[39m\u001b[38;5;241m>\u001b[39m Series \u001b[38;5;241m|\u001b[39m \u001b[38;5;28mfloat\u001b[39m:\n\u001b[0;32m> 11992\u001b[0m     \u001b[38;5;28;01mreturn\u001b[39;00m \u001b[38;5;28mself\u001b[39m\u001b[38;5;241m.\u001b[39m_stat_function(\n\u001b[1;32m  11993\u001b[0m         \u001b[38;5;124m\"\u001b[39m\u001b[38;5;124mmean\u001b[39m\u001b[38;5;124m\"\u001b[39m, nanops\u001b[38;5;241m.\u001b[39mnanmean, axis, skipna, numeric_only, \u001b[38;5;241m*\u001b[39m\u001b[38;5;241m*\u001b[39mkwargs\n\u001b[1;32m  11994\u001b[0m     )\n",
      "File \u001b[0;32m~/anaconda3/lib/python3.11/site-packages/pandas/core/generic.py:11949\u001b[0m, in \u001b[0;36mNDFrame._stat_function\u001b[0;34m(self, name, func, axis, skipna, numeric_only, **kwargs)\u001b[0m\n\u001b[1;32m  11947\u001b[0m validate_bool_kwarg(skipna, \u001b[38;5;124m\"\u001b[39m\u001b[38;5;124mskipna\u001b[39m\u001b[38;5;124m\"\u001b[39m, none_allowed\u001b[38;5;241m=\u001b[39m\u001b[38;5;28;01mFalse\u001b[39;00m)\n\u001b[0;32m> 11949\u001b[0m \u001b[38;5;28;01mreturn\u001b[39;00m \u001b[38;5;28mself\u001b[39m\u001b[38;5;241m.\u001b[39m_reduce(\n\u001b[1;32m  11950\u001b[0m     func, name\u001b[38;5;241m=\u001b[39mname, axis\u001b[38;5;241m=\u001b[39maxis, skipna\u001b[38;5;241m=\u001b[39mskipna, numeric_only\u001b[38;5;241m=\u001b[39mnumeric_only\n\u001b[1;32m  11951\u001b[0m )\n",
      "File \u001b[0;32m~/anaconda3/lib/python3.11/site-packages/pandas/core/series.py:6133\u001b[0m, in \u001b[0;36mSeries._reduce\u001b[0;34m(self, op, name, axis, skipna, numeric_only, filter_type, **kwds)\u001b[0m\n\u001b[1;32m   6129\u001b[0m     \u001b[38;5;28;01mraise\u001b[39;00m \u001b[38;5;167;01mTypeError\u001b[39;00m(\n\u001b[1;32m   6130\u001b[0m         \u001b[38;5;124mf\u001b[39m\u001b[38;5;124m\"\u001b[39m\u001b[38;5;124mSeries.\u001b[39m\u001b[38;5;132;01m{\u001b[39;00mname\u001b[38;5;132;01m}\u001b[39;00m\u001b[38;5;124m does not allow \u001b[39m\u001b[38;5;132;01m{\u001b[39;00mkwd_name\u001b[38;5;132;01m}\u001b[39;00m\u001b[38;5;124m=\u001b[39m\u001b[38;5;132;01m{\u001b[39;00mnumeric_only\u001b[38;5;132;01m}\u001b[39;00m\u001b[38;5;124m \u001b[39m\u001b[38;5;124m\"\u001b[39m\n\u001b[1;32m   6131\u001b[0m         \u001b[38;5;124m\"\u001b[39m\u001b[38;5;124mwith non-numeric dtypes.\u001b[39m\u001b[38;5;124m\"\u001b[39m\n\u001b[1;32m   6132\u001b[0m     )\n\u001b[0;32m-> 6133\u001b[0m \u001b[38;5;28;01mreturn\u001b[39;00m op(delegate, skipna\u001b[38;5;241m=\u001b[39mskipna, \u001b[38;5;241m*\u001b[39m\u001b[38;5;241m*\u001b[39mkwds)\n",
      "File \u001b[0;32m~/anaconda3/lib/python3.11/site-packages/pandas/core/nanops.py:147\u001b[0m, in \u001b[0;36mbottleneck_switch.__call__.<locals>.f\u001b[0;34m(values, axis, skipna, **kwds)\u001b[0m\n\u001b[1;32m    146\u001b[0m \u001b[38;5;28;01melse\u001b[39;00m:\n\u001b[0;32m--> 147\u001b[0m     result \u001b[38;5;241m=\u001b[39m alt(values, axis\u001b[38;5;241m=\u001b[39maxis, skipna\u001b[38;5;241m=\u001b[39mskipna, \u001b[38;5;241m*\u001b[39m\u001b[38;5;241m*\u001b[39mkwds)\n\u001b[1;32m    149\u001b[0m \u001b[38;5;28;01mreturn\u001b[39;00m result\n",
      "File \u001b[0;32m~/anaconda3/lib/python3.11/site-packages/pandas/core/nanops.py:404\u001b[0m, in \u001b[0;36m_datetimelike_compat.<locals>.new_func\u001b[0;34m(values, axis, skipna, mask, **kwargs)\u001b[0m\n\u001b[1;32m    402\u001b[0m     mask \u001b[38;5;241m=\u001b[39m isna(values)\n\u001b[0;32m--> 404\u001b[0m result \u001b[38;5;241m=\u001b[39m func(values, axis\u001b[38;5;241m=\u001b[39maxis, skipna\u001b[38;5;241m=\u001b[39mskipna, mask\u001b[38;5;241m=\u001b[39mmask, \u001b[38;5;241m*\u001b[39m\u001b[38;5;241m*\u001b[39mkwargs)\n\u001b[1;32m    406\u001b[0m \u001b[38;5;28;01mif\u001b[39;00m datetimelike:\n",
      "File \u001b[0;32m~/anaconda3/lib/python3.11/site-packages/pandas/core/nanops.py:720\u001b[0m, in \u001b[0;36mnanmean\u001b[0;34m(values, axis, skipna, mask)\u001b[0m\n\u001b[1;32m    719\u001b[0m the_sum \u001b[38;5;241m=\u001b[39m values\u001b[38;5;241m.\u001b[39msum(axis, dtype\u001b[38;5;241m=\u001b[39mdtype_sum)\n\u001b[0;32m--> 720\u001b[0m the_sum \u001b[38;5;241m=\u001b[39m _ensure_numeric(the_sum)\n\u001b[1;32m    722\u001b[0m \u001b[38;5;28;01mif\u001b[39;00m axis \u001b[38;5;129;01mis\u001b[39;00m \u001b[38;5;129;01mnot\u001b[39;00m \u001b[38;5;28;01mNone\u001b[39;00m \u001b[38;5;129;01mand\u001b[39;00m \u001b[38;5;28mgetattr\u001b[39m(the_sum, \u001b[38;5;124m\"\u001b[39m\u001b[38;5;124mndim\u001b[39m\u001b[38;5;124m\"\u001b[39m, \u001b[38;5;28;01mFalse\u001b[39;00m):\n",
      "File \u001b[0;32m~/anaconda3/lib/python3.11/site-packages/pandas/core/nanops.py:1693\u001b[0m, in \u001b[0;36m_ensure_numeric\u001b[0;34m(x)\u001b[0m\n\u001b[1;32m   1691\u001b[0m \u001b[38;5;28;01mif\u001b[39;00m \u001b[38;5;28misinstance\u001b[39m(x, \u001b[38;5;28mstr\u001b[39m):\n\u001b[1;32m   1692\u001b[0m     \u001b[38;5;66;03m# GH#44008, GH#36703 avoid casting e.g. strings to numeric\u001b[39;00m\n\u001b[0;32m-> 1693\u001b[0m     \u001b[38;5;28;01mraise\u001b[39;00m \u001b[38;5;167;01mTypeError\u001b[39;00m(\u001b[38;5;124mf\u001b[39m\u001b[38;5;124m\"\u001b[39m\u001b[38;5;124mCould not convert string \u001b[39m\u001b[38;5;124m'\u001b[39m\u001b[38;5;132;01m{\u001b[39;00mx\u001b[38;5;132;01m}\u001b[39;00m\u001b[38;5;124m'\u001b[39m\u001b[38;5;124m to numeric\u001b[39m\u001b[38;5;124m\"\u001b[39m)\n\u001b[1;32m   1694\u001b[0m \u001b[38;5;28;01mtry\u001b[39;00m:\n",
      "\u001b[0;31mTypeError\u001b[0m: Could not convert string 'Kjetil Andr AamodtKjetil Andr AamodtKjetil Andr AamodtKjetil Andr AamodtKjetil Andr AamodtKjetil Andr AamodtKjetil Andr AamodtKjetil Andr AamodtKjetil Andr AamodtKjetil Andr AamodtKjetil Andr AamodtKjetil Andr AamodtKjetil Andr AamodtKjetil Andr AamodtKjetil Andr AamodtKjetil Andr AamodtKjetil Andr AamodtKjetil Andr AamodtKjetil Andr AamodtKjetil Andr AamodtMuhammad AbbasForough AbbasiIlze bolaAgnese boltiaAgnese boltiaAgnese boltiaIason AbramashviliIason AbramashviliIason AbramashviliIason AbramashviliIason AbramashviliIason AbramashviliLevan AbramishviliLevan AbramishviliMartina AccolaMartina AccolaPaul AccolaPaul AccolaPaul AccolaPaul AccolaPaul AccolaPaul AccolaPaul AccolaPaul AccolaPaul AccolaPaul AccolaPaul AccolaPaul AccolaPaul AccolaPaul AccolaPaul AccolaPaul AccolaPaul AccolaGhassan AchiGhassan AchiIoan Valeriu AchiriloaieIoan Valeriu AchiriloaieBrigitte Acton (-Smith)Brigitte Acton (-Smith)Brigitte Acton (-Smith)Brigitte Acton (-Smith)Cary Glen AdgateCary Glen AdgateCary Glen AdgateRuth AdolfRuth AdolfCarlos Adsera PuigLuca AerniAlessia Afi DipolAlessia Afi DipolFacundo AguirreNeha AhujaNeha AhujaKerstin Monika ij (-Lenndin)Kerstin Monika ij (-Lenndin)Sofia AkhmeteliSofia AkhmeteliSofia AkhmeteliBurhan AlankuBruno AlbertiBruno AlbertiBruno AlbertiBruno AlbertiJohnny AlbertsenJohnny AlbertsenJohnny AlbertsenDaniel AlbrechtDaniel AlbrechtDaniel AlbrechtKilian AlbrechtKilian AlbrechtKilian AlbrechtChimene Mary \"Chemmy\" Alcott (-Crawford)Chimene Mary \"Chemmy\" Alcott (-Crawford)Chimene Mary \"Chemmy\" Alcott (-Crawford)Chimene Mary \"Chemmy\" Alcott (-Crawford)Chimene Mary \"Chemmy\" Alcott (-Crawford)Chimene Mary \"Chemmy\" Alcott (-Crawford)Chimene Mary \"Chemmy\" Alcott (-Crawford)Chimene Mary \"Chemmy\" Alcott (-Crawford)Chimene Mary \"Chemmy\" Alcott (-Crawford)Chimene Mary \"Chemmy\" Alcott (-Crawford)Chimene Mary \"Chemmy\" Alcott (-Crawford)Chimene Mary \"Chemmy\" Alcott (-Crawford)Chimene Mary \"Chemmy\" Alcott (-Crawford)Chimene Mary \"Chemmy\" Alcott (-Crawford)Chimene Mary \"Chemmy\" Alcott (-Crawford)Chimene Mary \"Chemmy\" Alcott (-Crawford)Chimene Mary \"Chemmy\" Alcott (-Crawford)Arnaud AlessandriaArnaud AlessandriaArnaud AlessandriaPanagiotis AlexandrisPanagiotis AlexandrisOlesya Murtazaliyevna AliyevaOlesya Murtazaliyevna AliyevaOlesya Murtazaliyevna AliyevaOlesya Murtazaliyevna Aliyevamile AllaisWendy Irene AllenWendy Irene AllenPekka Juho Kustaa AlonenPekka Juho Kustaa AlonenPentti Johannes AlonenPentti Johannes AlonenPentti Johannes AlonenPentti Johannes AlonenPentti Johannes AlonenPentti Johannes AlonenPentti Johannes AlonenPentti Johannes AlonenPentti Johannes AlonenKseniya Alekseyevna AlopinaLuc AlphandLuc AlphandLuc AlphandLuc AlphandLuc AlphandLuc AlphandLuc AlphandSbastien AmiezSbastien AmiezSbastien AmiezDavid \"Dave\" AndersonKarl Ruben AndersonKarl Ruben AndersonMaria Kristina AnderssonMaria Kristina AnderssonMaria Kristina AnderssonMaria Kristina AnderssonMaria Kristina AnderssonMaria Kristina AnderssonVitaly AndreyevVitaly AndreyevVitaly AndreyevVladimir Mikhaylovich AndreyevVladimir Mikhaylovich AndreyevVladimir Mikhaylovich AndreyevVladimir Mikhaylovich AndreyevVladimir Mikhaylovich AndreyevVladimir Mikhaylovich AndreyevVladimir Mikhaylovich AndreyevNadezhda Nikolayevna Andreyeva-PatrikeyevaNadezhda Nikolayevna Andreyeva-PatrikeyevaNadezhda Nikolayevna Andreyeva-PatrikeyevaNadezhda Nikolayevna Andreyeva-PatrikeyevaGabriela AngautGabriela AngautPetar AngelovPetar AngelovPetar AngelovPetar AngelovPetar AngelovPetar AngelovDaniela Anguita LouxDanil AnisimovDanil AnisimovMajda Ankele (-Samaluk)Majda Ankele (-Samaluk)Majda Ankele (-Samaluk)Majda Ankele (-Samaluk)Majda Ankele (-Samaluk)Majda Ankele (-Samaluk)Gaia Bassani AntivariGaia Bassani AntivariAlex Antor SeignourelAlex Antor SeignourelAlex Antor SeignourelAlex Antor SeignourelAlex Antor SeignourelAlex Antor SeignourelStefano AnziMohamed AomarMohamed AomarLina Aristodimou (-Kouyoumdjian)Lina Aristodimou (-Kouyoumdjian)Lina Aristodimou (-Kouyoumdjian)Lina Aristodimou (-Kouyoumdjian)Lazaros ArkhontopoulosLazaros ArkhontopoulosLazaros ArkhontopoulosLazaros ArkhontopoulosLazaros ArkhontopoulosDebra Rae \"Debbie\" ArmstrongDebra Rae \"Debbie\" ArmstrongDebra Rae \"Debbie\" ArmstrongDebra Rae \"Debbie\" Armstrongrni r rnasonrni r rnasonLasse ArnesenLasse ArnesenMirella Silva Prado ArnholdMirella Silva Prado ArnholdHaukur ArnrssonHaukur ArnrssonHaukur ArnrssonMichel ArpinNicols ArselNicols ArselNicols ArselErla sgeirsdttirErla sgeirsdttirAnna Margaret Clark AsheshovAlevtina \"Alla\" Askarova (-Kulikova)Alevtina \"Alla\" Askarova (-Kulikova)Alevtina \"Alla\" Askarova (-Kulikova)Armin Ignaz AssingerArmin Ignaz AssingerAmrico Daniel AsteteAmrico Daniel Astetezer Ateizer Ateizer AteiCaroline AttiaCaroline AttiaSandrine AubertSandrine AubertFranziska Christine \"Frnzi\" AufdenblattenFranziska Christine \"Frnzi\" AufdenblattenFranziska Christine \"Frnzi\" AufdenblattenFranziska Christine \"Frnzi\" AufdenblattenFranziska Christine \"Frnzi\" AufdenblattenFranziska Christine \"Frnzi\" AufdenblattenJean-Nol AugertJean-Nol AugertSamir AzzimaniSamir AzzimaniJaroslav BabuiakJaroslav BabuiakJaroslav BabuiakJaroslav BabuiakJaroslav BabuiakJaroslav BabuiakJaroslav BabuiakJaroslav BabuiakJaroslav BabuiakAndrzej Bachleda-Curu, IIIAndrzej Bachleda-Curu, IIIAndrzej Bachleda-Curu, IIIAndrzej Bachleda-Curu, IIIAndrzej Bachleda-Curu, IIIAndrzej Jan Bachleda-CuruAndrzej Jan Bachleda-CuruAndrzej Jan Bachleda-CuruAndrzej Jan Bachleda-CuruAndrzej Jan Bachleda-CuruJan Wojciech Bachleda-CuruSilke BachmannSilke BachmannAxel Erik BckAxel Erik BckMonika Bader (-Wrle)Trine Bakke-RognmoTrine Bakke-RognmoTrine Bakke-RognmoTrine Bakke-RognmoZolt BalazsZolt BalazsJorge Eduardo BallesterosJorge Eduardo BallesterosEmily BamfordEmily BamfordFayzollah Band AliFayzollah Band AliFayzollah Band AliFayzollah Band AliFayzollah Band AliFayzollah Band AliFayzollah Band AliFayzollah Band AliFayzollah Band AliOndej BankOndej BankOndej BankOndej BankOndej BankOndej BankOndej BankOndej BankOndej BankOndej BankOndej BankOndej BankOndej BankOndej BankOndej BankOndej BankNoelle Barahona NederNoelle Barahona NederNoelle Barahona NederNoelle Barahona NederNoelle Barahona NederNoelle Barahona NederNoelle Barahona NederNoelle Barahona NederNoelle Barahona NederNoelle Barahona NederLidia Barbieri SacconaghiLidia Barbieri SacconaghiLidia Barbieri SacconaghiAlexandru George BarbuAlexandru George BarbuTana BariozTobias BarnerssoiTobias BarnerssoiTobias BarnerssoiNagib BarrakNagib BarrakReto BarringtonReto BarringtonReto BarringtonJames Michael \"Jim\" BarrowsKinga BarsiWolfgang BartelsWolfgang BartelsWolfgang BartelsKonrad BartelskiKonrad BartelskiKonrad BartelskiKonrad BartelskiKonrad BartelskiKonrad BartelskiKonrad BartelskiKonrad BartelskiKonrad BartelskiAnne-Sophie BarthetAnne-Sophie BarthetAnne-Sophie BarthetAnne-Sophie BarthetAnne-Sophie BarthetAdam BarwoodAdam BarwoodPatrizia BassisPatrizia BassisPatrizia BassisAdeline Baud (-Mugnier)Adeline Baud (-Mugnier)Bernhard BauerRomed BaumannRomed BaumannRomed BaumannAlain BaxterAlain BaxterAlain BaxterAlain BaxterNoel BaxterNoel BaxterNoel BaxterAaron J. \"AJ\" BearAaron J. \"AJ\" BearAaron J. \"AJ\" BearAaron J. \"AJ\" BearEnis BeirbegoviEnis BeirbegoviEnis BeirbegoviEnis BeirbegoviEnis BeirbegoviEnis BeirbegoviEnis BeirbegoviEnis BeirbegoviArnold BeckFlorian BeckFlorian BeckLesley BeckLesley BeckLesley BeckAndrea BdardAndrea BdardMariya Andreyevna BedaryovaMariya Andreyevna BedaryovaMariya Andreyevna BedaryovaGston BegueGston BegueGston BegueGston BeguePamela Behr (-Knauth)Pamela Behr (-Knauth)Pamela Behr (-Knauth)Pamela Behr (-Knauth)Pamela Behr (-Knauth)Jos Manuel Bejarano CarvajalJos Manuel Bejarano CarvajalJos Manuel Bejarano CarvajalJos Manuel Bejarano CarvajalFelix BelczykFelix BelczykFelix BelczykFelix BelczykFelix BelczykFlorence Elizabeth BellFlorence Elizabeth BellAndrew Graham BellAndrew Graham BellAndrew Graham BellAndrew Graham BellAndrew Graham BellAndrew Graham BellAndrew Graham BellAndrew Graham BellAndrew Graham BellAndrew Graham BellAndrew Graham BellAndrew Graham BellAndrew Graham BellMartin Neil BellMartin Neil BellMartin Neil BellMartin Neil BellMartin Neil BellMartin Neil BellMartin Neil BellMartin Neil BellMartin Neil BellMartin Neil BellAndrey Nikolayevich BelokrinkinAndrey Nikolayevich BelokrinkinAndrey Nikolayevich BelokrinkinViktor BelyakovViktor BelyakovViktor BelyakovMartin BendkMartin BendkMartin BendkMrton Zoltn BeneMrton Zoltn BeneGrega BenedikGrega BenedikKristinn BenediktssonKristinn BenediktssonKristinn BenediktssonKristinn BenediktssonKristinn BenediktssonKristinn BenediktssonKristinn BenediktssonAleksi BenianidzeAleksi BenianidzeNike Lovisa BentNike Lovisa BentNike Lovisa BentMacarena Benvenuto GutirrezAnna BereczAnna BereczAnna BereczAnna BereczAnna BereczAnna BereczAnna BereczAnna BereczAnna BereczAnna BereczGiancarlo BergamelliNorman BergamelliNorman BergamelliSergio BergamelliSergio BergamelliMonika Bergmann-SchmudererMonika Bergmann-SchmudererMonika Bergmann-SchmudererMonika Bergmann-SchmudererMonika Bergmann-SchmudererMonika Bergmann-SchmudererMauro BernardiMauro BernardiHedda Helene BerntsenMarc BerthodMarc BerthodMarc BerthodMarc BerthodMarc BerthodRen BerthodSylviane BerthodSylviane BerthodSylviane BerthodSylviane BerthodMarion BertrandOlivia BertrandYannick BertrandYannick BertrandWilliam BesseWilliam BesseWilliam BesseVasily Viktorovich BezsmelnitsynVasily Viktorovich BezsmelnitsynVasily Viktorovich BezsmelnitsynVasily Viktorovich BezsmelnitsynVasily Viktorovich BezsmelnitsynVasily Viktorovich BezsmelnitsynVasily Viktorovich BezsmelnitsynPatrice BianchiElisabetta BiavaschiHeidi Biebl (-Schmid, -Prelevi)Heidi Biebl (-Schmid, -Prelevi)Heidi Biebl (-Schmid, -Prelevi)Heidi Biebl (-Schmid, -Prelevi)Heidi Biebl (-Schmid, -Prelevi)Heidi Biebl (-Schmid, -Prelevi)Wanda BielerWanda BielerWanda BielerWanda BielerPatrick BiggsPatrick BiggsYakup Kadri BirinciYakup Kadri BirinciYakup Kadri BirinciYakup Kadri BirinciYakup Kadri BirinciYakup Kadri BirinciYakup Kadri BirinciJorge Ral Birkner CoganJorge Ral Birkner CoganJorge Ral Birkner CoganJorge Ral Birkner CoganJorge Ral Birkner CoganJorge Ral Birkner CoganJorge Ral Birkner CoganJorge Ral Birkner CoganTahir BisiTahir BisiTahir BisiArmin BittnerArmin BittnerArmin BittnerArmin BittnerArmin BittnerArmin BittnerBjrgvin BjrgvinssonBjrgvin BjrgvinssonBjrgvin BjrgvinssonBjrgvin BjrgvinssonBjrgvin BjrgvinssonBjrgvin BjrgvinssonKristinn BjrnssonKristinn BjrnssonKristinn BjrnssonKristinn BjrnssonKristinn BjrnssonKristinn BjrnssonKristinn BjrnssonKristinn BjrnssonCarol BlackwoodCarol BlackwoodCarol BlackwoodMargot Victoria Blakely (-Bursill, -Hawley)Massimiliano BlardoneMassimiliano BlardoneMassimiliano BlardoneMassimiliano BlardoneRobert \"Bob\" Blatt, Jr.Robert \"Bob\" Blatt, Jr.Werner BleinerWerner BleinerGeraldina BobbioFernande Bochatay (-Frank)Fernande Bochatay (-Frank)Fernande Bochatay (-Frank)Fernande Bochatay (-Frank)Fernande Bochatay (-Frank)Madeleine Bochatay (-Montessuit)Madeleine Bochatay (-Montessuit)Wilhelm Herman Bjrn \"Willy\" Bogner, Jr.Wilhelm Herman Bjrn \"Willy\" Bogner, Jr.Wilhelm Herman Bjrn \"Willy\" Bogner, Jr.Wilhelm Herman Bjrn \"Willy\" Bogner, Jr.Wilhelm Herman Bjrn \"Willy\" Bogner, Jr.Hernn Jorge Boher RosalesHernn Jorge Boher RosalesHernn Jorge Boher RosalesHernn Jorge Boher RosalesHernn Jorge Boher RosalesHernn Jorge Boher RosalesNataa BokalNataa BokalNataa BokalNataa BokalNataa BokalNataa BokalNataa BokalChristian BolliniChristian BolliniAttila BnisAttila BnisAttila BnisAttila BnisAttila BnisAttila BnisFranois BonlieuFranois BonlieuFranois BonlieuFranois BonlieuFranois BonlieuFranois BonlieuGrard BonnevieAnnick Bonzon (-Anner)Clare BoothClare BoothClare BoothClare BoothArijana BorasArijana BorasArijana BorasArijana BorasCatherine BorghiCatherine BorghiCatherine BorghiCatherine BorghiCatherine BorghiCatherine BorghiCatherine BorghiIvan BorisovIvan BorisovDavid BorradaileTherese Kristina BorssnTherese Kristina BorssnMnica Bosch ForrelladMnica Bosch ForrelladMnica Bosch ForrelladPeter BosingerSara-Maude BoucherSara-Maude BoucherPierrick BourgeatPierrick BourgeatPierrick BourgeatPierrick BourgeatChantal BournissenChantal BournissenChantal BournissenChantal BournissenChantal BournissenFranois BourqueFranois BourqueFranois BourqueFranois BourqueDidier BouvetDidier BouvetDidier BouvetNathalie BouvierRobert Alexander \"Rob\" BoydRobert Alexander \"Rob\" BoydRobert Alexander \"Rob\" BoydPatricia \"Patty\" Boydstun (-Hovdey)Patrick BrachnerPatrick BrachnerCraig BranchCraig BranchCraig BranchCraig BranchCraig BranchCraig BranchWill BrandenburgJonathon \"Jono\" BrauerJonathon \"Jono\" BrauerJonathon \"Jono\" BrauerJonathon \"Jono\" BrauerSibylle BraunerEva-Maria BremVirgil BrenciVirgil BrenciVirgil BrenciAle BrezavekAle BrezavekAle BrezavekRowena BrightRowena BrightFederica BrignoneFederica BrignoneFederica BrignoneFederica BrignoneSebastian BrigoviJuan Flipe Briones GoichJuan Flipe Briones GoichJuan Flipe Briones GoichPer Johan BroleniusPer Johan BroleniusPhilip \"Phil\" BrownPhilip \"Phil\" BrownEdmund \"Edy\" BruggmannEdmund \"Edy\" BruggmannEdmund \"Edy\" BruggmannEdmund \"Edy\" BruggmannEdmund \"Edy\" BruggmannAnne Brusletto (-Heje)Anne Brusletto (-Heje)Emily BrydonEmily BrydonEmily BrydonEmily BrydonEmily BrydonEmily BrydonEmily BrydonEmily BrydonReynir BrynjlfssonReynir BrynjlfssonMarco BchelMarco BchelMarco BchelMarco BchelMarco BchelMarco BchelMarco BchelMarco BchelMarco BchelMarco BchelMarco BchelMarco BchelMarco BchelMarco BchelMarco BchelKarin BuderKaren Annette Budge (-Eaton)Karen Annette Budge (-Eaton)Richard Carl \"Dick\" BuekNataliya Nikolayevna BugaNataliya Nikolayevna BugaNataliya Nikolayevna BugaNataliya Nikolayevna BugaMargit Marta Bhler (-Tschikof)Margit Marta Bhler (-Tschikof)Margit Marta Bhler (-Tschikof)Margit Marta Bhler (-Tschikof)Margit Marta Bhler (-Tschikof)Margit Marta Bhler (-Tschikof)Ivana BulatoviHans Petter BuraasHans Petter BuraasAlbert BurgerAlbert BurgerAlbert BurgerAlbert BurgerThomas BrglerThomas BrglerToni BrglerHans BurkhardJannette Weston Burr (-Bray, -Johnson)Jannette Weston Burr (-Bray, -Johnson)Jannette Weston Burr (-Bray, -Johnson)Nicolas BurtinNicolas BurtinNicolas BurtinNicolas BurtinRaphal BurtinFrederick BurtonFrederick BurtonTeresa M. BustamanteTeresa M. BustamanteTeresa M. BustamanteCarlos Manuel BustosMaciej BydliskiMaciej BydliskiMaciej BydliskiJens Pontus ByggmarkByun Jong-MoonByun Jong-MoonByun Jong-MoonByun Jong-MoonTimothy John \"Tim\" CafeAnia Monica Germaine CaillAnia Monica Germaine CaillAnia Monica Germaine CaillAnia Monica Germaine CaillKirstin CairnsKirstin CairnsCarola CalelloCarola CalelloCarola CalelloCarola CalelloCarola CalelloCarola CalelloIvano CamozziIvano CamozziIvano CamozziAntonio Campaa CampellaAntonio Campaa CampellaJasmine Jade Ariel Lyons CampbellJasmine Jade Ariel Lyons CampbellNicola Jane CampbellNicola Jane CampbellMichel CanacFrancesco CardelliFrancesco CardelliFrancesco CardelliFrancesco CardelliMarino CardelliMarino CardelliMichael \"Mike\" CarneyMichael \"Mike\" CarneyPol Carreras TorrasPol Carreras TorrasEmma Claire Carrick-AndersonEmma Claire Carrick-AndersonEmma Claire Carrick-AndersonEmma Claire Carrick-AndersonEmma Claire Carrick-AndersonEmma Claire Carrick-AndersonEmma Claire Carrick-AndersonMarco CasanovaAndrea Casasnovas RochaKellie CaseyJulien CastelliniConradin CathomenLuca CattaneoLuca CattaneoRgine CavagnoudRgine CavagnoudRgine CavagnoudRgine CavagnoudRgine CavagnoudRgine CavagnoudRgine CavagnoudRgine CavagnoudFranco CavegnFranco CavegnFranco CavegnGino CaviezelMauro CaviezelMauro CaviezelDaniela CeccarelliDaniela CeccarelliDaniela CeccarelliDaniela CeccarelliAnnalisa CeresaToma CerkovnikFrederick Stoddard \"Rick\" Chaffee, IIFrederick Stoddard \"Rick\" Chaffee, IIFrederick Stoddard \"Rick\" Chaffee, IIFrederick Stoddard \"Rick\" Chaffee, IISuzanne Stevia \"Suzy\" ChaffeeSuzanne Stevia \"Suzy\" ChaffeeJacky ChamounJacky ChamounOlga Charvtov (-Kriov)Olga Charvtov (-Kriov)Olga Charvtov (-Kriov)Bernard CharvinPatricia Chauvet-BlancPatricia Chauvet-BlancPatricia Chauvet-BlancPatricia Chauvet-BlancCathy Chedal (-Bornu)Cathy Chedal (-Bornu)Cathy Chedal (-Bornu)Cathy Chedal (-Bornu)Chen Yun-MingChen Yun-MingChen Yun-MingChen Yun-MingJol Georges Chenal JacquetJol Georges Chenal JacquetJol Georges Chenal JacquetJol Georges Chenal JacquetChia Kuo-LiangChia Kuo-LiangHaruhisa ChibaHaruhisa ChibaHaruhisa ChibaHaruhisa ChibaShinya ChibaShinya ChibaShinya ChibaShinya ChibaKonstantin Sergeyevich ChistyakovKonstantin Sergeyevich ChistyakovKonstantin Sergeyevich ChistyakovKonstantin Sergeyevich ChistyakovKonstantin Sergeyevich ChistyakovKonstantin Sergeyevich ChistyakovKonstantin Sergeyevich ChistyakovFanny ChmelarDavid ChodounskyNikola ChongarovNikola ChongarovNikola ChongarovNikola ChongarovKarolina ChrapekKarolina ChrapekKarolina ChrapekKarolina ChrapekKarolina ChrapekAlfred Peik ChristensenAlfred Peik ChristensenAlfred Peik ChristensenKarianne ChristiansenKarianne ChristiansenKarianne ChristiansenLavinia ChrystalLavinia ChrystalIvars CiagunsIvars CiagunsIvars CiagunsIvars CiagunsGlorianda CipollaGlorianda CipollaGlorianda CipollaJohan ClareyJohan ClareyJohan ClareyJohan ClareyKirsten Lee Clark (-Rickenbach)Kirsten Lee Clark (-Rickenbach)Kirsten Lee Clark (-Rickenbach)Kirsten Lee Clark (-Rickenbach)Kirsten Lee Clark (-Rickenbach)Kirsten Lee Clark (-Rickenbach)Kirsten Lee Clark (-Rickenbach)Kirsten Lee Clark (-Rickenbach)Eugenio ClaroEugenio ClaroEugenio ClaroElisabeth Anne \"Betsy\" Clifford (-Higgins)Elisabeth Anne \"Betsy\" Clifford (-Higgins)Elisabeth Anne \"Betsy\" Clifford (-Higgins)Elisabeth Anne \"Betsy\" Clifford (-Higgins)Elisabeth Anne \"Betsy\" Clifford (-Higgins)Elisabeth Anne \"Betsy\" Clifford (-Higgins)Steven CliffordSteven CliffordSteven CliffordAnnelise CobergerAnnelise CobergerBarbara Ann Cochran (-Williams)Barbara Ann Cochran (-Williams)Robert Bruce \"Bob\" CochranRobert Bruce \"Bob\" CochranRobert Bruce \"Bob\" CochranJames Michael \"Jimmy\" CochranJames Michael \"Jimmy\" CochranMarilyn E. Cochran (-Brown)Marilyn E. Cochran (-Brown)Marilyn E. Cochran (-Brown)Alexandra ColettiAlexandra ColettiAlexandra ColettiAlexandra ColettiAlexandra ColettiAlexandra ColettiAlexandra ColettiAlexandra ColettiAlexandra ColettiAlexandra ColettiAlexandra ColettiRoland CollombinLuigi Franco ColturiDeborah CompagnoniDeborah CompagnoniDeborah CompagnoniDeborah CompagnoniDeborah CompagnoniDeborah CompagnoniDeborah CompagnoniStacey Janelle CookStacey Janelle CookStacey Janelle CookStacey Janelle CookStacey Janelle CookStacey Janelle CookChristin Elizabeth CooperChristin Elizabeth CooperChristin Elizabeth CooperChristin Elizabeth CooperKarl CordinSusan Ada \"Susie\" Corrock (-Zoberski, -Luby)Susan Ada \"Susie\" Corrock (-Zoberski, -Luby)Francisco CortesFrancisco CortesFrancisco CortesFrancisco CortesFrancisco CortesChiara CostazzaChiara CostazzaChiara CostazzaPierre CouqueletPierre CouqueletPierre CouqueletJulien CousineauJames CouttetJames CouttetJames CouttetJames CouttetJames CouttetJames CouttetFrdric CoviliJudith MacPherson \"Judy\" Crawford (-Rawley)Judith MacPherson \"Judy\" Crawford (-Rawley)Judith MacPherson \"Judy\" Crawford (-Rawley)Rebecca Ann Fraser \"Becky\" CremerRebecca Ann Fraser \"Becky\" CremerClaude CrtierClaude CrtierJean-Luc CrtierJean-Luc CrtierJean-Luc CrtierJean-Luc CrtierJean-Luc CrtierJean-Luc CrtierJean-Luc CrtierJean-Luc CrtierReggie W. CristDan CristeaDan CristeaDan CristeaDan CristeaDan CristeaDan CristeaDan CristeaDan CristeaDan CristeaRobert James \"Rob\" CrossanRobert James \"Rob\" CrossanRobert James \"Rob\" CrossanRobert James \"Rob\" CrossanRobert James \"Rob\" CrossanRobert James \"Rob\" CrossanRoger CruickshankRoger CruickshankLinda Crutchfield-BocockLinda Crutchfield-BocockLinda Crutchfield-BocockDidier CucheDidier CucheDidier CucheDidier CucheDidier CucheDidier CucheDidier CucheDidier CucheDidier CucheDidier CucheDavid Henry CurrierDavid Henry CurrierChristina \"Kiki\" CutterChristina \"Kiki\" CutterChristina \"Kiki\" CutterRyszard Julian wikaRyszard Julian wikaRyszard Julian wikaAndrzej CzarniakBronisaw CzechPierre-Emmanuel DalcinPierre-Emmanuel DalcinPierre-Emmanuel DalcinYury Milanovich DanilochkinYury Milanovich DanilochkinYury Milanovich DanilochkinYury Milanovich DanilochkinYury Milanovich DanilochkinTuba Dademir-KocaaaTuba Dademir-KocaaaTuba Dademir-KocaaaTuba Dademir-KocaaaJean-Daniel DtwylerClaire DautherivesOphlie David (Rcz-)Ophlie David (Rcz-)Christine Davy (-Smith)Christine Davy (-Smith)Christine Davy (-Smith)Christine Davy (-Smith)Christine Davy (-Smith)Christine Davy (-Smith)Doris de Agostini (-Rossetti)Doris de Agostini (-Rossetti)Luca De AliprandiniPaolo De ChiesaPaolo De ChiesaFabio De CrignisPaul de la Cuesta EsnalPaul de la Cuesta EsnalPaul de la Cuesta EsnalPaul de la Cuesta EsnalPaul de la Cuesta EsnalPaul de la Cuesta EsnalPaul de la Cuesta EsnalFlorine de LeymarieFelice De NicoloFelice De NicoloClaire Elizabeth de Pourtales (-Hughes)Claire Elizabeth de Pourtales (-Hughes)Claire Elizabeth de Pourtales (-Hughes)Enrique de RidderEnrique de RidderGauthier de Tessires de BlanzacGauthier de Tessires de BlanzacGauthier de Tessires de BlanzacGauthier de Tessires de BlanzacCharles de WestenholzCharles de WestenholzCharles de WestenholzFrederick Patrick Piers de WestenholzFrederick Patrick Piers de WestenholzDanile DebernardDanile DebernardDanile DebernardDanile DebernardKarin Dedler (-Feigele)Didier DfagoDidier DfagoDidier DfagoDidier DfagoDidier DfagoDidier DfagoDidier DfagoDidier DfagoDidier DfagoDidier DfagoDidier DfagoDidier DfagoDidier DfagoDidier DfagoLuciano del Cacho RoyoJusto Ricardo Benigno del Carril AldaoGiustina DemetzGiustina DemetzGiustina DemetzGiustina DemetzGiustina DemetzGiustina DemetzStalina Sergeyevna Demidova-KorzukhinaStalina Sergeyevna Demidova-KorzukhinaStalina Sergeyevna Demidova-KorzukhinaStalina Sergeyevna Demidova-KorzukhinaStalina Sergeyevna Demidova-KorzukhinaStalina Sergeyevna Demidova-KorzukhinaMmtaz DemirhanMmtaz DemirhanDominic DemscharDominic DemscharAntoine DnriazAntoine DnriazAntoine DnriazAntoine DnriazMichael DennisMichael DennisCynthia Jennifer DenzlerCynthia Jennifer DenzlerAndrzej DereziskiAndrzej DereziskiAndrzej DereziskiRoman DereziskiRoman DereziskiRoman DereziskiAndrea DettlingAndrea DettlingAndrea DettlingCristian DevilleCamile DiasCamile DiasPetar Simeonov DichevPetar Simeonov DichevPetar Simeonov DichevPetar Simeonov DichevPetar Simeonov DichevPetar Simeonov DichevPetar Simeonov DichevPetar Simeonov DichevPetar Simeonov DichevPetar Simeonov DichevMichael DicksonYves DimierVasilios DimitriadisVasilios DimitriadisVasilios DimitriadisVasilios DimitriadisVasilios DimitriadisVasilios DimitriadisVasilios DimitriadisVasilios DimitriadisRobert \"Robbie\" DixonRobert \"Robbie\" DixonRobert \"Robbie\" DixonJoseph Brooks Dodge, Jr.Joseph Brooks Dodge, Jr.Joseph Brooks Dodge, Jr.Joseph Brooks Dodge, Jr.Joseph Brooks Dodge, Jr.Karen Dokka (-Vageletos)Karen Dokka (-Vageletos)Karen Dokka (-Vageletos)Karen Dokka (-Vageletos)Karen Dokka (-Vageletos)Karen Dokka (-Vageletos)Michle Brigitte DombardMichle Brigitte DombardZsfia DmeZsfia DmeZsfia DmeDong JinzhiDong JinzhiFritz DopferFritz DopferMichaela DorfmeisterMichaela DorfmeisterMichaela DorfmeisterMichaela DorfmeisterMichaela DorfmeisterMichaela DorfmeisterMichaela DorfmeisterMichaela DorfmeisterMichaela DorfmeisterRenrs DorsRenrs DorsChristelle Laura DouibiChristelle Laura DouibiAlenka DovanAlenka DovanAlenka DovanAlenka DovanAlenka DovanAlenka DovanAlenka DovanAlenka DovanAlenka DovanMarko oreviMarko oreviMarko oreviMitja DragiMitja DragiEdward Joseph \"Ed\" DrakeEdward Joseph \"Ed\" DrakeEdward Joseph \"Ed\" DrakeEdward Joseph \"Ed\" DrakeAna DrevAna DrevAna DrevAna DrevWiltrud DrexelWiltrud DrexelAndrey DryginAndrey DryginAndrey DryginAndrey DryginAndrey DryginAndrey DryginAndrey DryginAndrey DryginAndrey DryginMartina DubovskMartina DubovskVronique DugaillyVronique DugaillyHailey DukeRonald \"Boris\" DuncanRonald \"Boris\" DuncanRonald \"Boris\" DuncanRonald \"Boris\" DuncanRonald \"Boris\" DuncanPeter DuncanPeter DuncanPeter DuncanPeter DuncanPeter DuncanPeter DuncanPeter DrrPeter DrrPeter DrrAdrien DuvillardAdrien DuvillardAdrien DuvillardAdrien DuvillardAdrien DuvillardAdrien DuvillardAdrien DuvillardAdrien DuvillardAdrien DuvillardHenri DuvillardHenri DuvillardHenri DuvillardZurab DzhidzhishviliZurab DzhidzhishviliZurab DzhidzhishviliZurab DzhidzhishviliGordon Ladd \"Gordi\" EatonStephan EberharterStephan EberharterStephan EberharterStephan EberharterStephan EberharterStephan EberharterIngrid Eberle (-Trappel)Ingrid Eberle (-Trappel)Ingrid Eberle (-Trappel)Markus EberleMarkus EberleMarkus EberleElfriede \"Elfi\" Eder (-Rudolf)Michael EderSylvia EderSylvia EderSylvia EderSylvia EderSylvia EderSylvia EderSylvia EderStephen EdwardsSabine EggerNina Katarina EhrnroothNina Katarina EhrnroothSusanne Maria Ekman (-Schenstrm)Ulf Torsten EkstamUlf Torsten EkstamUlf Torsten EkstamUlf Torsten EkstamUlf Torsten EkstamUlf Torsten EkstamJere Lee ElliottWolfgang EnderWolfgang EnderWolfgang EnderFernando R. EnevoldsenFernando R. EnevoldsenHans EnnHans EnnHans EnnHans EnnEo Jae-SikEo Jae-SikIrene Epple (-Waigel)Irene Epple (-Waigel)Irene Epple (-Waigel)Irene Epple (-Waigel)Irene Epple (-Waigel)Irene Epple (-Waigel)Irene Epple (-Waigel)Maria Epple (-Beck)Maria Epple (-Beck)Maria Epple (-Beck)Maria Epple (-Beck)Maria Epple (-Beck)Nicola ErcolaniNicola ErcolaniNicola ErcolaniNicola ErcolaniNicola ErcolaniNicola ErcolaniNicola ErcolaniMats Gunnar EricsonMats Gunnar EricsonLars-Brje ErikssonLars-Brje ErikssonLars-Brje ErikssonRoberto (Robert) ErlacherKayrat ErmetovMahmut EroluMahmut EroluMartina Maria Ertl-RenzMartina Maria Ertl-RenzMartina Maria Ertl-RenzMartina Maria Ertl-RenzMartina Maria Ertl-RenzMartina Maria Ertl-RenzMartina Maria Ertl-RenzMartina Maria Ertl-RenzMartina Maria Ertl-RenzMartina Maria Ertl-RenzMartina Maria Ertl-RenzMartina Maria Ertl-RenzMartina Maria Ertl-RenzMartina Maria Ertl-RenzMartina Maria Ertl-RenzMartina Maria Ertl-RenzMartina Maria Ertl-RenzZeki EryldrmGerard Escoda AlegretGerard Escoda AlegretGerard Escoda AlegretGerard Escoda AlegretGerard Escoda AlegretGerard Escoda AlegretGerard Escoda AlegretGerard Escoda AlegretGerard Escoda AlegretGerard Escoda AlegretGerard Escoda AlegretGerard Escoda AlegretEu Woo-YounEu Woo-YounEu Woo-YounRoss Alain EwingtonRoss Alain EwingtonRoss Alain EwingtonStphane ExartierStphane ExartierGustavo EzquerraGustavo EzquerraGustavo EzquerraChristoffer Trentemller FaarupChristoffer Trentemller FaarupChristoffer Trentemller FaarupBernhard FahnerMathieu FaivreMatej FalatMatej FalatMatej FalatAnne-Marie \"Annie\" Famose (-Bremont)Anne-Marie \"Annie\" Famose (-Bremont)Anne-Marie \"Annie\" Famose (-Bremont)Anne-Marie \"Annie\" Famose (-Bremont)Anne-Marie \"Annie\" Famose (-Bremont)Anne-Marie \"Annie\" Famose (-Bremont)Anne-Marie \"Annie\" Famose (-Bremont)Thomas FanaraThomas FanaraElena FanchiniElena FanchiniElena FanchiniElena FanchiniElena FanchiniElena FanchiniNadia FanchiniNadia FanchiniNadia FanchiniNadia FanchiniNadia FanchiniNadia FanchiniNadia FanchiniBurgl Frbinger (-Leo)Burgl Frbinger (-Leo)Burgl Frbinger (-Leo)Burgl Frbinger (-Leo)Burgl Frbinger (-Leo)Burgl Frbinger (-Leo)Norbert FarkasNorbert FarkasRen Federico Farwig GuillenRen Federico Farwig GuillenClotilde FasolisClotilde FasolisClotilde FasolisAlessandro FattoriAlessandro FattoriAlessandro FattoriAlessandro FattoriAlessandro FattoriAlessandro FattoriAlessandro FattoriWilly FavreWilly FavreWilly FavreWilly FavreWilly FavreGuillermo FayedGuillermo FayedGuillermo FayedLyudmila Yevgenyevna FedotovaLyudmila Yevgenyevna FedotovaLyudmila Yevgenyevna FedotovaDenise FeierabendDenise FeierabendAnna Fenninger (-Veith)Anna Fenninger (-Veith)Anna Fenninger (-Veith)Anna Fenninger (-Veith)Anna Fenninger (-Veith)Anna Fenninger (-Veith)Anna Fenninger (-Veith)Mihaela Alina Fera (-Egan)Mihaela Alina Fera (-Egan)Mihaela Alina Fera (-Egan)Mihaela Alina Fera (-Egan)Mihaela Alina Fera (-Egan)Mihaela Alina Fera (-Egan)Mihaela Alina Fera (-Egan)Mihaela Alina Fera (-Egan)Mihaela Alina Fera (-Egan)Mihaela Alina Fera (-Egan)Mihaela Alina Fera (-Egan)Mihaela Alina Fera (-Egan)Mihaela Alina Fera (-Egan)Marua FerkMarua FerkMarua FerkMarua FerkMarua FerkMarua FerkMarua FerkMarua FerkMarua FerkMatea FerkMatea FerkMatea FerkMatea FerkBlanca Fernndez OchoaBlanca Fernndez OchoaBlanca Fernndez OchoaBlanca Fernndez OchoaBlanca Fernndez OchoaBlanca Fernndez OchoaBlanca Fernndez OchoaBlanca Fernndez OchoaDolores Fernndez OchoaDolores Fernndez OchoaFrancisco Fernndez OchoaFrancisco Fernndez OchoaFrancisco Fernndez OchoaFrancisco Fernndez OchoaFrancisco Fernndez OchoaFrancisco Fernndez OchoaFrancisco Fernndez OchoaFrancisco Fernndez OchoaFrancisco Fernndez OchoaFrancisco Fernndez OchoaFrancisco Fernndez OchoaDenis Lucien mile FeronDenis Lucien mile FeronDenis Lucien mile FeronDenis Lucien mile FeronDenis Lucien mile FeronDenis Lucien mile FeronBarbara Hale Ferries (-Henderson)Barbara Hale Ferries (-Henderson)Charles Thompson \"Chuck\" FerriesCharles Thompson \"Chuck\" FerriesCharles Thompson \"Chuck\" FerriesDieter FerschJosef \"Sepp\" FerstlJosef \"Sepp\" FerstlJosef \"Sepp\" FerstlJosef \"Sepp\" FerstlJosef \"Sepp\" FerstlRostyslav Ihorovych FeshchukRostyslav Ihorovych FeshchukAlain FeutrierAlain FeutrierAlain FeutrierBeat FeuzBeat FeuzBeat FeuzJakub Paul FialaJakub Paul FialaFelicity FieldFelicity FieldFelicity FieldMichela Figini (-Camozzi)Michela Figini (-Camozzi)Michela Figini (-Camozzi)Michela Figini (-Camozzi)Michela Figini (-Camozzi)Andres Figueroa MarinovicAndres Figueroa MarinovicAndres Figueroa MarinovicAndrey Vladimirovich FilichkinAndrey Vladimirovich FilichkinAndrey Vladimirovich FilichkinAndrey Vladimirovich FilichkinAndrey Vladimirovich FilichkinAndrey Vladimirovich FilichkinAndrey Vladimirovich FilichkinAndrey Vladimirovich FilichkinAndrey Vladimirovich FilichkinAndrey Vladimirovich FilichkinAndrey Vladimirovich FilichkinMartino FillMartino FillPeter FillPeter FillPeter FillPeter FillPeter FillPeter FillPeter FillPeter FillPeter FillBatrice Filliol (-Amiez)Batrice Filliol (-Amiez)Batrice Filliol (-Amiez)Liene FimbauereLiene FimbauereIain FinlaysonIain FinlaysonIain FinlaysonAndrea FischbacherAndrea FischbacherAndrea FischbacherRoland FischnallerRoland FischnallerAbigail E. \"Abbi\" Fisher (-Gould)Abigail E. \"Abbi\" Fisher (-Gould)Bengt Henrik FjllbergMerete FjeldavlieMerete FjeldavlieMerete FjeldavlieMerete FjeldavlieTorill FjeldstadTorill FjeldstadTorill FjeldstadTorill FjeldstadTorill FjeldstadTorill FjeldstadHolly Beth Flanders (-Schlopy)Holly Beth Flanders (-Schlopy)Chad FleischerChad FleischerChad FleischerChad FleischerNika FleissNika FleissNika FleissNika FleissNika FleissNika FleissNika FleissNika FleissAndrine FlemmenAndrine FlemmenAndrine FlemmenHans Thomas FogdHans Thomas FogdMiguel Font PuigMiguel Font PuigMiguel Font PuigJulia FordTommy FordAllison ForsythAllison ForsythGavin ForsythGavin ForsythMartina FortkordMartina FortkordRosie Pamela FortnaMarkus FoserMarkus FoserMarkus FoserAlekhis FotiadisAlekhis FotiadisAlekhis FotiadisAlekhis FotiadisAlekhis FotiadisAlekhis FotiadisAlekhis FotiadisAlekhis FotiadisPavlos FotiadisPavlos FotiadisJean-Luc FournierJean-Luc FournierSbastien Fournier-BidozSbastien Fournier-BidozToril Marit FrlandToril Marit FrlandToril Marit FrlandJosefine \"Putzi\" Frandl (-Crotty)Josefine \"Putzi\" Frandl (-Crotty)Josefine \"Putzi\" Frandl (-Crotty)Josefine \"Putzi\" Frandl (-Crotty)Josefine \"Putzi\" Frandl (-Crotty)Josefine \"Putzi\" Frandl (-Crotty)Jure FrankoJure FrankoJure FrankoMax FranzMax FranzMax FranzGretchen Claudia Fraser (Kunigk-)Gretchen Claudia Fraser (Kunigk-)Gretchen Claudia Fraser (Kunigk-)Peter FreiAlbert FrickPaul FrommeltPaul FrommeltPaul FrommeltPaul FrommeltPaul FrommeltPaul FrommeltWilli FrommeltWilli FrommeltWilli FrommeltWilli FrommeltWilli FrommeltWilli FrommeltYoshiharu FukuharaYoshiharu FukuharaYoshiharu FukuharaYoshiharu FukuharaYoshiharu FukuharaYoshiharu FukuharaToshimasa FurukawaOle Kristian FurusethOle Kristian FurusethOle Kristian FurusethOle Kristian FurusethOle Kristian FurusethOle Kristian FurusethOle Kristian FurusethOle Kristian FurusethEmma FuruvikGertrud GablGertrud GablGertrud GablGertrud GablGertrud GablMarie-Michle GagnonMarie-Michle GagnonMarie-Michle GagnonMarie-Michle GagnonMarie-Michle GagnonMarie-Michle GagnonDivina Mary GalicaDivina Mary GalicaDivina Mary GalicaDivina Mary GalicaDivina Mary GalicaDivina Mary GalicaDivina Mary GalicaDivina Mary GalicaDivina Mary GalicaAna Galindo SantolariaAna Galindo SantolariaMorena Gallizio (-Tescari)Morena Gallizio (-Tescari)Morena Gallizio (-Tescari)Morena Gallizio (-Tescari)Morena Gallizio (-Tescari)Morena Gallizio (-Tescari)Morena Gallizio (-Tescari)Morena Gallizio (-Tescari)Morena Gallizio (-Tescari)Morena Gallizio (-Tescari)Markus GanahlMarkus GanahlGang Min-HyeokGang Min-HyeokGang Min-HyeokGang Min-HyeokGang Yeong-SeoTravis Scott GanongTravis Scott GanongJana GantnerovJana GantnerovJana GantnerovJana GantnerovJana GantnerovJana GantnerovJana GantnerovJana GantnerovJana Gantnerov-oltsovJana Gantnerov-oltsovJana Gantnerov-oltsovJana Gantnerov-oltsovJana Gantnerov-oltsovJana Gantnerov-oltsovJana Gantnerov-oltsovJana Gantnerov-oltsovAgustn Garca JurjoAgustn Garca JurjoAurelio Garca OliverAurelio Garca OliverAurelio Garca OliverAurelio Garca OliverAurelio Garca OliverMurray Edward GardnerMurray Edward GardnerMurray Edward GardnerMateusz GarniewiczJuan Garriga TeruelJuan Garriga TeruelJuan Garriga TeruelMaria Gsienica Daniel-SzatkowskaMaria Gsienica Daniel-SzatkowskaMaria Gsienica Daniel-SzatkowskaMaria Gsienica Daniel-SzatkowskaMaria Gsienica Daniel-SzatkowskaMaria Gsienica Daniel-SzatkowskaAgnieszka Anna Gsienica-DanielAgnieszka Anna Gsienica-DanielAgnieszka Anna Gsienica-DanielAgnieszka Anna Gsienica-DanielAgnieszka Anna Gsienica-DanielMaryna Anna Gsienica-DanielMaryna Anna Gsienica-DanielMaryna Anna Gsienica-DanielRenato GaparRenato GaparJol GaspozJol GaspozJol GaspozJol GaspozJol GaspozJol GaspozJosef GassnerJosef GassnerJosef GassnerJosef GassnerJosef GassnerJosef GassnerNicol GastaldiNicol GastaldiLelde GasnaLelde GasnaMarie-Pierre Gatel (-Joumard)Klaus GattermannFranoise GayFranoise GayWilliam B. \"Bill\" GaylordWilliam B. \"Bill\" GaylordWilliam B. \"Bill\" GaylordWilliam B. \"Bill\" GaylordWilliam B. \"Bill\" GaylordMaui Gayme AnguitaMaui Gayme AnguitaMaui Gayme AnguitaMaui Gayme AnguitaMaui Gayme AnguitaMaui Gayme AnguitaMaui Gayme AnguitaMikael Gayme AnguitaMikael Gayme AnguitaMikael Gayme AnguitaMikael Gayme AnguitaJoe GazvodaJoe GazvodaJoe GazvodaNazih GeageaNazih GeageaNazih GeageaNazih GeageaNazih GeageaNazih GeageaVibecke Caroline Gedde-DahlVibecke Caroline Gedde-DahlVibecke Caroline Gedde-DahlNancy GeeChristina GeigerChristina GeigerJaba GelashviliJaba GelashviliGeorgi GeorgievGeorgi GeorgievGeorgi GeorgievGeorgi GeorgievStefan Asenov GeorgievStefan Asenov GeorgievStefan Asenov GeorgievStefan Asenov GeorgievStefan Asenov GeorgievStefan Asenov GeorgievStefan Asenov GeorgievStefan Asenov GeorgievStefan Asenov GeorgievStefan Asenov GeorgievStefan Asenov GeorgievStefan Asenov GeorgievMegan C. Gerety (-Moe)Megan C. Gerety (-Moe)Annemarie GergAnnemarie GergAnnemarie GergAnnemarie GergMathilde \"Hilde\" Gerg (-Gral)Mathilde \"Hilde\" Gerg (-Gral)Mathilde \"Hilde\" Gerg (-Gral)Mathilde \"Hilde\" Gerg (-Gral)Mathilde \"Hilde\" Gerg (-Gral)Mathilde \"Hilde\" Gerg (-Gral)Mathilde \"Hilde\" Gerg (-Gral)Mathilde \"Hilde\" Gerg (-Gral)Mathilde \"Hilde\" Gerg (-Gral)Mathilde \"Hilde\" Gerg (-Gral)Mathilde \"Hilde\" Gerg (-Gral)Mathilde \"Hilde\" Gerg (-Gral)Michaela Gerg-LeitnerMichaela Gerg-LeitnerMichaela Gerg-LeitnerMichaela Gerg-LeitnerMichaela Gerg-LeitnerMichaela Gerg-LeitnerMichaela Gerg-LeitnerMichaela Gerg-LeitnerMichaela Gerg-LeitnerMichaela Gerg-LeitnerCarlo GerosaCarlo GerosaCarlo GerosaCarlo GerosaKristian GhedinaKristian GhedinaKristian GhedinaKristian GhedinaKristian GhedinaKristian GhedinaKristian GhedinaKristian GhedinaKristian GhedinaAlberto GhidoniAlberto GhidoniValentin GichevValentin GichevXavier GigandetXavier GigandetTrude Charlotte GimleTrude Charlotte GimleTrude Charlotte GimleTrude Charlotte GimleTrude Charlotte GimleMarc GiniClaudia GiordaniClaudia GiordaniClaudia GiordaniClaudia GiordaniGian Matteo GiordaniDumeng GiovanoliDumeng GiovanoliDumeng GiovanoliDumeng GiovanoliMarc GirardelliMarc GirardelliMarc GirardelliMarc GirardelliMarc GirardelliMarc GirardelliMarc GirardelliMarc GirardelliMarc GirardelliMarc GirardelliMarc GirardelliMarc GirardelliMarc GirardelliDominique GisinDominique GisinDominique GisinDominique GisinDominique GisinMichelle Graldine GisinJane Eleanor GissingJane Eleanor GissingNicole GiusNicole GiusNicole GiusNicole GiusSvetlana Alekseyevna GladyshevaSvetlana Alekseyevna GladyshevaSvetlana Alekseyevna GladyshevaSvetlana Alekseyevna GladyshevaSvetlana Alekseyevna GladyshevaSvetlana Alekseyevna GladyshevaSvetlana Alekseyevna GladyshevaSvetlana Alekseyevna GladyshevaEva Catharina Glassr-BjernerEva Catharina Glassr-BjernerAleksandr \"Alek\" GlebovAleksandr \"Alek\" GlebovChristine Marion Elisabeth Goitschel (-Branger)Christine Marion Elisabeth Goitschel (-Branger)Micheline Franoise Marielle GoitschelMicheline Franoise Marielle GoitschelMicheline Franoise Marielle GoitschelMicheline Franoise Marielle GoitschelMicheline Franoise Marielle GoitschelMicheline Franoise Marielle GoitschelMehmet GkcanJared GoldbergJared GoldbergMira GolubMira GolubMira GolubVictor Gmez JavaleraVictor Gmez JavaleraVictor Gmez JavaleraVictor Gmez JavaleraVictor Gmez JavaleraVictor Gmez JavaleraVictor Gmez JavaleraVictor Gmez JavaleraYohann Gonalves Goutt GonalvesVeronika \"Vera\" GncziVeronika \"Vera\" GncziVeronika \"Vera\" GncziErnst GoodErnst GoodRita GoodRita GoodAnna GoodmanElisabeth GrglElisabeth GrglElisabeth GrglElisabeth GrglElisabeth GrglElisabeth GrglElisabeth GrglElisabeth GrglElisabeth GrglElisabeth GrglStephan GrglAle GorzaAle GorzaAle GorzaAle GorzaAle GorzaAle GorzaRenate GtschlRenate GtschlRenate GtschlRenate GtschlRenate GtschlRenate GtschlRenate GtschlRenate GtschlRenate GtschlRenate GtschlEwa Grabowska (-Gaczorek)Ewa Grabowska (-Gaczorek)Laurie Jean Graham (-Flynn)Laurie Jean Graham (-Flynn)Laurie Jean Graham (-Flynn)Laurie Jean Graham (-Flynn)Laurie Jean Graham (-Flynn)Bengt-Erik GrahnBengt-Erik GrahnBengt-Erik GrahnBengt-Erik GrahnBengt-Erik GrahnThomas GrandiThomas GrandiThomas GrandiThomas GrandiThomas GrandiThomas GrandiThomas GrandiThomas GrandiThomas GrandiJean-Baptiste GrangeJean-Baptiste GrangeJean-Baptiste GrangeBruce Lindsay GrantChristine Margaret Grant (-Kelly)Ingrid GrantMirjana Granzov (-Moevi)Brynhild Grasmoen (-Robinson, -Dedrick)Brynhild Grasmoen (-Robinson, -Dedrick)Vicky Grau MuxellaVicky Grau MuxellaVicky Grau MuxellaVicky Grau MuxellaVicky Grau MuxellaVicky Grau MuxellaVicky Grau MuxellaVicky Grau MuxellaVicky Grau MuxellaVicky Grau MuxellaChristian GreberRoss GreenRoss GreenElizabeth GreeneElizabeth GreeneElizabeth GreeneNancy Catherine Greene (-Raine)Nancy Catherine Greene (-Raine)Nancy Catherine Greene (-Raine)Nancy Catherine Greene (-Raine)Nancy Catherine Greene (-Raine)Nancy Catherine Greene (-Raine)Nancy Catherine Greene (-Raine)Nancy Catherine Greene (-Raine)Nancy Catherine Greene (-Raine)Benjamin \"Ben\" GriffinBenjamin \"Ben\" GriffinRoberto Giacomo GrigisKseniya GrigoryevaKseniya GrigoryevaKseniya GrigoryevaKseniya GrigoryevaSergey Nikolayevich GrishchenkoSergey Nikolayevich GrishchenkoSergey Nikolayevich GrishchenkoWerner GrissmannDuncan Grob UrzaDuncan Grob UrzaDuncan Grob UrzaThoms Grob UrzaThoms Grob UrzaThoms Grob UrzaBarbara Grocholska (-Kurkowiak)Barbara Grocholska (-Kurkowiak)Barbara Grocholska (-Kurkowiak)Barbara Grocholska (-Kurkowiak)Barbara Grocholska (-Kurkowiak)Piero GrosPiero GrosPiero GrosSacha GrosMatthew Reid \"Matt\" GrosjeanMatthew Reid \"Matt\" GrosjeanMatthew Reid \"Matt\" GrosjeanMatthew Reid \"Matt\" GrosjeanMatthew Reid \"Matt\" GrosjeanStefano GrossGregory \"Greg\" GrossmannGregory \"Greg\" GrossmannDrago GrubelnikDrago GrubelnikDrago GrubelnikChristoph GruberChristoph GruberChristoph GruberChristoph GruberJohann \"Hans\" GruggerCorina GrnenfelderGeorg GrnenfelderJrg GrnenfelderJrg GrnenfelderTobias GrnenfelderTobias GrnenfelderTobias GrnenfelderTobias GrnenfelderBernhard GstreinBernhard GstreinBernhard GstreinBernhard GstreinBernhard GstreinErik GuayErik GuayErik GuayErik GuayErik GuayErik GuayLamine GuyeLamine GuyeLamine GuyeLamine GuyeLamine GuyeLamine GuyeLamine GuyeLamine GuyeChristelle GuignardChristelle GuignardChristelle GuignardChristelle GuignardChristelle GuignardAlistair Samuel GussMarilla GussLara GutLara GutLara GutLara GutKatharina Anna \"Katrin\" Gutensohn (-Knopf-)Katharina Anna \"Katrin\" Gutensohn (-Knopf-)Katharina Anna \"Katrin\" Gutensohn (-Knopf-)Katharina Anna \"Katrin\" Gutensohn (-Knopf-)Mireia Gutirrez CabanesMireia Gutirrez CabanesMireia Gutirrez CabanesMireia Gutirrez CabanesMireia Gutirrez CabanesMireia Gutirrez CabanesMireia Gutirrez CabanesMireia Gutirrez Cabanesris Gumundsdttirris GumundsdttirBrynjar Jkull GumundssonBrynjar Jkull GumundssonGyeong Seong-HyeonGyeong Seong-HyeonAnja HaasAnja HaasChristl HaasChristl HaasChristl HaasChristl HaasZo Haas (-Barmettler)Zo Haas (-Barmettler)Zo Haas (-Barmettler)Gertraud \"Traudl\" Hcher-GavetMario HadaTarik HadiTarik HadiMargret Hafen (-Becherer)Margret Hafen (-Becherer)Alfred HagnAlfred HagnAlfred HagnAlfred HagnDiana Catherine Haight (-Arn)Erik HkerErik HkerErik HkerErik HkerErik HkerErik HkerErik HkerPaavo Kalevi HkkinenPaavo Kalevi HkkinenPaavo Kalevi Hkkinensta Sigriur Halldrsdttirsta Sigriur Halldrsdttirsta Sigriur Halldrsdttirsta Sigriur Halldrsdttirsta Sigriur HalldrsdttirPetra HaltmayrPetra HaltmayrPetra HaltmayrPetra HaltmayrPetra HaltmayrPetra HaltmayrRolf Lars-Gran HalvarssonRolf Lars-Gran HalvarssonSabahattin HamamcoluSabahattin HamamcoluMarco HanglMarco HanglMartin HanglMartin HanglMartin HanglJoan Lee Hannah (-Robinson)Joan Lee Hannah (-Robinson)Joan Lee Hannah (-Robinson)Joan Lee Hannah (-Robinson)Frida Marie HansdotterFrida Marie HansdotterFrida Marie HansdotterArtur HanseArtur HanseAnna Erika HanssonAnna Erika HanssonAnna Erika HanssonAnna Erika HanssonAnna Erika HanssonLars Martin HanssonLars Martin HanssonLars Martin HanssonJhann Fririk HaraldssonJhann Fririk HaraldssonJanette Helene HarginJanette Helene HarginJanette Helene HarginJanette Helene HarginJanette Helene HarginJanette Helene HarginJanette Helene HarginMattias HarginMattias HarginMaya HarrissonMaya HarrissonMaya HarrissonMaya HarrissonArsen HarutyunyanArsen HarutyunyanAli Fuad HalAli Fuad HalJrgen HaslerJrgen HaslerJrgen HaslerJrgen HaslerJrgen HaslerJrgen HaslerJrgen HaslerGeorgina Melissa \"Gina\" Hathorn (-Sopwith)Georgina Melissa \"Gina\" Hathorn (-Sopwith)Georgina Melissa \"Gina\" Hathorn (-Sopwith)Georgina Melissa \"Gina\" Hathorn (-Sopwith)Georgina Melissa \"Gina\" Hathorn (-Sopwith)Georgina Melissa \"Gina\" Hathorn (-Sopwith)Georgina Melissa \"Gina\" Hathorn (-Sopwith)Georgina Melissa \"Gina\" Hathorn (-Sopwith)Georgina Melissa \"Gina\" Hathorn (-Sopwith)Leif Kristian HaugenLeif Kristian HaugenLeif Kristian HaugenLeif Kristian HaugenRegina HuslRegina HuslRegina HuslRegina HuslRegina HuslRegina HuslStanley HayerStanley HayerStanley HayerTodd Mitchell HaywoodTodd Mitchell HaywoodTania Elisabeth Heald (-Dereham)Tania Elisabeth Heald (-Dereham)Alexander \"Alex\" HeathAlexander \"Alex\" HeathAlexander \"Alex\" HeathAlexander \"Alex\" HeathAlexander \"Alex\" HeathAlexander \"Alex\" HeathAlexander \"Alex\" HeathAlexander \"Alex\" HeathAlexander \"Alex\" HeathAlexander \"Alex\" HeathAlexander \"Alex\" HeathRodney \"Rod\" HebronRodney \"Rod\" HebronRodney \"Rod\" HebronRodney \"Rod\" HebronRodney \"Rod\" HebronRodney \"Rod\" HebronJosef \"Sepp\" HeckelmillerJosef \"Sepp\" HeckelmillerSara Maria HectorSara Maria HectorSara Maria HectorBirgit Heeb-BatlinerBirgit Heeb-BatlinerBirgit Heeb-BatlinerBirgit Heeb-BatlinerBirgit Heeb-BatlinerBirgit Heeb-BatlinerBirgit Heeb-BatlinerWerner HeelWerner HeelWerner HeelWerner HeelMarianne Hefti (-Stoll)Anne Heggtveit (-Hamilton)Anne Heggtveit (-Hamilton)Anne Heggtveit (-Hamilton)Anne Heggtveit (-Hamilton)Anne Heggtveit (-Hamilton)Anne Heggtveit (-Hamilton)Ivan HeimschildIvan HeimschildIvan HeimschildIvan HeimschildIvan HeimschildIvan HeimschildIvan HeimschildIvan HeimschildIvan HeimschildFranz HeinzerFranz HeinzerFranz HeinzerFranz HeinzerFranz HeinzerLouis-Pierre HlieOlof Christian Tobias HellmanOlof Christian Tobias HellmanOlof Christian Tobias HellmanOlof Christian Tobias HellmanHeini HemmiHeini HemmiGeorge Scott Robert HendersonGeorge Scott Robert HendersonWayne HendersonBarbara-Maria \"Barbi\" HennebergerBarbara-Maria \"Barbi\" HennebergerBarbara-Maria \"Barbi\" HennebergerBarbara-Maria \"Barbi\" HennebergerBarbara-Maria \"Barbi\" HennebergerBarbara-Maria \"Barbi\" HennebergerNiklas Eric HenningNiklas Eric HenningNiklas Eric HenningNiklas Eric HenningNikolai HentschNikolai HentschNikolai HentschNikolai HentschNikolai HentschReinfried HerbstReinfried HerbstReinfried HerbstSelina HereggerSelina HereggerSelina HereggerAskolds Feliss HermanovskisErika Hess (-Reymond)Erika Hess (-Reymond)Erika Hess (-Reymond)Erika Hess (-Reymond)Anna-Karin HesseAnna-Karin HesseJames Frederic \"Jimmy\" HeugaJames Frederic \"Jimmy\" HeugaJames Frederic \"Jimmy\" HeugaJames Frederic \"Jimmy\" HeugaHubert HiltiHubert HiltiChrista \"Christl\" HintermaierHans \"Hansi\" HinterseerHans \"Hansi\" HinterseerGaku HirasawaGaku HirasawaNoriyo HiroiNoriyo HiroiNoriyo HiroiNoriyo HiroiNoriyo HiroiNoriyo HiroiMarcel HirscherMarcel HirscherMarcel HirscherMarcel HirscherEgon HirtEgon HirtAmbrosi HoffmannAmbrosi HoffmannAmbrosi HoffmannAmbrosi HoffmannMaria Hfl-RieschMaria Hfl-RieschMaria Hfl-RieschMaria Hfl-RieschMaria Hfl-RieschMaria Hfl-RieschMaria Hfl-RieschMaria Hfl-RieschMaria Hfl-RieschHelmut HflehnerHelmut HflehnerWendy HoldenerWendy HoldenerJan HolickJan HolickJan HolickNancy E. Holland (-Podorigzach)Nancy E. Holland (-Podorigzach)Nancy E. Holland (-Podorigzach)Nancy E. Holland (-Podorigzach)Nancy E. Holland (-Podorigzach)Nancy E. Holland (-Podorigzach)Juan HolzJuan HolzJuan HolzPatrick HolzerPatrick HolzerPatrick HolzerKathrin HlzlMizue HoshiNicole HospNicole HospNicole HospNicole HospNicole HospNicole HospGabriel HottegindreRobert Laurence \"Robbie\" HourmontRobert Laurence \"Robbie\" HourmontSaid HousniSaid HousniUrka HrovatUrka HrovatUrka HrovatUrka HrovatUrka HrovatUrka HrovatUrka HrovatUrka HrovatLucie HrstkovLucie HrstkovLucie HrstkovLucie HrstkovLucie HrstkovLucie HrstkovLucie HrstkovLucie HrstkovLucie HrstkovLucie HrstkovLucie HrstkovLucie HrstkovLucie HrstkovBernhard \"Berni\" HuberBernhard \"Berni\" HuberHerbert HuberMarkus HubrichMarkus HubrichMarkus HubrichMatthias Henry HubrichMatthias Henry HubrichMatthias Henry HubrichMatthias Henry HubrichEva HukovEva HukovEva HukovEva HukovEva HukovJan HudecJan HudecJan HudecJan HudecWilliam Walker \"Bill\" HudsonWilliam Walker \"Bill\" HudsonWilliam Walker \"Bill\" HudsonAnthony HuguetAnthony HuguetJames Mark \"Jim\" HunterJames Mark \"Jim\" HunterJames Mark \"Jim\" HunterJames Mark \"Jim\" HunterJames Mark \"Jim\" HunterJames Mark \"Jim\" HunterThomas George HuppertThomas George HuppertThomas George HuppertHur Seung-WookHur Seung-WookHur Seung-WookHur Seung-WookHur Seung-WookHur Seung-WookHur Seung-WookHur Seung-WookHur Seung-WookHur Seung-WookHur Seung-WookHur Seung-WookHur Seung-WookCornelia HtterHwang Wei-ChungHwang Wei-ChungAinhoa Ibarra AstellaraAinhoa Ibarra AstellaraAinhoa Ibarra AstellaraAinhoa Ibarra AstellaraAinhoa Ibarra AstellaraAinhoa Ibarra AstellaraAinhoa Ibarra AstellaraAinhoa Ibarra AstellaraAinhoa Ibarra AstellaraLiliana Ichim (-Mureanu)Liliana Ichim (-Mureanu)Masami IchimuraMasami IchimuraMasami IchimuraMasami IchimuraChiharu IgayaChiharu IgayaChiharu IgayaChiharu IgayaChiharu IgayaChiharu IgayaChiharu IgayaChiharu IgayaChiharu IgayaNevena IgnjatoviNevena IgnjatoviNevena IgnjatoviNevena IgnjatoviNevena IgnjatoviKazuko IkedaKazuko IkedaYasuhiro IkutaValentina Dorcas IliffeValentina Dorcas IliffeValentina Dorcas IliffeValentina Dorcas IliffeValentina Dorcas IliffeValentina Dorcas IliffeValentina Dorcas IliffeValentina Dorcas IliffeValentina Dorcas IliffeUrs ImbodenUrs ImbodenVreni InbnitVreni InbnitVreni InbnitChristof InnerhoferChristof InnerhoferChristof InnerhoferChristof InnerhoferChristof InnerhoferChristof InnerhoferAnita Irarrazbal CalvoDavid Benjamin \"Dave\" IrwinDavid Benjamin \"Dave\" IrwinSvetlana IsakovaSvetlana IsakovaSvetlana IsakovaChiaki IshiokaChiaki IshiokaTakuya IshiokaTakuya IshiokaTakuya IshiokaTakuya IshiokaTakuya IshiokaTakuya IshiokaTakuya IshiokaTakuya IshiokaIvana IvchevskaIvana IvchevskaNaomine IwayaNaomine IwayaMoussa JaaloukMoussa JaaloukMichle Jacot (-Herry)Michle Jacot (-Herry)Michle Jacot (-Herry)Michle Jacot (-Herry)Michle Jacot (-Herry)Michle Jacot (-Herry)Ingrid JacquemodIngrid JacquemodIngrid JacquemodIngrid JacquemodIngrid JacquemodIngrid JacquemodIngrid JacquemodFinn Christian JaggeFinn Christian JaggeFinn Christian JaggeFinn Christian JaggeFinn Christian JaggeFinn Christian JaggeFinn Christian JaggeFinn Christian JaggeFinn Christian JaggeJakobna JakobsdttirJakobna JakobsdttirJakobna JakobsdttirJan Torsten JakobssonJan Torsten JakobssonJan Torsten JakobssonJan Torsten JakobssonBla JakopiBla JakopiBla JakopiHelen JamiesonHelen JamiesonJaroslav JandaJaroslav JandaJaroslav JandaCarlo JankaCarlo JankaCarlo JankaCarlo JankaCarlo JankaCarlo JankaCarlo JankaCarlo JankaKjetil JansrudKjetil JansrudKjetil JansrudKjetil JansrudKjetil JansrudKjetil JansrudKjetil JansrudKjetil JansrudKjetil JansrudKjetil JansrudKjetil JansrudIeva JanukeviitIeva JanukeviitBritt JanykBritt JanykBritt JanykMichael \"Mike\" JanykMichael \"Mike\" JanykMichael \"Mike\" JanykMichael \"Mike\" JanykPatrik Inge Johan JrbynPatrik Inge Johan JrbynPatrik Inge Johan JrbynPatrik Inge Johan JrbynPatrik Inge Johan JrbynPatrik Inge Johan JrbynPatrik Inge Johan JrbynPatrik Inge Johan JrbynPatrik Inge Johan JrbynPatrik Inge Johan JrbynPatrik Inge Johan JrbynPatrik Inge Johan JrbynPatrik Inge Johan JrbynPatrik Inge Johan JrbynPatrik Inge Johan JrbynAndrea Jardi CuadradoAndrea Jardi CuadradoAndrea Jardi CuadradoMicha JasiczekJanez JazbecAna JeluiAna JeluiAna JeluiAna JeluiAna JeluiAna JeluiToma JemcHarold Devereaux \"Dev\" JenningsOlivier JenotOlivier JenotOlivier JenotOlivier JenotOlivier JenotOlivier JenotOlivier JenotAndrej JermanAndrej JermanAndrej JermanAndrej JermanAndrej JermanAndrej JermanAndrej JermanAndrej JermanAndrej JermanTimothy Matthew \"Tim\" JitloffGumundur JhannssonGumundur JhannssonWilliam Dean \"Bill\" JohnsonAlice JonesAlice JonesAlice JonesMorgan JonesMorgan JonesErwin JosiSofie JurezSofie JurezMartin JulenMartin JulenMax JulenMax JulenJung Dong-HyeonJung Dong-HyeonJung Dong-HyeonYevgeniya Nikolayevna Kabina-SidorovaYevgeniya Nikolayevna Kabina-SidorovaYevgeniya Nikolayevna Kabina-SidorovaYevgeniya Nikolayevna Kabina-SidorovaYevgeniya Nikolayevna Kabina-SidorovaYevgeniya Nikolayevna Kabina-SidorovaYevgeniya Nikolayevna Kabina-SidorovaYevgeniya Nikolayevna Kabina-SidorovaYevgeniya Nikolayevna Kabina-SidorovaToshihiro KaiwaToshihiro KaiwaToshihiro KaiwaToshihiro KaiwaBagher KalhorGorban Ali KalhorGorban Ali KalhorGorban Ali KalhorGorban Ali KalhorGorban Ali KalhorGorban Ali KalhorMarjan KalhorMarjan KalhorStefan KlinStefan KlinUrs KlinUrs KlinUrs KlinMagdalini \"Magda\" KalomoirouMagdalini \"Magda\" KalomoirouNadja Kamer (-Jnglin)Nadja Kamer (-Jnglin)Nadja Kamer (-Jnglin)Paula Kann (-Valar)Paula Kann (-Valar)Barbara KantorovBarbara KantorovBarbara KantorovKatarzyna KarasiskaDenise KarbonDenise KarbonDenise KarbonDenise KarbonDenise KarbonDenise KarbonMuhammad KarimTruls Ove KarlsenTruls Ove KarlsenTruls Ove KarlsenTruls Ove KarlsenTruls Ove KarlsenTruls Ove KarlsenTruls Ove KarlsenMonika KasererMonika KasererMonika KasererMonika KasererMonika KasererMonika KasererHenry Charles \"Hank\" KashiwaHenry Charles \"Hank\" KashiwaKumiko KashiwagiKumiko KashiwagiKumiko KashiwagiKumiko KashiwagiKumiko KashiwagiMasayoshi KashiwagiMasayoshi KashiwagiNolan KasperNolan KasperMikio KatagiriMikio KatagiriMikio KatagiriMikio KatagiriMiyuki Katagiri (-Furukawa)Miyuki Katagiri (-Furukawa)Miyuki Katagiri (-Furukawa)Marianne Kaufmann-AbderhaldenMarianne Kaufmann-AbderhaldenMarko KaviMarko KaviEmi KawabataEmi KawabataEmi KawabataEmi KawabataEmi KawabataEmi KawabataEmi KawabataEmi KawabataEmi KawabataEmi KawabataEmi KawabataEmi KawabataMicha KawaMicha KawaMicha KawaMicha KawaMaksim Nikolayevich KedrinMaksim Nikolayevich KedrinStephan KepplerStephan KepplerStephan KepplerBruno KernenBruno KernenBruno KernenBruno KernenBruno KernenBruno KernenSzvetlana Keszthelyi (Pupiscseva-)Szvetlana Keszthelyi (Pupiscseva-)Szvetlana Keszthelyi (Pupiscseva-)Szvetlana Keszthelyi (Pupiscseva-)Ghassan Joseph KeyrouzGhassan Joseph KeyrouzGhassan Joseph KeyrouzGhassan Joseph KeyrouzMitko KhadzhievMitko KhadzhievMitko KhadzhievMitko KhadzhievYuliya KharkivskaYuliya KharkivskaAleksandr Viktorovich KhoroshilovAleksandr Viktorovich KhoroshilovAleksandr Viktorovich KhoroshilovAleksandr Viktorovich KhoroshilovAleksandr Viktorovich KhoroshilovAleksandr Viktorovich KhoroshilovAleksandr Viktorovich KhoroshilovAleksandr Viktorovich KhoroshilovAleksandr Viktorovich KhoroshilovAleksandr Viktorovich KhoroshilovAleksandr Viktorovich KhoroshilovTheodoros KhristodoulouTheodoros KhristodoulouTheodoros KhristodoulouTheodoros KhristodoulouMartin Iosifovich KhuberMartin Iosifovich KhuberMartin Iosifovich KhuberLotfollah Kia ShemshakiLotfollah Kia ShemshakiLotfollah Kia ShemshakiLotfollah Kia ShemshakiLotfollah Kia ShemshakiLotfollah Kia ShemshakiLotfollah Kia ShemshakiLotfollah Kia ShemshakiLotfollah Kia ShemshakiAhmet KblAhmet KblAhmet KblAhmet KblAhmet KblYoshinari KidaYoshinari KidaYoshinari KidaYoshinari KidaWilliam Winston \"Billy\" KiddWilliam Winston \"Billy\" KiddWilliam Winston \"Billy\" KiddWilliam Winston \"Billy\" KiddWilliam Winston \"Billy\" KiddWilliam Winston \"Billy\" KiddMarina KiehlMarina KiehlMarina KiehlMarina KiehlMarina KiehlAleksander Aamodt KildeAleksander Aamodt KildeAleksander Aamodt KildeLindsey Caroline Kildow-VonnLindsey Caroline Kildow-VonnLindsey Caroline Kildow-VonnLindsey Caroline Kildow-VonnLindsey Caroline Kildow-VonnLindsey Caroline Kildow-VonnLindsey Caroline Kildow-VonnLindsey Caroline Kildow-VonnLindsey Caroline Kildow-VonnLindsey Caroline Kildow-VonnLindsey Caroline Kildow-VonnJean-Claude KillyJean-Claude KillyJean-Claude KillyJean-Claude KillyJean-Claude KillyJean-Claude KillyMarkus Daniel KilsgaardKim Hyeong-CheolKim Jin-HaeKim Jin-HaeKim Jin-HaeKim Seon-JuKim Seon-JuKim So-HuiKim So-HuiKim U-SeongKim U-SeongKim U-SeongKiminobu KimuraKiminobu KimuraKiminobu KimuraKiminobu KimuraKiminobu KimuraKiminobu KimuraKiminobu KimuraKiminobu KimuraKiminobu KimuraKiminobu KimuraKiminobu KimuraKiminobu KimuraJolanda Kindle (-Vogt)Jolanda Kindle (-Vogt)Jolanda Kindle (-Vogt)Jolanda Kindle (-Vogt)Jolanda Kindle (-Vogt)Jolanda Kindle (-Vogt)Jolanda Kindle (-Vogt)Bradley Mitchell \"Brad\" KingChrista Kinshofer-Gthlein (-Rembeck)Christa Kinshofer-Gthlein (-Rembeck)Christa Kinshofer-Gthlein (-Rembeck)Christa Kinshofer-Gthlein (-Rembeck)Christa Kinshofer-Gthlein (-Rembeck)Christa Kinshofer-Gthlein (-Rembeck)Michaela KirchgasserMichaela KirchgasserMichaela KirchgasserMichaela KirchgasserMichaela KirchgasserMichaela KirchgasserMichaela KirchgasserMichaela KirchgasserMichaela KirchgasserElisabeth \"Lisi\" Kirchler (-Riml)Elisabeth \"Lisi\" Kirchler (-Riml)Elisabeth \"Lisi\" Kirchler (-Riml)Elisabeth \"Lisi\" Kirchler (-Riml)Mariya KirkovaMariya KirkovaMariya KirkovaMariya KirkovaMariya KirkovaMariya KirkovaMariya KirkovaBorislav KiryakovBorislav KiryakovAlva Ross \"A J\" Kitt, IVAlva Ross \"A J\" Kitt, IVAlva Ross \"A J\" Kitt, IVAlva Ross \"A J\" Kitt, IVAlva Ross \"A J\" Kitt, IVAlva Ross \"A J\" Kitt, IVAlva Ross \"A J\" Kitt, IVAlva Ross \"A J\" Kitt, IVAlva Ross \"A J\" Kitt, IVMohammad KiyadarbandsariMohammad KiyadarbandsariLasse Kjus (Kristoffersen-)Lasse Kjus (Kristoffersen-)Lasse Kjus (Kristoffersen-)Lasse Kjus (Kristoffersen-)Lasse Kjus (Kristoffersen-)Lasse Kjus (Kristoffersen-)Lasse Kjus (Kristoffersen-)Lasse Kjus (Kristoffersen-)Lasse Kjus (Kristoffersen-)Lasse Kjus (Kristoffersen-)Lasse Kjus (Kristoffersen-)Lasse Kjus (Kristoffersen-)Lasse Kjus (Kristoffersen-)Lasse Kjus (Kristoffersen-)Lasse Kjus (Kristoffersen-)Lasse Kjus (Kristoffersen-)Lasse Kjus (Kristoffersen-)Lasse Kjus (Kristoffersen-)Marianne KjrstadMarianne KjrstadMarianne KjrstadFranz KlammerFranz KlammerFranz KlammerRicardo KlenkMaja KlepiMaja KlepiAndrej KlinarAndrej KlinarAndrej KlinarAndrej KlinarAndrej KlinarAndrej KlinarKajsa Britta KlingKajsa Britta KlingKajsa Britta KlingKajsa Britta KlingAleksandra Klu-ZamiedzowyHans KnauHans KnauHans KnauHans KnauHans KnauBernhard Knauss (Knau-)Howard \"Chip\" KnightHoward \"Chip\" KnightHoward \"Chip\" KnightStephen P. \"Steve\" KnowltonStephen P. \"Steve\" KnowltonStephen P. \"Steve\" KnowltonAna KobalJernej KoblarJernej KoblarJernej KoblarJernej KoblarJernej KoblarJernej KoblarJernej KoblarJernej KoblarJernej KoblarJernej Koblarva KochOsamu KodamaOsamu KodamaOsamu KodamaOsamu KodamaRadim KolouekRadim KolouekRadim KolouekSergey Anatolyevich KomarovSergey Anatolyevich KomarovSergey Anatolyevich KomarovSergey Anatolyevich KomarovAndrea KomiAndrea KomiGerhard KnigsrainerAnton Nikolayevich KonovalovAnton Nikolayevich KonovalovAnton Nikolayevich KonovalovMario KonzettMario KonzettUrsula Konzett (-Gregg)Ursula Konzett (-Gregg)Ursula Konzett (-Gregg)Ursula Konzett (-Gregg)Ursula Konzett (-Gregg)Ursula Konzett (-Gregg)Ursula Konzett (-Gregg)Eduardo Antonio Kopper OrlichEduardo Antonio Kopper OrlichKatja KorenKatja KorenKatja KorenKatja KorenKatja KorenJeannette KortenJeannette KortenDmitry Aleksandrovich KoshkinDmitry Aleksandrovich KoshkinKlemen KosiKlemen KosiKlemen KosiKlemen KosiKlemen KosiBojan KosiBojan KosiJure KoirJure KoirJure KoirJure KoirJure KoirJure KoirJure KoirJure KoirJure KoirJure KoirJure KoirIvica KosteliIvica KosteliIvica KosteliIvica KosteliIvica KosteliIvica KosteliIvica KosteliIvica KosteliIvica KosteliIvica KosteliIvica KosteliIvica KosteliIvica KosteliIvica KosteliJanica KosteliJanica KosteliJanica KosteliJanica KosteliJanica KosteliJanica KosteliJanica KosteliJanica KosteliJanica KosteliJanica KosteliJanica KosteliJanica KosteliIsolde Kostner (-Perathoner)Isolde Kostner (-Perathoner)Isolde Kostner (-Perathoner)Isolde Kostner (-Perathoner)Isolde Kostner (-Perathoner)Isolde Kostner (-Perathoner)Isolde Kostner (-Perathoner)Pierre KszliPierre KszliPierre KszliPierre KszliKonstantina KoutraMnika KovcsMnika KovcsMnika KovcsMnika KovcsPter KozmaPter KozmaKristina Lyn KoznickKristina Lyn KoznickKristina Lyn KoznickKristina Lyn Koznickan Kranjecan KranjecKathy Kreiner (-Phillips)Kathy Kreiner (-Phillips)Kathy Kreiner (-Phillips)Kathy Kreiner (-Phillips)Kathy Kreiner (-Phillips)Kathy Kreiner (-Phillips)Kathy Kreiner (-Phillips)Kathy Kreiner (-Phillips)Lauren Margaret \"Laurie\" Kreiner (-Vaillancourt)Lauren Margaret \"Laurie\" Kreiner (-Vaillancourt)Lauren Margaret \"Laurie\" Kreiner (-Vaillancourt)Lauren Margaret \"Laurie\" Kreiner (-Vaillancourt)Lauren Margaret \"Laurie\" Kreiner (-Vaillancourt)Lauren Margaret \"Laurie\" Kreiner (-Vaillancourt)Pter KristlyPter KristlyPter KristlyPter KristlyPter KristlyEinar Kristinn KristgeirssonEinar Kristinn KristgeirssonKristine KristiansenKristine KristiansenKristine KristiansenKristine KristiansenDagn Linda KristjnsdttirDagn Linda KristjnsdttirDagn Linda KristjnsdttirDagn Linda KristjnsdttirDagn Linda KristjnsdttirDagn Linda KristjnsdttirDagn Linda KristjnsdttirDagn Linda KristjnsdttirHenrik KristoffersenHenrik KristoffersenAndrej KriajAndrej KriajAndrej KriajAndrej KriajBojan KriajBojan KriajBojan KriajBojan KriajBojan KriajBojan KriajKlra KovKlra KovKlra KovKlra KovKlra KovKlaus KrllKlaus KrllKlaus KrllPetra KronbergerPetra KronbergerPetra KronbergerPetra KronbergerPetra KronbergerPetra KronbergerPetra KronbergerPetra KronbergerAnni KronbichlerAnni KronbichlerKristin Elizabeth Krone (Rogers-, -Vallant)Kristin Elizabeth Krone (Rogers-, -Vallant)Kristin Elizabeth Krone (Rogers-, -Vallant)Kristin Elizabeth Krone (Rogers-, -Vallant)Carlyn Kruger (-Dodds)Carlyn Kruger (-Dodds)Carlyn Kruger (-Dodds)Krytof KrzlKrytof KrzlKrytof KrzlKrytof KrzlKrytof KrzlKrytof KrzlKrytof KrzlKrytof KrzlKrytof KrzlKrytof KrzlKrytof KrzlDagmara KrzyyskaJohn KuceraJohn KuceraJohn KuceraKatsuhito KumagaiKatsuhito KumagaiKatsuhito KumagaiKatsuhito KumagaiLilian KummerMitja KuncMitja KuncMitja KuncMitja KuncMitja KuncMitja KuncMitja KuncMitja KuncMitja KuncPatrick KngPatrick KngJoe KuraltJoe KuraltJoe KuraltEva KurfrstovEva KurfrstovEva KurfrstovYelizaveta Mikhaylovna KuzmenkoYelizaveta Mikhaylovna KuzmenkoMarika LabanczJose LacasseJose LacasseLo Jean Fernand LacroixLo Jean Fernand LacroixLo Jean Fernand LacroixKonrad Kurt LadsttterMichael McCormack \"Mike\" LaffertyBrigitte \"Britt\" Lafforgue (-Duvillard)Brigitte \"Britt\" Lafforgue (-Duvillard)Igor LaikertIgor LaikertIgor LaikertIgor LaikertIgor LaikertDavid LajouxDavid LajouxHira LalCaroline LaliveCaroline LaliveCaroline LaliveCaroline LaliveCaroline LaliveLambros LambrouLambros LambrouAdam LamhamediAdam LamhamediChristine LaprellChristine LaprellChristine LaprellAnna LarionovaAnna LarionovaLucie LarocheLars Markus LarssonLars Markus LarssonLars Markus LarssonLars Markus LarssonLars Markus LarssonLars Markus LarssonLars Markus LarssonMarina Laurencon (-Mougel)Marina Laurencon (-Mougel)Annie LaurendeauKatarina LavtarSherry LawrenceSherry LawrenceJorge-Emilio LazzariniJorge-Emilio LazzariniJorge-Emilio LazzariniRichard LeatherbeeRichard LeatherbeeRichard LeatherbeeTetiana LebedevaTetiana LebedevaTetiana LebedevaLee Ki-HyunSteven John LeeSteven John LeeSteven John LeeSteven John LeeSteven John LeeSteven John LeeSteven John LeeSteven John LeeSteven John LeeKerrin Anne Lee-GartnerKerrin Anne Lee-GartnerKerrin Anne Lee-GartnerKerrin Anne Lee-GartnerKerrin Anne Lee-GartnerKerrin Anne Lee-GartnerKerrin Anne Lee-GartnerKerrin Anne Lee-GartnerKerrin Anne Lee-GartnerKerrin Anne Lee-GartnerSophie Lefranc-DuvillardSophie Lefranc-DuvillardSophie Lefranc-DuvillardAnne-Marie LeFranoisAnne-Marie LeFranoisNanna Herborg LeifsdttirNanna Herborg LeifsdttirSanni Maaria LeinonenSanni Maaria LeinonenJudi Leinweber (-McIntosh)Judi Leinweber (-McIntosh)Judi Leinweber (-McIntosh)Ludwig \"Luggi\" LeitnerLudwig \"Luggi\" LeitnerLudwig \"Luggi\" LeitnerLudwig \"Luggi\" LeitnerLudwig \"Luggi\" LeitnerLudwig \"Luggi\" LeitnerLudwig \"Luggi\" LeitnerLudwig \"Luggi\" LeitnerLudwig \"Luggi\" LeitnerAndy LeRoyWilli LeschWilli LeschWilli LeschJanne LeskinenJanne LeskinenJanne LeskinenJanne LeskinenAndreja Leskovek (-McQuarrie)Andreja Leskovek (-McQuarrie)James LeuzingerFrank Joseph \"Joe\" LevinsDouglas Grey \"Doug\" LewisDouglas Grey \"Doug\" LewisSarah LewisSarah LewisLi GuangxuLi GuangxuLi LeiLi LeiTheodore Sharp \"Ted\" LigetyTheodore Sharp \"Ted\" LigetyTheodore Sharp \"Ted\" LigetyTheodore Sharp \"Ted\" LigetyTheodore Sharp \"Ted\" LigetyTheodore Sharp \"Ted\" LigetyTheodore Sharp \"Ted\" LigetyTheodore Sharp \"Ted\" LigetyTheodore Sharp \"Ted\" LigetyTheodore Sharp \"Ted\" LigetyTheodore Sharp \"Ted\" LigetyLin Chi-LiangLin Chi-LiangLin Chi-LiangLin Chi-LiangJessica Monika Lindell VikarbyJessica Monika Lindell VikarbyJessica Monika Lindell VikarbyJessica Monika Lindell VikarbyJessica Monika Lindell VikarbyJessica Monika Lindell VikarbyJessica Monika Lindell VikarbyJessica Monika Lindell VikarbyJessica Monika Lindell VikarbyJessica Monika Lindell VikarbyHilary Kirsten LindhHilary Kirsten LindhHilary Kirsten LindhHilary Kirsten LindhHilary Kirsten LindhHilary Kirsten LindhHilary Kirsten LindhGeorg LindnerCarl Niklas LindqvistCarl Niklas LindqvistCarl Niklas LindqvistNils Rune LindstrmNils Rune LindstrmNils Rune LindstrmNils Rune LindstrmNils Rune LindstrmNils Rune LindstrmNils LinnebergNils LinnebergNils LinnebergNils LinnebergNils LinnebergNils LinnebergNils LinnebergNils LinnebergNils LinnebergJan Lipowskignes LitterJulien LizerouxJulien LizerouxJulien LizerouxGatan LlorachAlbert Llovera MassanaAlbert Llovera MassanaAlbert Llovera MassanaSteve LocherSteve LocherSteve LocherSteve LocherSteve LocherSteve LocherSteve LocherThomas LdlerThomas LdlerOlha LohinovaOlha LohinovaOlha LohinovaOlha LohinovaOlha LohinovaJosef LoidlJosef LoidlJosef LoidlJelena LoloviJelena LoloviJelena LoloviJelena LoloviJelena LoloviJelena LoloviJelena LoloviJelena LoloviJelena LoloviJhonatan LonghiJhonatan LonghiJhonatan LonghiJhonatan LonghiSanti Lpez PratsMona With LsethMona With LsethMona With LsethMona With LsethMona With LsethMona With LsethNina With LsethNina With LsethLibby LudlowStefan LuitzStefan LuitzBarbara LukovBarbara LukovWendy LumbyWendy LumbyWendy LumbyWendy LumbyJeanette Lunde (-Lunder)Jeanette Lunde (-Lunder)Jeanette Lunde (-Lunder)Peter LscherPeter LscherPeter LscherChristina LustenbergerJacques LthyJacques LthyConor Michael LyneConor Michael LyneScott MacartneyScott MacartneyScott MacartneyScott MacartneyScott MacartneySoa MaculovSoa MaculovSoa MaculovSoa MaculovSoa MaculovGnther MaderGnther MaderGnther MaderGnther MaderGnther MaderGnther MaderGnther MaderGnther MaderGnther MaderGnther MaderGnther MaderGnther MaderGnther MaderGnther MaderGnther MaderRegina Mader-SterzRegina Mader-SterzBeth Anne Madsen (-McNichol)Beth Anne Madsen (-McNichol)Kristinn MagnssonKristinn MagnssonLara MagoniLara MagoniLara MagoniLara MagoniLara MagoniPaoletta \"Paola\" Magoni-SforzaPaoletta \"Paola\" Magoni-SforzaPaoletta \"Paola\" Magoni-SforzaPaoletta \"Paola\" Magoni-SforzaIvo Oswald MahlknechtIvo Oswald MahlknechtIvo Oswald MahlknechtIvo Oswald MahlknechtIvo Oswald MahlknechtIvo Oswald MahlknechtPhillip Ferdinand \"Phil\" MahrePhillip Ferdinand \"Phil\" MahrePhillip Ferdinand \"Phil\" MahrePhillip Ferdinand \"Phil\" MahrePhillip Ferdinand \"Phil\" MahrePhillip Ferdinand \"Phil\" MahrePhillip Ferdinand \"Phil\" MahreSteven Irving \"Steve\" MahreSteven Irving \"Steve\" MahreSteven Irving \"Steve\" MahreSteven Irving \"Steve\" MahreSteven Irving \"Steve\" MahreDaniel MahrerDaniel MahrerDaniel MahrerDaniel MahrerDaniel MahrerHermann MaierHermann MaierHermann MaierHermann MaierHermann MaierHermann MaierHermann MaierUlrike MaierUlrike MaierUlrike MaierUlrike MaierUlrike MaierUlrike MaierMonika MaierhoferMonika MaierhoferMichael MairMichael MairVladimir Ivanovich MakeyevVladimir Ivanovich MakeyevRobert MakharashviliVasilios MakridisVasilios MakridisJakub Marek MalczewskiJakub Marek MalczewskiJakub Marek MalczewskiJulia Marie Mancuso (-Fish)Julia Marie Mancuso (-Fish)Julia Marie Mancuso (-Fish)Julia Marie Mancuso (-Fish)Julia Marie Mancuso (-Fish)Julia Marie Mancuso (-Fish)Julia Marie Mancuso (-Fish)Julia Marie Mancuso (-Fish)Julia Marie Mancuso (-Fish)Julia Marie Mancuso (-Fish)Julia Marie Mancuso (-Fish)Julia Marie Mancuso (-Fish)Julia Marie Mancuso (-Fish)Jorge Mandr HenrquezJorge Mandr HenrquezJorge Mandr HenrquezJorge Mandr HenrquezJorge Mandr HenrquezRaimo Ensio ManninenRaimo Ensio ManninenRaimo Ensio ManninenRaimo Ensio ManninenRaimo Ensio ManninenRaimo Ensio ManninenAlessandro \"Alex\" Mapelli-MozziAlessandro \"Alex\" Mapelli-MozziAlessandro \"Alex\" Mapelli-MozziAlexandra MaasovAlexandra MaasovMarie Marchand-Arvier (-Jay)Marie Marchand-Arvier (-Jay)Marie Marchand-Arvier (-Jay)Marie Marchand-Arvier (-Jay)Marie Marchand-Arvier (-Jay)Marie Marchand-Arvier (-Jay)Marie Marchand-Arvier (-Jay)Marie Marchand-Arvier (-Jay)Diego MargozziniDiego MargozziniDiego MargozziniMaria MaricichMika Kullervo MarilaMika Kullervo MarilaMika Kullervo MarilaMika Kullervo MarilaMika Kullervo MarilaMika Kullervo MarilaFrdric Marin-CudrazDanko MarinelliDanko MarinelliDanko MarinelliIngeborg Helen MarkenIngeborg Helen MarkenIngeborg Helen MarkenIngeborg Helen MarkenIngeborg Helen MarkenIngeborg Helen MarkenGjorgji MarkovskiGjorgji MarkovskiAnmone MarmottanAnmone MarmottanAnmone MarmottanWilliam Charles \"Bill\" MaroltAttila MarosiAttila MarosiFrancesca MarsagliaFrancesca MarsagliaFrancesca MarsagliaChelsea MarshallGianfranco MartinGianfranco MartinGianfranco MartinGianfranco MartinGianfranco MartinGabriela MartinovovGabriela MartinovovGabriela MartinovovJzef MarusarzJzef MarusarzJzef MarusarzJzef MarusarzJzef MarusarzJzef MarusarzHitonari MaruyamaJuichi MaruyamaGnther MarxerGnther MarxerGnther MarxerGnther MarxerGnther MarxerGnther MarxerGnther MarxerHerbert MarxerHerbert MarxerHerbert MarxerJavier Masana BeignesJavier Masana BeignesJavier Masana BeignesAleksey Aleksandrovich MaslovAleksey Aleksandrovich MaslovAleksey Aleksandrovich MaslovFlorence Masnada (-Aubonnet)Florence Masnada (-Aubonnet)Florence Masnada (-Aubonnet)Florence Masnada (-Aubonnet)Florence Masnada (-Aubonnet)Florence Masnada (-Aubonnet)Florence Masnada (-Aubonnet)Florence Masnada (-Aubonnet)Florence Masnada (-Aubonnet)Florence Masnada (-Aubonnet)Adolf MathisAdolf MathisBohdana Olehivna MatsotskaBohdana Olehivna MatsotskaBohdana Olehivna MatsotskaBohdana Olehivna MatsotskaAlfred MattAlfred MattMario MattMario MattMario MattWerner MattleGeorges MauduitMarcel MaxaMarcel MaxaMarcel MaxaChristian MayerChristian MayerChristian MayerChristian MayerChristian MayerChristian MayerMatthias MayerMatthias MayerMatthias MayerMatthias MayerSergey Vladimirovich MaytakovSergey Vladimirovich MaytakovSergey Vladimirovich MaytakovSergey Vladimirovich MaytakovSergey Vladimirovich MaytakovKlementina \"Tina\" MazeKlementina \"Tina\" MazeKlementina \"Tina\" MazeKlementina \"Tina\" MazeKlementina \"Tina\" MazeKlementina \"Tina\" MazeKlementina \"Tina\" MazeKlementina \"Tina\" MazeKlementina \"Tina\" MazeKlementina \"Tina\" MazeKlementina \"Tina\" MazeKlementina \"Tina\" MazeKlementina \"Tina\" MazeDarin McBeathDarin McBeathDarin McBeathDennis Marshall McCoyKirsten Kate Llewellyn \"Kirsty\" McGarryKirsten Kate Llewellyn \"Kirsty\" McGarryKirsten Kate Llewellyn \"Kirsty\" McGarryKirsten Kate Llewellyn \"Kirsty\" McGarryTamsen McGarryTamsen McGarryCharles Felix McGrathCharles Felix McGrathCharles Felix McGrathMegan Jean McJamesMegan Jean McJamesMegan Jean McJamesMegan Jean McJamesMichelle McKendry-RuthvenMichelle McKendry-RuthvenMichelle McKendry-RuthvenMichelle McKendry-RuthvenMichelle McKendry-RuthvenMichelle McKendry-RuthvenMichelle McKendry-RuthvenMichelle McKendry-RuthvenMichelle McKendry-RuthvenAlice McKennisTamara Price McKinneyTamara Price McKinneyTamara Price McKinneyTamara Price McKinneyTamara Price McKinneyTamara Price McKinneyRobert Lloyd \"Barney\" McLeanRobert Lloyd \"Barney\" McLeanRobert Lloyd \"Barney\" McLeanErika Louise McLeodErika Louise McLeodAndrea Bario Mead-LawrenceAndrea Bario Mead-LawrenceAndrea Bario Mead-LawrenceAndrea Bario Mead-LawrenceAndrea Bario Mead-LawrenceAndrea Bario Mead-LawrenceAndrea Bario Mead-LawrenceAndrea Bario Mead-LawrenceAndrea Bario Mead-LawrencePatrizia Medail Occioni BonaffonsOvaness MeguerdonianOvaness MeguerdonianOvaness MeguerdonianOvaness MeguerdonianOvaness MeguerdonianOvaness MeguerdonianSuela MhilliSuela MhilliChristina Anna Meier-HckChristina Anna Meier-HckChristina Anna Meier-HckChristina Anna Meier-HckAlexandra MeissnitzerAlexandra MeissnitzerAlexandra MeissnitzerAlexandra MeissnitzerAlexandra MeissnitzerAlexandra MeissnitzerAlexandra MeissnitzerAlexandra MeissnitzerAnn Eva Margareta MelanderAnn Eva Margareta MelanderVasily Stepanovich MelnikovVasily Stepanovich MelnikovVasily Stepanovich MelnikovVasily Stepanovich MelnikovVasily Stepanovich MelnikovVasily Stepanovich MelnikovGeorges MendesGeorges MendesGeorges MendesGeorges MendesJonna MendesJonna MendesJonna MendesJonna MendesJonna MendesDavid MercerDavid MercerDaniela MerighettiDaniela MerighettiDaniela MerighettiDaniela MerighettiDaniela MerighettiDaniela MerighettiDaniela MerighettiDaniela MerighettiDaniela MerighettiNina MerkulovaNina MerkulovaNina MerkulovaNina MerkulovaNina MerkulovaNina MerkulovaCarole Hlne Merle (-Pellet)Carole Hlne Merle (-Pellet)Carole Hlne Merle (-Pellet)Carole Hlne Merle (-Pellet)Carole Hlne Merle (-Pellet)Carole Hlne Merle (-Pellet)Carole Hlne Merle (-Pellet)Carole Hlne Merle (-Pellet)Carole Hlne Merle (-Pellet)Carole Hlne Merle (-Pellet)Carole Hlne Merle (-Pellet)Alessandra MerlinBarbara MerlinBarbara MerlinBarbara MerlinBarbara MerlinBarbara MerlinThomas Mermillod-BlondinThomas Mermillod-BlondinThomas Mermillod-BlondinThomas Mermillod-BlondinThomas Mermillod-BlondinErkan MermutErkan MermutHeinrich \"Heini\" MessnerHeinrich \"Heini\" MessnerHeinrich \"Heini\" MessnerHeinrich \"Heini\" MessnerHeinrich \"Heini\" MessnerLinda Meyers (-Tikalsky)Linda Meyers (-Tikalsky)Linda Meyers (-Tikalsky)Linda Meyers (-Tikalsky)Vincenzo Romano MichelottiFinlay MickelFinlay MickelErin Louise MielzynskiErin Louise MielzynskiErin Louise MielzynskiCarlos Mier y TernCarlos Mier y TernCarlos Mier y TernSven Gran MikaelssonSven Gran MikaelssonAndrej MiklavcAndrej MiklavcAndrej MiklavcAndrej MiklavcEdit MiklsEdit MiklsEdit MiklsEdit MiklsEdit MiklsParide MiliantiParide MiliantiParide MiliantiParide MiliantiParide MiliantiParide MiliantiParide MiliantiParide MiliantiAndy Ray MillAndy Ray MillSamuel Bode MillerSamuel Bode MillerSamuel Bode MillerSamuel Bode MillerSamuel Bode MillerSamuel Bode MillerSamuel Bode MillerSamuel Bode MillerSamuel Bode MillerSamuel Bode MillerSamuel Bode MillerSamuel Bode MillerSamuel Bode MillerSamuel Bode MillerSamuel Bode MillerSamuel Bode MillerSamuel Bode MillerSamuel Bode MillerSamuel Bode MillerVincent MilletMalcolm MilneMalcolm MilneMalcolm MilneMalcolm MilneMalcolm MilneMalcolm MilneKentaro MinagawaKentaro MinagawaKentaro MinagawaKentaro MinagawaKentaro MinagawaJosef \"Jos\" MinschJosef \"Jos\" MinschJosef \"Jos\" MinschJosef \"Jos\" MinschIsabelle Catherine MirIsabelle Catherine MirIsabelle Catherine MirIsabelle Catherine MirIsabelle Catherine MirSteve MissillierSteve MissillierSteve MissillierSteve MissillierMasayoshi MitaniMasayoshi MitaniMasayoshi MitaniEvi Mittermaier (-Brundobler)Evi Mittermaier (-Brundobler)Evi Mittermaier (-Brundobler)Heide \"Heidi\" Mittermaier (-Fischer)Heide \"Heidi\" Mittermaier (-Fischer)Heide \"Heidi\" Mittermaier (-Fischer)Rosemarie \"Rosi\" Mittermaier (-Neureuther)Rosemarie \"Rosi\" Mittermaier (-Neureuther)Rosemarie \"Rosi\" Mittermaier (-Neureuther)Rosemarie \"Rosi\" Mittermaier (-Neureuther)Rosemarie \"Rosi\" Mittermaier (-Neureuther)Rosemarie \"Rosi\" Mittermaier (-Neureuther)Rosemarie \"Rosi\" Mittermaier (-Neureuther)Rosemarie \"Rosi\" Mittermaier (-Neureuther)Rosemarie \"Rosi\" Mittermaier (-Neureuther)Christiane MitterwallnerHisashi MizugamiHisashi MizugamiHisashi MizugamiRene MlekuThomas Sven \"Tommy\" MoeThomas Sven \"Tommy\" MoeThomas Sven \"Tommy\" MoeThomas Sven \"Tommy\" MoeThomas Sven \"Tommy\" MoeThomas Sven \"Tommy\" MoeThomas Sven \"Tommy\" MoeThomas Sven \"Tommy\" MoeYina Marie Moe-LangeYina Marie Moe-LangeAlexandre MohbatAlexandre MohbatAnna Mohrov (Zivcov-)Anna Mohrov (Zivcov-)Anna Mohrov (Zivcov-)Manfred MlggManfred MlggManfred MlggManfred MlggManfred MlggManfred MlggManfred MlggManuela MlggManuela MlggManuela MlggManuela MlggBart MollinHenri Julien MollinHenri Julien MollinHenri Julien MollinHenri Julien MollinHenri Julien MollinHenri Julien MollinKathleen \"Katie\" MonahanKathleen \"Katie\" MonahanKathleen \"Katie\" MonahanTally Diyevich MonastyryovTally Diyevich MonastyryovTally Diyevich MonastyryovCarole Montillet-CarlesCarole Montillet-CarlesCarole Montillet-CarlesCarole Montillet-CarlesCarole Montillet-CarlesCarole Montillet-CarlesCarole Montillet-CarlesLeire Morlans AguilarLeire Morlans AguilarRegine Msenlechner (-Bittner)Regine Msenlechner (-Bittner)Regine Msenlechner (-Bittner)Regine Msenlechner (-Bittner)Regine Msenlechner (-Bittner)Regine Msenlechner (-Bittner)Annemarie Moser-PrllAnnemarie Moser-PrllAnnemarie Moser-PrllAnnemarie Moser-PrllAnnemarie Moser-PrllAnnemarie Moser-PrllMehdi MouidiRichard David \"Dick\" MovitzRagnhild MowinckelRagnhild MowinckelRagnhild MowinckelRagnhild MowinckelCary Lee MullenCary Lee MullenCary Lee MullenCary Lee MullenCary Lee MullenPeter MllerPeter MllerPeter MllerLothar Christian MunderLothar Christian MunderLothar Christian MunderLothar Christian MunderAlexandra MunteanuAlexandra MunteanuAlexandra MunteanuAlexandra MunteanuDorin MunteanuDorin MunteanuDorin MunteanuJustin MurisierGerhard MussnerGerhard MussnerGerhard MussnerEdda MutterLars Elton MyhreLars Elton MyhreLars Elton MyhreLars Elton MyhreLars Elton MyhrePer Andr MyhrerPer Andr MyhrerPer Andr MyhrerPer Andr MyhrerDmytro Vitaliyovich MytsakDmytro Vitaliyovich MytsakDmytro Vitaliyovich MytsakMarie-Theres NadigMarie-Theres NadigMarie-Theres NadigMarie-Theres NadigMarie-Theres NadigMarie-Theres NadigMarie-Theres NadigMarie-Theres NadigJack Edward NagelJack Edward NagelJudy Ann NagelJudy Ann NagelMitsuyo NagumoMitsuyo NagumoMitsuyo NagumoJamyang NamgialIoan Gabriel NanIoan Gabriel NanMatteo NanaMatteo NanaRoberto NaniBrigitte NansozBrigitte NansozBianca Andreea NareaAna Sabine NaumannAna Sabine NaumannSonja NefSonja NefSonja NefSonja NefTyler NellaCynthia Lee \"Cindy\" NelsonCynthia Lee \"Cindy\" NelsonCynthia Lee \"Cindy\" NelsonCynthia Lee \"Cindy\" NelsonCynthia Lee \"Cindy\" NelsonCynthia Lee \"Cindy\" NelsonCynthia Lee \"Cindy\" NelsonTasha Marie NelsonTasha Marie NelsonGerhard NenningGerhard NenningGerhard NenningGerhard NenningGerhard NenningArsen NersisyanArsen NersisyanYekaterina NesterenkoKatrin NeuenschwanderChristian NeureutherChristian NeureutherChristian NeureutherChristian NeureutherChristian NeureutherFelix NeureutherFelix NeureutherFelix NeureutherFelix NeureutherFelix NeureutherFelix NeureutherGunnar Otto NeuriesserFlorentin Daniel NicolaeFlorentin Daniel NicolaeMarina NiggMarina NiggKathrin NikolussiHarald Christian Strand NilsenHarald Christian Strand NilsenStine Hofgaard NilsenCamilla Margareta Nilsson (-Bengtsson)Camilla Margareta Nilsson (-Bengtsson)Jonas Lars NilssonJonas Lars NilssonJonas Lars NilssonJonas Lars NilssonChirine NjeimChirine NjeimChirine NjeimChirine NjeimChirine NjeimChirine NjeimChirine NjeimChirine NjeimChirine NjeimChirine NjeimKwame Nkrumah-AcheampongJeremy Macarthur NobisJeremy Macarthur NobisAndrew \"Andy\" NobleAndrew \"Andy\" NobleBruno NcklerBruno NcklerNastasia NoensNastasia NoensCharlotte \"Lotte\" NoglerCharlotte \"Lotte\" NoglerCharlotte \"Lotte\" NoglerTsuneo NotoTsuneo NotoTsuneo NotoTsuneo NotoTsuneo NotoJedrij NotzJedrij Notzana Novakoviana Novakoviana Novakoviana NovakoviVladislav Dmitriyevich NovikovSofija NovoseliSofija NovoseliSofija NovoseliYlva Hjrdis Sofia NownYlva Hjrdis Sofia NownYlva Hjrdis Sofia NownYlva Hjrdis Sofia NownYlva Hjrdis Sofia NownYlva Hjrdis Sofia NownYlva Hjrdis Sofia NownTiiu NurmbergTiiu NurmbergTiiu NurmbergTiiu NurmbergMats Fredrik NybergMats Fredrik NybergMats Fredrik NybergMats Fredrik NybergMats Fredrik NybergMats Fredrik NybergMats Fredrik NybergMats Fredrik NybergMats Fredrik NybergMats Fredrik NybergMats Fredrik NybergMats Fredrik NybergSteven \"Steve\" NymanSteven \"Steve\" NymanSteven \"Steve\" NymanSteven \"Steve\" NymanSteven \"Steve\" NymanO Jae-EunO Jae-EunConnor Olev Martin O'BrienConnor Olev Martin O'BrienMarlies OberholzerMarlies OberholzerBrigitte ObermoserBrigitte ObermoserBrigitte ObermoserHeidi ObrechtHeidi ObrechtTheres ObrechtTheres ObrechtTheres ObrechtShane O'ConnorBrigitte OertliBrigitte OertliBrigitte OertliBrigitte OertliBrigitte OertliBrigitte OertliMarlies OesterMarlies OesterManfred Oettl ReyesManfred Oettl ReyesManfred Oettl ReyesManfred Oettl ReyesOrnella Oettl ReyesOrnella Oettl ReyesOrnella Oettl ReyesOrnella Oettl ReyesYoshihiro OhiraYoshihiro OhiraTetsuya OkabeTetsuya OkabeTetsuya OkabeTetsuya OkabeEmiko OkazakiEmiko OkazakiEmiko OkazakiHarue OkitsuHarue OkitsuHarue OkitsuIvan OlivariMarc OliverasMarc OliverasMarc OliverasMarc OliverasRiitta Liisa Ollikka (-Laksola)Riitta Liisa Ollikka (-Laksola)Riitta Liisa Ollikka (-Laksola)Bjrn OlsenBjrn OlsenJeffrey Allen \"Jeff\" OlsonJeffrey Allen \"Jeff\" OlsonJeffrey Allen \"Jeff\" OlsonJeffrey Allen \"Jeff\" OlsonJeffrey Allen \"Jeff\" OlsonHans Anders OlssonHans Anders OlssonHans Anders OlssonLars Inge OlssonLars Inge OlssonLars Inge OlssonMatts Anton OlssonOng Ching-MingOng Ching-MingOng Ching-MingOng Ching-MingOng Ching-MingOng Ching-MingMrti OnskulisMrti OnskulisDeyvid OprjaDeyvid OprjaDeyvid OprjaImogene Anna Opton (-Fish)Imogene Anna Opton (-Fish)Luke O'ReillyLuke O'ReillyLuke O'ReillyBernard OrcelBernard OrcelBernard OrcelChristian OrlainskyChristian OrlainskyAnnibale John \"Ni\" Orsi, Jr.Patrick OrtliebPatrick OrtliebPatrick OrtliebManuel Osborne-ParadisManuel Osborne-ParadisManuel Osborne-ParadisManuel Osborne-ParadisManuel Osborne-ParadisManuel Osborne-ParadisManuel Osborne-ParadisKristjn Uni skarssonKristjn Uni skarssonMasahiko OtsueMasahiko OtsueMihoko OtsueMihoko OtsueMihoko OtsueAnna Helene Ottosson (-Blixth)Anna Helene Ottosson (-Blixth)Anna Helene Ottosson (-Blixth)Anna Helene Ottosson (-Blixth)Anna Helene Ottosson (-Blixth)Anna Helene Ottosson (-Blixth)Carolyne OughtonCarolyne OughtonJenny OwensJenny OwensJenny OwensJenny OwensKatherine \"Kate\" Pace-LindsayKatherine \"Kate\" Pace-LindsayKatherine \"Kate\" Pace-LindsayKatherine \"Kate\" Pace-LindsayKalle Markus PalanderKalle Markus PalanderKalle Markus PalanderKalle Markus PalanderKalle Markus PalanderKalle Markus PalanderKalle Markus PalanderTea PaliElisabeth \"Lisi\" PallOlga Pall (-Scartezzini)Olga Pall (-Scartezzini)Olga Pall (-Scartezzini)Robert W. PalmerRobert W. PalmerRobert W. PalmerTerry Joseph PalmerTyler Reuben PalmerCharles Anthony Palmer-TomkinsonCharles Anthony Palmer-TomkinsonJeremy James Palmer-TomkinsonJeremy James Palmer-TomkinsonJeremy James Palmer-TomkinsonSanteri PaloniemiSindri Mr PlssonSindri Mr PlssonSindri Mr PlssonDejan PanovskiDejan PanovskiAndreas PantelidisAndreas PantelidisAndreas PantelidisSabina PanzaniniSabina PanzaniniKonstantinos PapamichaelKonstantinos PapamichaelChristopher PapamichalopoulosChristopher PapamichalopoulosSophia PapamichalopoulouSophia PapamichalopoulouDimitrios PapposDimitrios PapposDimitrios PapposDimitrios PapposDimitrios PapposAntonio Jos Pardo AndrettaEngelhard PargtziDominik ParisDominik ParisDominik ParisDominik ParisAnne-Lise ParisienJulie Madelein Josephine ParisienJulie Madelein Josephine ParisienJulie Madelein Josephine ParisienJulie Madelein Josephine ParisienJulie Madelein Josephine ParisienJulie Madelein Josephine ParisienJulie Madelein Josephine ParisienRobert \"Rob\" ParisienPark Byung-RoPark Byung-RoPark Byung-RoPark Je-YunPark Je-YunAnja Sofia Tess PrsonAnja Sofia Tess PrsonAnja Sofia Tess PrsonAnja Sofia Tess PrsonAnja Sofia Tess PrsonAnja Sofia Tess PrsonAnja Sofia Tess PrsonAnja Sofia Tess PrsonAnja Sofia Tess PrsonAnja Sofia Tess PrsonAnja Sofia Tess PrsonAnja Sofia Tess PrsonChristel Pascal-SaioniChristel Pascal-SaioniJames Peter \"Pete\" PattersonJames Peter \"Pete\" PattersonJames Peter \"Pete\" PattersonJames Peter \"Pete\" PattersonKateina PaulthovKateina PaulthovKateina PaulthovVedran PavlekVedran PavlekVedran PavlekVedran PavlekVedran PavlekVedran PavlekVedran PavlekVedran PavlekUro PavloviJan PawlicaItalo PedroncelliItalo PedroncelliItalo PedroncelliItalo PedroncelliItalo PedroncelliItalo PedroncelliPerrine Marie Pelen (-Mazzega)Perrine Marie Pelen (-Mazzega)Perrine Marie Pelen (-Mazzega)Perrine Marie Pelen (-Mazzega)lise Pellegrinlise PellegrinMonique Gia PelletierMonique Gia PelletierMonique Gia PelletierPeter PenPeter PenPeter PenPeter PenPeter PenIvan PenevIvan PenevIvan PenevIvan PenevIvan PenevIvan PenevAlain PenzAlain PenzAlain PenzLaure PequegnotLaure PequegnotLaure PequegnotLaure PequegnotAlan Leo PerathonerWerner PerathonerWerner PerathonerWerner PerathonerRoss PeraudoRoss PeraudoKaren Lynne Percy (-Lowe)Karen Lynne Percy (-Lowe)Karen Lynne Percy (-Lowe)Karen Lynne Percy (-Lowe)Karen Lynne Percy (-Lowe)Bibiana PerezBibiana PerezBibiana PerezBibiana PerezBibiana PerezBibiana PerezBibiana PerezBibiana PerezBibiana PerezGuy Prillat MercerozGuy Prillat MercerozGuy Prillat MercerozGuy Prillat MercerozGuy Prillat MercerozGuy Prillat MercerozGuy Prillat MercerozGuy Prillat MercerozGuy Prillat MercerozRok PerkoCarlos Antonio PernerCarlos Antonio PernerCarlos Antonio PernerCarlos Antonio PernerOlesya PersidskayaOlesya PersidskayaKaren PersynGerhard PfaffenbichlerHadwig \"Hadi\" Pfeifer (Lantschner-)Marco PfiffnerMarco PfiffnerBrittany PhelanTrevor Wansbrough PhilpTrevor Wansbrough PhilpBruno PiazzalungaBruno PiazzalungaFranck PiccardFranck PiccardFranck PiccardFranck PiccardFranck PiccardFranck PiccardFranck PiccardFranck PiccardFranck PiccardFranck PiccardIan PiccardIan PiccardLela PiccardLela PiccardLela PiccardLela PiccardHans PierenHans PierenHans PierenMaria Helena Pietil HolmnerMaria Helena Pietil HolmnerMaria Helena Pietil HolmnerMaria Helena Pietil HolmnerMaria Helena Pietil HolmnerMaria Helena Pietil HolmnerAlexis PinturaultAlexis PinturaultAlexis PinturaultGiannos PipisGiannos PipisAstrid PlankDidier PlaschyChristophe PlChristophe PlChristophe PlChristophe PlJane PleterekAlexander PlonerAlexander PlonerEdward Charles \"Ed\" PodivinskyEdward Charles \"Ed\" PodivinskyEdward Charles \"Ed\" PodivinskyEdward Charles \"Ed\" PodivinskyEdward Charles \"Ed\" PodivinskyEdward Charles \"Ed\" PodivinskyEdward Charles \"Ed\" PodivinskyEdward Charles \"Ed\" PodivinskyEdward Charles \"Ed\" PodivinskyKhrystyna PodrushnaKhrystyna PodrushnaDavid PoissonDavid PoissonDavid PoissonDavid PoissonJosef PoligJosef PoligJosef PoligPetar PopangelovPetar PopangelovPetar PopangelovPetar PopangelovPetar PopangelovPetar PopangelovLyubomir Svetoslavov PopovLyubomir Svetoslavov PopovLyubomir Svetoslavov PopovLyubomir Svetoslavov PopovLyubomir Svetoslavov PopovLyubomir Svetoslavov PopovLyubomir Svetoslavov PopovLyubomir Svetoslavov PopovLyubomir Svetoslavov PopovLyubomir Svetoslavov PopovLyubomir Svetoslavov PopovLyubomir Svetoslavov PopovSandra Wayne \"Sandy\" PoulsenSandra Wayne \"Sandy\" PoulsenTanja Tuulia Poutiainen (-Rinne)Tanja Tuulia Poutiainen (-Rinne)Tanja Tuulia Poutiainen (-Rinne)Tanja Tuulia Poutiainen (-Rinne)Tanja Tuulia Poutiainen (-Rinne)Tanja Tuulia Poutiainen (-Rinne)Tanja Tuulia Poutiainen (-Rinne)Tanja Tuulia Poutiainen (-Rinne)Tanja Tuulia Poutiainen (-Rinne)Tanja Tuulia Poutiainen (-Rinne)Manfred PrangerManfred PrangerFrancisco Prat DomenechDiane Pratte (-Acton)Diane Pratte (-Acton)Marie-Pier PrfontaineMarie-Pier PrfontaineMarie-Pier Prfontainepela Pretnarpela Pretnarpela Pretnarpela Pretnarpela Pretnarpela Pretnarpela Pretnarpela Pretnarpela Pretnarpela Pretnarpela PretnarHeidi E. PreussHeidi E. PreussMorgan PridyMorgan PridyMorgan PridyCcile Prince (-Doucerain)Gerhard PrinzingGerhard PrinzingStefan PrisadovStefan PrisadovCornelia PrllYelena Olegovna ProstevaYelena Olegovna ProstevaYelena Olegovna ProstevaYelena Olegovna ProstevaYelena Olegovna ProstevaPaul \"Casey\" PuckettPaul \"Casey\" PuckettPaul \"Casey\" PuckettPaul \"Casey\" PuckettPaul \"Casey\" PuckettPaul \"Casey\" PuckettAlejandro \"Alex\" Puente TasiasAlejandro \"Alex\" Puente TasiasPhilippe PugnatConchita Puig BarataConchita Puig BarataConchita Puig BarataAngel PumpalovAngel PumpalovAngel PumpalovKatjua PunikKatjua PunikKaren PutzerKaren PutzerKaren PutzerKaren PutzerKaren PutzerMaria Rosa Quario (-Brignone)Maria Rosa Quario (-Brignone)Maria Rosa Quario (-Brignone)Alisher QudratovGabriela QuijanoGabriela QuijanoGabriela QuijanoGabriela QuijanoCatherine Quittet (-Boyer)Catherine Quittet (-Boyer)Urs RberUrs RberUrka RabiUrka RabiUrka RabiAlexis RaclozAlexis RaclozAlexis RaclozAlexis RaclozAlexis RaclozAlexis RaclozDaron Louis RahlvesDaron Louis RahlvesDaron Louis RahlvesDaron Louis RahlvesDaron Louis RahlvesDaron Louis RahlvesDaron Louis RahlvesBenjamin RaichBenjamin RaichBenjamin RaichBenjamin RaichBenjamin RaichBenjamin RaichBenjamin RaichBenjamin RaichBenjamin RaichBenjamin RaichBenjamin RaichBenjamin RaichBenjamin RaichCarina Raich (-Stecher)William Ryan \"Willy\" RaineWilliam Ryan \"Willy\" RaineWilliam Ryan \"Willy\" RaineHenna Karoliina RaitaHenna Karoliina RaitaHenna Karoliina RaitaHenna Karoliina RaitaHenna Karoliina RaitaJukka Lasse Petteri RajalaJukka Lasse Petteri RajalaMichal RajanMichal RajanVanesa RakedzhyanVanesa RakedzhyanSophia RalliSophia RalliSophia RalliSophia RalliKyle A. RasmussenKyle A. RasmussenKyle A. RasmussenKyle A. RasmussenKyle A. RasmussenKyle A. RasmussenKyle A. RasmussenKyle A. RasmussenMojca RatajIvan RatkiIvan RatkiIvan RatkiIvan RatkiIvan RatkiIvan RatkiKatherine Jane \"Kate\" Rattray (-McNicoll)Katherine Jane \"Kate\" Rattray (-McNicoll)Katherine Jane \"Kate\" Rattray (-McNicoll)Katherine Jane \"Kate\" Rattray (-McNicoll)Katherine Jane \"Kate\" Rattray (-McNicoll)Max RaufferMax RaufferBernadette RauterBernadette RauterLyaysan Rimovna RayanovaLyaysan Rimovna RayanovaLyaysan Rimovna RayanovaMathieu RazanakolonaMathieu RazanakolonaGiuliano RazzoliGiuliano RazzoliJames \"Jim\" ReadJames \"Jim\" ReadJames \"Jim\" ReadJames \"Jim\" ReadViktoria RebensburgViktoria RebensburgViktoria RebensburgViktoria RebensburgViktoria RebensburgLucia Recchia (-Wieser)Lucia Recchia (-Wieser)Lucia Recchia (-Wieser)Lucia Recchia (-Wieser)Lucia Recchia (-Wieser)Lucia Recchia (-Wieser)Jack Nichols ReddishJack Nichols ReddishJack Nichols ReddishJack Nichols ReddishJack Nichols ReddishJack Nichols ReddishMrta Vastagh RegsMrta Vastagh RegsJohannes \"Hannes\" ReicheltCharlotte Anne Reid (-Picher)Charlotte Anne Reid (-Picher)Charlotte Anne Reid (-Picher)Mario ReiterMario ReiterHerbert RenothMikail RenzhinMikail RenzhinMikail RenzhinMikail RenzhinErwin ReschResmi ResmievResmi ResmievResmi ResmievAurlie RevilletAurlie RevilletAnne-Flore Rey (-Tafani)Anne-Flore Rey (-Tafani)Anne-Flore Rey (-Tafani)Anne-Flore Rey (-Tafani)Denis ReyDenis ReyCorinne Rey-Bellet (-Stadler)Corinne Rey-Bellet (-Stadler)Corinne Rey-Bellet (-Stadler)Corinne Rey-Bellet (-Stadler)Corinne Rey-Bellet (-Stadler)Corinne Rey-Bellet (-Stadler)Corinne Rey-Bellet (-Stadler)Cyprien RichardKaylin Lorraine RichardsonKaylin Lorraine RichardsonPer-Olov RichardssonPer-Olov RichardssonEberhard RiedelEberhard RiedelEberhard RiedelEberhard RiedelEberhard RiedelEberhard RiedelJosl RiederJosl RiederMax RiegerMax RiegerMax RiegerClaudia Alice Riegler (-Dnriaz)Claudia Alice Riegler (-Dnriaz)Claudia Alice Riegler (-Dnriaz)Michael RieglerMichael RieglerMara Jos Rienda ContrerasMara Jos Rienda ContrerasMara Jos Rienda ContrerasMara Jos Rienda ContrerasMara Jos Rienda ContrerasMara Jos Rienda ContrerasMara Jos Rienda ContrerasMara Jos Rienda ContrerasMara Jos Rienda ContrerasMara Jos Rienda ContrerasSusanne RieschKevin Esteve RigailKevin Esteve RigailKevin Esteve RigailKevin Esteve RigailGerry RinaldiAntonio RistevskiAntonio RistevskiAntonio RistevskiAntonio RistevskiPia RivaPia RivaPia RivaPia RivaPia RivaDerek RobbinsDerek RobbinsDerek RobbinsAlessandro RobertoPetra RobnikPetra RobnikPetra RobnikGiorgio RoccaGiorgio RoccaGiorgio RoccaGiorgio RoccaRoberts RodeRoberts RodeRoberts RodeRoberts RodeRoberts RodeAnna Christina RodlingCatherine Louise \"Katy\" Rodolph (-Wegeman, -Wyatt)Catherine Louise \"Katy\" Rodolph (-Wegeman, -Wyatt)Catherine Louise \"Katy\" Rodolph (-Wegeman, -Wyatt)Jorge Rodrguez JironaJorge Rodrguez JironaDiann Roffe-SteinrotterDiann Roffe-SteinrotterDiann Roffe-SteinrotterDiann Roffe-SteinrotterDiann Roffe-SteinrotterDiann Roffe-SteinrotterErik Olof Anders \"Olle\" RolnErik Olof Anders \"Olle\" RolnErik Olof Anders \"Olle\" RolnErik Olof Anders \"Olle\" RolnErik Olof Anders \"Olle\" RolnErik Olof Anders \"Olle\" RolnErik Olof Anders \"Olle\" RolnErik Olof Anders \"Olle\" RolnMarion RollandAndreas RomarAndreas RomarAndreas RomarAndreas RomarAndreas RomarJason RosenerJason RosenerLaurenne RossLaurenne RossLaurenne RossMichael James \"Mickey\" RossRoger Rossat-MignodRoger Rossat-MignodRamon Rossell MasRamon Rossell MasRamon Rossell MasRamon Rossell MasAdolf RstiAdolf RstiKarin Roten (-Meier)Karin Roten (-Meier)Karin Roten (-Meier)Peter RothPeter RothPeter RothPeter RothPeter RothPeter RothThomas \"Tom\" RothrockChristophe RouxChristophe RouxPhilippe RouxJean-Philippe RoyJean-Philippe RoyJean-Philippe RoyJean-Philippe RoyJean-Philippe RoyShona RubensShona RubensShona RubensShona RubensShona RubensShona RubensMarko RudiMarko RudiMarko RudiMarko RudiCarolina Vernica Ruiz CastilloCarolina Vernica Ruiz CastilloCarolina Vernica Ruiz CastilloCarolina Vernica Ruiz CastilloCarolina Vernica Ruiz CastilloCarolina Vernica Ruiz CastilloCarolina Vernica Ruiz CastilloCarolina Vernica Ruiz CastilloCarolina Vernica Ruiz CastilloCarolina Vernica Ruiz CastilloCarolina Vernica Ruiz CastilloCarolina Vernica Ruiz CastilloVitalijus RumiancevasVitalijus RumiancevasVitalijus RumiancevasVitalijus RumiancevasPeter RunggaldierPeter RunggaldierPeter RunggaldierPeter RunggaldierBernhard RussiBernhard RussiBirger Johannes RuudSigmund RuudViktor RyabchenkoViktor RyabchenkoJames David \"Dave\" RydingJames David \"Dave\" RydingJames David \"Dave\" RydingKristna SaalovKristna SaalovKristna SaalovKristna SaalovVladimir Peter \"Spider\" Sabich, Jr.Vladimir Peter \"Spider\" Sabich, Jr.Regina SacklRegina SacklRegina SacklRegina SacklBarbara SadlederBarbara SadlederMagdalena Saint AntoninChristophe SaioniChristophe SaioniGeorge SalamehIngrid SalvenmoserRainer SalzgeberRainer SalzgeberRainer SalzgeberRainer SalzgeberZeki amiloluZeki amiloluZeki amiloluZeki amiloluZeki amiloluZeki amiloluZeki amiloluZeki amiloluDalibor amalDalibor amalDalibor amalDalibor amalLuis Snchez de MiguelLuis Snchez de MiguelLuis Snchez de MiguelLuis Snchez de MiguelScott Alan Snchez SaundersScott Alan Snchez SaundersScott Alan Snchez SaundersScott Alan Snchez SaundersScott Alan Snchez SaundersScott Alan Snchez SaundersMarcus Johan SandellMarcus Johan SandellMaurice SanglardMaurice SanglardMaurice SanglardHamit areHamit areVeronika arecVeronika arecVeronika arecVeronika arecVeronika arecAbraham SarkakhyanAkira SasakiAkira SasakiAkira SasakiAkira SasakiAkira SasakiAkira SasakiTomio SasakiTomio SasakiKonstantin Anatolyevich SatsKonstantin Anatolyevich SatsKonstantin Anatolyevich SatsKonstantin Anatolyevich SatsJean Marlene SaubertJean Marlene SaubertJean Marlene SaubertLuke SauderLuke SauderAli Saveh ShemshakiAli Saveh ShemshakiAli Saveh ShemshakiAli Saveh ShemshakiAli Saveh ShemshakiAli Saveh ShemshakiAlidad Saveh ShemshakiAlidad Saveh ShemshakiHossein Saveh ShemshakiHossein Saveh ShemshakiHossein Saveh ShemshakiHossein Saveh ShemshakiPouria Saveh ShemshakiPouria Saveh ShemshakiLiisa SavijarviLiisa SavijarviAtsushi SawadaAtsushi SawadaDanilo SbardellottoDanilo SbardellottoDanilo SbardellottoDanilo SbardellottoHans-Walter SchdlerHans-Walter SchdlerHans-Walter SchdlerHans-Walter SchdlerHans-Walter SchdlerHans-Walter SchdlerMarko Schafferer (eferer-)Marko Schafferer (eferer-)Mario ScheiberMario ScheiberWilliam SchenkerErnst ScherzerArmand SchieleAlberto SchieppatiAndreas SchiffererAndreas SchiffererAndreas SchiffererBernadette SchildMarlies Schild (-Raich)Marlies Schild (-Raich)Marlies Schild (-Raich)Marlies Schild (-Raich)Marlies Schild (-Raich)Marlies Schild (-Raich)Martina SchildMartina SchildHansjrg SchlagerHansjrg SchlagerSarah Kathryn Schleper (-de Gaxiola)Sarah Kathryn Schleper (-de Gaxiola)Sarah Kathryn Schleper (-de Gaxiola)Sarah Kathryn Schleper (-de Gaxiola)Sarah Kathryn Schleper (-de Gaxiola)Sarah Kathryn Schleper (-de Gaxiola)Sarah Kathryn Schleper (-de Gaxiola)Sarah Kathryn Schleper (-de Gaxiola)Erik SchlopyErik SchlopyErik SchlopyErik SchlopyErik SchlopyEberardo SchmalzlEberardo SchmalzlHelmuth SchmalzlHannes Paul SchmidCorinne SchmidhauserCorinne SchmidhauserNicole SchmidhoferKrista Maria SchmidingerKrista Maria SchmidingerKrista Maria SchmidingerJohanna \"Hanna\" SchnarfJohanna \"Hanna\" SchnarfJohanna \"Hanna\" SchnarfOthmar SchneiderOthmar SchneiderOthmar SchneiderTanja SchneiderVerena \"Vreni\" SchneiderVerena \"Vreni\" SchneiderVerena \"Vreni\" SchneiderVerena \"Vreni\" SchneiderVerena \"Vreni\" SchneiderVerena \"Vreni\" SchneiderVerena \"Vreni\" SchneiderVerena \"Vreni\" SchneiderVerena \"Vreni\" SchneiderRainer SchnfelderRainer SchnfelderRainer SchnfelderRainer SchnfelderRainer SchnfelderPhilipp SchrghoferPhilipp SchrghoferKarl SchranzKarl SchranzKarl SchranzKarl SchranzKarl SchranzKarl SchranzKarl SchranzKarl SchranzStefanie \"Steffi\" SchusterStefanie \"Steffi\" SchusterStefanie \"Steffi\" SchusterStefanie \"Steffi\" SchusterStefanie \"Steffi\" SchusterPatrick-Paul Schwarzacher-JoycePatrick-Paul Schwarzacher-JoycePatrick-Paul Schwarzacher-JoycePatrick-Paul Schwarzacher-JoycePatrick-Paul Schwarzacher-JoycePeter ScottValerie ScottValerie ScottValerie ScottMikhail Stoyanov SedyankovMikhail Stoyanov SedyankovBrigitte SeiwaldBrigitte SeiwaldBrigitte SeiwaldKatja Seizinger (-Weber)Katja Seizinger (-Weber)Katja Seizinger (-Weber)Katja Seizinger (-Weber)Katja Seizinger (-Weber)Katja Seizinger (-Weber)Katja Seizinger (-Weber)Katja Seizinger (-Weber)Katja Seizinger (-Weber)Katja Seizinger (-Weber)Katja Seizinger (-Weber)Katja Seizinger (-Weber)Lotte Smiseth SejerstedLotte Smiseth SejerstedLotte Smiseth SejerstedLotte Smiseth SejerstedMami SekizukaErik SelettoFederica SelvaRyan SempleRyan SempleRyan SempleAlberto SenigagliesiCarlo SenonerCarlo SenonerCarlo SenonerAnna Inge SenonerAnna Inge SenonerAni-Matilda SerebrakyanAni-Matilda SerebrakyanArman SerebrakyanArman SerebrakyanRoberta SerraFabienne Serrat (-Lscher)Fabienne Serrat (-Lscher)Fabienne Serrat (-Lscher)Fabienne Serrat (-Lscher)Fabienne Serrat (-Lscher)Alexandra Luise \"Alex\" Shaffer (-Wubbels)Alexandra Luise \"Alex\" Shaffer (-Wubbels)Alexandra Luise \"Alex\" Shaffer (-Wubbels)Oleg ShamayevOleg ShamayevGale H. \"Tiger\" Shaw, IIIGale H. \"Tiger\" Shaw, IIIGale H. \"Tiger\" Shaw, IIIGale H. \"Tiger\" Shaw, IIIValery Grigoryevich SheinValery Grigoryevich SheinValery Grigoryevich SheinCarrie SheinbergSandra Whitney \"Sandy\" Shellworth (-Hildner)Pavel Sergeyevich ShestakovPavel Sergeyevich ShestakovPavel Sergeyevich ShestakovPavel Sergeyevich ShestakovPavel Sergeyevich ShestakovPavel Sergeyevich ShestakovPavel Sergeyevich ShestakovPavel Sergeyevich ShestakovMikaela Pauline ShiffrinMikaela Pauline ShiffrinGalina ShikhovaGalina ShikhovaGalina ShikhovaMariya Igorevna ShkanovaMariya Igorevna ShkanovaMariya Igorevna ShkanovaMariya Igorevna ShkanovaMariya Igorevna ShkanovaMariya Igorevna ShkanovaGalina Vladimirovna Sidorova (-Beker)Galina Vladimirovna Sidorova (-Beker)Galina Vladimirovna Sidorova (-Beker)Galina Vladimirovna Sidorova (-Beker)Galina Vladimirovna Sidorova (-Beker)Galina Vladimirovna Sidorova (-Beker)Ivar SigmundssonIvar SigmundssonStefn Jn SigurgeirssonStefn Jn SigurgeirssonGenevive SimardGenevive SimardGenevive SimardGenevive SimardCristian Javier Simari BirknerCristian Javier Simari BirknerCristian Javier Simari BirknerCristian Javier Simari BirknerCristian Javier Simari BirknerCristian Javier Simari BirknerCristian Javier Simari BirknerCristian Javier Simari BirknerCristian Javier Simari BirknerCristian Javier Simari BirknerCristian Javier Simari BirknerCristian Javier Simari BirknerCristian Javier Simari BirknerCristian Javier Simari BirknerCristian Javier Simari BirknerMacarena Mara Simari BirknerMacarena Mara Simari BirknerMacarena Mara Simari BirknerMacarena Mara Simari BirknerMacarena Mara Simari BirknerMacarena Mara Simari BirknerMacarena Mara Simari BirknerMacarena Mara Simari BirknerMacarena Mara Simari BirknerMacarena Mara Simari BirknerMacarena Mara Simari BirknerMacarena Mara Simari BirknerMacarena Mara Simari BirknerMacarena Mara Simari BirknerMacarena Mara Simari BirknerMacarena Mara Simari BirknerMacarena Mara Simari BirknerMacarena Mara Simari BirknerMara Beln Simari BirknerMara Beln Simari BirknerMara Beln Simari BirknerMara Beln Simari BirknerMara Beln Simari BirknerMara Beln Simari BirknerMara Beln Simari BirknerMara Beln Simari BirknerMara Beln Simari BirknerMara Beln Simari BirknerMara Beln Simari BirknerMara Beln Simari BirknerMara Beln Simari BirknerGeorgia SimmerlingDavide SimoncelliDavide SimoncelliDavide SimoncelliFranois SimondFranois SimondEmre imekEmre imekWendy SiorpaesYuliya SiparenkoYuliya SiparenkoYuliya SiparenkoYuliya SiparenkoTin irokiHelga Mara Sista de SalvateliHelga Mara Sista de SalvateliKenneth SivertsenKenneth SivertsenKenneth SivertsenPaul Arne SkajemPaul Arne SkajemAtle SkrdalAtle SkrdalAtle SkrdalAtle SkrdalAtle SkrdalAtle SkrdalMykola Ihorovych SkriabinMykola Ihorovych SkriabinMykola Ihorovych SkriabinMykola Ihorovych SkriabinMykola Ihorovych SkriabinMykola Ihorovych SkriabinMykola Ihorovych SkriabinMykola Ihorovych SkriabinMykola Ihorovych SkriabinMykola Ihorovych SkriabinMykola Ihorovych SkriabinAnastasiya Ihorivna SkriabinaAnastasiya Ihorivna SkriabinaAnastasiya Ihorivna SkriabinaMatic SkubeGreta SmallGreta SmallGreta SmallGreta SmallGreta SmallLeanne SmithLeanne SmithLeanne SmithLeanne SmithNigel SmithWarren Cummings \"Trace\" SmithWarren Cummings \"Trace\" SmithRalf Heiko SocherRalf Heiko SocherMiloslav SochorMiloslav SochorMiloslav SochorErik Gudmund Eriksson SderinErik Gudmund Eriksson SderinBjarne SolbakkenBjarne SolbakkenBjarne SolbakkenBjarne SolbakkenBjarne SolbakkenBjarne SolbakkenSebastian Foss SolevgLea SlknerLea SlknerLea SlknerLea SlknerCharlott Stigsdotter \"Lotta\" SollanderCharlott Stigsdotter \"Lotta\" SollanderCharlott Stigsdotter \"Lotta\" SollanderAnton oltsAnton oltsGeraldine Ann \"Gerry\" Sorensen (-Lenihan)Gyri Tove SrensenGyri Tove SrensenGyri Tove SrensenOdd SrliOdd SrliOdd SrliOdd SrliOdd SrliOdd SrliGregor parovecGregor parovecGregor parovecRosi SpeiserRosi SpeiserRosi SpeiserBrad SpenceBrad SpenceBrad SpenceDane R. SpencerMarlis Spescha (-Venzin)Christine SponringChristine SponringAndrej pornAndrej pornAndrej pornAndrej pornAndrej pornAndrej pornAndrej pornAndreas SprecherAndreas SprecherAndreas SprecherClaudio SprecherClaudio SprecherClaudio SprecherClaudio SprecherDrago StaicuGiannis StamatiouGiannis StamatiouGiannis StamatiouGiannis StamatiouGiannis StamatiouGiannis StamatiouGiannis StamatiouGiannis StamatiouThomas StangassingerThomas StangassingerThomas StangassingerThomas StangassingerThomas StangassingerPatrick StaubPatrick StaubPatrick StaudacherPatrick StaudacherPatrick StaudacherPatrick StaudacherPatrick StaudacherPatrick StaudacherPatrick StaudacherGina StechertGina StechertGina StechertZali SteggallZali SteggallZali SteggallZali SteggallZali SteggallZali SteggallZali SteggallZali SteggallAnton SteinerAnton SteinerAnton SteinerAnton SteinerAnton SteinerAnton SteinerAnton SteinerAnton SteinerRoswitha Steiner (-Stadlober)Roswitha Steiner (-Stadlober)Roswitha Steiner (-Stadlober)Brian StemmleBrian StemmleBrian StemmleBrian StemmleBrian StemmleKaren Jean Stemmle (-Brandon)Jan Ingemar StenmarkJan Ingemar StenmarkJan Ingemar StenmarkJan Ingemar StenmarkJan Ingemar StenmarkJan Ingemar StenmarkFlorence Steurer (-Penz)Florence Steurer (-Penz)Florence Steurer (-Penz)Florence Steurer (-Penz)Florence Steurer (-Penz)Florence Steurer (-Penz)Fulvia SteveninFulvia SteveninDonald \"Don\" StevensAlan StewartAlan StewartAlan StewartAlan StewartAlan StewartAlan StewartColin Campbell Stewart, IVRuth-Marie Stewart (-Rademacher)Ruth-Marie Stewart (-Rademacher)Luke Henri SteynLuke Henri SteynTom StiansenTom StiansenTom StiansenTom StiansenTom StiansenTom StiansenResi Frances StieglerResi Frances StieglerResi Frances StieglerResi Frances StieglerLeonhard StockLeonhard StockLeonhard StockLeonhard StockLeonhard StockLeonhard StockIngrid StcklIngrid StcklStig Ivar StrandStig Ivar StrandStig Ivar StrandStig Ivar StrandStig Ivar StrandPicabo StreetPicabo StreetPicabo StreetPicabo StreetPicabo StreetGeorg StreitbergerGeorg StreitbergerGeorg StreitbergerGeorg StreitbergerBoris StrelBoris StrelBoris StrelErwin StrickerErwin StrickerOtmar StriedingerOtmar StriedingerClaudia StroblFritz StroblFritz StroblFritz StroblFritz StroblHubert StrolzHubert StrolzHubert StrolzHubert StrolzHubert StrolzHubert StrolzHubert StrolzHubert StrolzHubert StrolzVerena StufferVerena StufferIlka tuhecIlka tuhecIlka tuhecIlka tuhecSilvia StumpSilvia StumpSilvia StumpNadia Styger (-Hrlimann)Nadia Styger (-Hrlimann)Nadia Styger (-Hrlimann)Nadia Styger (-Hrlimann)Nadia Styger (-Hrlimann)Kanet SucharitakulKanet SucharitakulMlanie SuchetMlanie SuchetMlanie SuchetMlanie SuchetMlanie SuchetMlanie SuchetSusumu SugiyamaSusumu SugiyamaSusumu SugiyamaMojca SuhadolcMojca SuhadolcMojca SuhadolcAlfina SukhanovaAlfina SukhanovaAlfina SukhanovaMarcel SulligerMarco Timothy SullivanMarco Timothy SullivanMarco Timothy SullivanMarco Timothy SullivanMarco Timothy SullivanKurt SulzenbacherKurt SulzenbacherKurt SulzenbacherKurt SulzenbacherIngrid Maria Sundberg (-Nilsson)Ingrid Maria Sundberg (-Nilsson)Nils Jrgen SundqvistNils Jrgen SundqvistFabienne SuterFabienne SuterFabienne SuterFabienne SuterFabienne SuterFabienne SuterFabienne Sutersa Elisabeth Svedmarksa Elisabeth SvedmarkMateja SvetMateja SvetMateja SvetMateja SvetMateja SvetAksel Lund SvindalAksel Lund SvindalAksel Lund SvindalAksel Lund SvindalAksel Lund SvindalAksel Lund SvindalAksel Lund SvindalAksel Lund SvindalAksel Lund SvindalAksel Lund SvindalAksel Lund SvindalAksel Lund SvindalRobert SwanRobert SwanGrund Anna Swenn LarssonKonstantinos \"Kostas\" SykarasKonstantinos \"Kostas\" SykarasKonstantinos \"Kostas\" SykarasThomas SykoraThomas SykoraKatarzyna Irena Szafraska (-Sosgrnik)Katarzyna Irena Szafraska (-Sosgrnik)Marcin Zbigniew SzafraskiMarcin Zbigniew SzafraskiMarcin Zbigniew SzafraskiMarcin Zbigniew SzafraskiMarcin Zbigniew SzafraskiMarcin Zbigniew SzafraskiMarcin Zbigniew SzafraskiMarcin Zbigniew SzafraskiOsamu TadaOsamu TadaOsamu TadaElena TagliabueTakashi TakedaTakashi TakedaYasuyuki TakishitaYasuyuki TakishitaYasuyuki TakishitaYasuyuki TakishitaYasuyuki TakishitaViktor Ivanovich TalyanovViktor Ivanovich TalyanovViktor Ivanovich TalyanovViktor Ivanovich TalyanovGeorgios TambourisGeorgios TambourisHansjrg TauscherHansjrg TauscherHansjrg TauscherHansjrg TauscherHansjrg TauscherYves TavernierYves TavernierYves TavernierYves TavernierYves TavernierWilliam Nourse \"Billy\" TaylorJonathan TaylorJonathan TaylorKenza TaziKenza TaziJesse TeatJesse TeatFerrn Terra NavarroFerrn Terra NavarroFerrn Terra NavarroFerrn Terra NavarroFerrn Terra NavarroFerrn Terra NavarroFerrn Terra NavarroFerrn Terra NavarroChristine Terraillon (-Jauffret)Elli Reid TerwielFabrizio TescariFabrizio TescariHimanshu ThakurPatrick ThalerPatrick ThalerPatrick ThalerAdrien ThauxAdrien ThauxAdrien ThauxAdrien ThauxAdrien ThauxAdrien ThauxSpyridon \"Spyros\" TheodorouSpyridon \"Spyros\" TheodorouSpyridon \"Spyros\" TheodorouSpyridon \"Spyros\" TheodorouSpyridon \"Spyros\" TheodorouGustavo ThoeniGustavo ThoeniGustavo ThoeniGustavo ThoeniGustavo ThoeniGustavo ThoeniGustavo ThoeniRolando ThoeniRolando ThoeniRolando ThoeniFinn Manni Kieding ThofteFinn Manni Kieding ThofteFinn Manni Kieding ThofteLaurence ThomsLaurence ThomsBenjamin \"Ben\" ThomsenJan Einar ThorsenJan Einar ThorsenJan Einar ThorsenJan Einar ThorsenJan Einar ThorsenJan Einar ThorsenJan Einar ThorsenJan Einar ThorsenJan Einar ThorsenRoberto ThostrupRoberto ThostrupRoberto ThostrupCraig L. ThrasherCraig L. ThrasherEdith Olivia \"Edie\" Thys (-Morgan)Edith Olivia \"Edie\" Thys (-Morgan)Edith Olivia \"Edie\" Thys (-Morgan)Edith Olivia \"Edie\" Thys (-Morgan)Edith Olivia \"Edie\" Thys (-Morgan)Sigrur Bjrk orlksdttir (-Baxter)rni orvaldssonKaterina TichyMaxime TissotStphane TissotDorota Tlaka-MogoreDorota Tlaka-MogoreDorota Tlaka-MogoreMagorzata Tlaka-Mogore (-Dugosz)Magorzata Tlaka-Mogore (-Dugosz)Triin TobiTriin TobiIan ToddIan ToddIan ToddDeyan Rakhov TodorovErjon TolaErjon TolaErjon TolaErjon TolaErjon TolaAlberto TombaAlberto TombaAlberto TombaAlberto TombaAlberto TombaAlberto TombaAlberto TombaAlberto TombaAlberto TombaNua TomeNua TomeNua TomeNua TomeHajime TomiiHajime TomiiHajime TomiiSumihiro TomiiSumihiro TomiiSumihiro TomiiSumihiro TomiiTsuyoshi TomiiTsuyoshi TomiiTsuyoshi TomiiTsuyoshi TomiiTsuyoshi TomiiDiana Helena Tomkinson (-Lewthwaite)Michael TommyMichael TommyBahattin TopalBahattin TopalRoman TornBalzs TornayBalzs TornayBalzs TornayAgustn Torres GutirrezAgustn Torres GutirrezJordi TorresJordi TorresJordi TorresSamu TorstiOswald TtschOswald TtschOswald TtschOswald TtschBrigitte Totschnig (-Habersatter)Brigitte Totschnig (-Habersatter)Brigitte Totschnig (-Habersatter)Brigitte Totschnig (-Habersatter)Dow TraversDow TraversDow TraversGareth TraynerTraudl TreichlTraudl TreichlTraudl TreichlFilip TrejbalFilip TrejbalFilip TrejbalFilip TrejbalFilip TrejbalFilip TrejbalFilip TrejbalDmitry Voldemarovich TrelevskyDmitry Voldemarovich TrelevskyWalter TreschWalter TreschWalter TreschWalter TreschWalter TreschWalter TreschIoannis TriantafyllidisIoannis TriantafyllidisPavel Sergeyevich TrikhichevPavel Sergeyevich TrikhichevPavel Sergeyevich TrikhichevPavel Sergeyevich TrikhichevHannes TrinklHannes TrinklHannes TrinklMichael TritscherReinhard TritscherReinhard TritscherReinhard TritscherMarija TrmiMarija TrmiBronisaw TrzebuniaBronisaw TrzebuniaBronisaw TrzebuniaOtto Victor Tschudi, Jr.Otto Victor Tschudi, Jr.Otto Victor Tschudi, Jr.Otto Victor Tschudi, Jr.Nino TsiklauriNino TsiklauriNino TsiklauriNino TsiklauriAthanasios TsimikalisAthanasios TsimikalisAthanasios TsimikalisStephanos Alexis TsimikalisStephanos Alexis TsimikalisValery Ivanovich TsyganovValery Ivanovich TsyganovValery Ivanovich TsyganovMlanie TurgeonMlanie TurgeonMlanie TurgeonMlanie TurgeonMlanie TurgeonMlanie TurgeonMlanie TurgeonErdin TrkseverErdin TrkseverIrina TurundayevskayaIrina TurundayevskayaRka TussRka TussEva M. TwardokensEva M. TwardokensEva M. TwardokensEva M. TwardokensEva M. TwardokensDuygu Gl UlusoyDuygu Gl UlusoyDmitry Sergeyevich UlyanovDmitry Sergeyevich UlyanovSami Juhani UotilaSami Juhani UotilaSami Juhani UotilaTeresio VachetBernard VajdiBernard VajdiBernard VajdiMassimiliano ValcareggiMassimiliano ValcareggiMassimiliano ValcareggiMitja ValeniMitja ValeniMitja ValeniMitja ValeniRenato ValentiniRenato ValentiniIvana ValeovIvana ValeovIvana ValeovKristinn Ingi ValssonJeroen Van Den BogaertFederico van DitmarFederico van DitmarFederico van DitmarFederico van DitmarFederico van DitmarFederico van DitmarFederico van DitmarFederico van DitmarNicolas B. van DitmarNicolas B. van DitmarNicolas B. van DitmarVanessa-Mae Vanakorn NicholsonKelly VanderbeekKelly VanderbeekMarcello VaralloRoyston VarleyRoyston VarleyRoyston VarleyAimo Antero VartiainenAimo Antero VartiainenAimo Antero VartiainenJulian VaseyJulian VaseyNadezhda VasilevaNadezhda VasilevaNadezhda VasilevaMiriam VzquezMichael VeithMichael VeithMario VeraMario VeraMario VeraMario VeraVicente VeraVicente VeraVicente VeraVicente VeraVicente VeraVicente VeraVicente VeraJoan Verd SnchezIrene ViaeneIrene ViaeneJean-Pierre Andr VidalVanessa VidalVanessa VidalRoger Vidosa RibaRoger Vidosa RibaRoger Vidosa RibaRoger Vidosa RibaRoger Vidosa RibaRoger Vidosa RibaRoger Vidosa RibaRoger Vidosa RibaMatej VidoviSonia VierinSandro VilettaSandro VilettaSandro VilettaSandro VilettaHelga Mara VilhjlmsdttirHelga Mara VilhjlmsdttirHelga Mara VilhjlmsdttirAlain VilliardAlain VilliardAlain VilliardPter VinczePter VinczePter VinczeMichel VionMichel VionMichel VionLuis ViscarraPietro Gianni VitaliniPietro Gianni VitaliniPetra VlhovPetra VlhovHeidi VoelkerHeidi VoelkerHeidi VoelkerHeidi VoelkerAlois VoglFranz VoglerFranz VoglerAchim VogtAchim VogtAchim VogtAchim VogtAchim VogtAchim VogtAchim VogtAchim VogtAchim VogtDaniel VogtDaniel VogtDaniel VogtDaniel VogtDaniel VogtJacqueline VogtJacqueline VogtJacqueline VogtJacqueline VogtJacqueline VogtMiriam VogtMiriam VogtMiriam VogtMiriam VogtMiriam VogtMiriam VogtJacqueline \"Verena\" VogtJacqueline \"Verena\" VogtBeat von AllmenHenrik von Appen PiedrabuenaHenrik von Appen PiedrabuenaHenrik von Appen PiedrabuenaHenrik von Appen PiedrabuenaHubertus Rudolph von Frstenberg-von Hohenlohe-LangenburgHubertus Rudolph von Frstenberg-von Hohenlohe-LangenburgHubertus Rudolph von Frstenberg-von Hohenlohe-LangenburgHubertus Rudolph von Frstenberg-von Hohenlohe-LangenburgHubertus Rudolph von Frstenberg-von Hohenlohe-LangenburgHubertus Rudolph von Frstenberg-von Hohenlohe-LangenburgHubertus Rudolph von Frstenberg-von Hohenlohe-LangenburgHubertus Rudolph von Frstenberg-von Hohenlohe-LangenburgHubertus Rudolph von Frstenberg-von Hohenlohe-LangenburgHubertus Rudolph von Frstenberg-von Hohenlohe-LangenburgHubertus Rudolph von Frstenberg-von Hohenlohe-LangenburgHubertus Rudolph von Frstenberg-von Hohenlohe-LangenburgHubertus Rudolph von Frstenberg-von Hohenlohe-LangenburgHubertus Rudolph von Frstenberg-von Hohenlohe-LangenburgHubertus Rudolph von Frstenberg-von Hohenlohe-LangenburgChristine von GrnigenChristine von GrnigenMichael von GrnigenMichael von GrnigenMichael von GrnigenMichael von GrnigenMichael von GrnigenMichael von GrnigenMichael von GrnigenMichael von GrnigenThomas VonnThomas VonnArtyom VoronovArtyom VoronovMartin VrblkMartin VrblkMartin VrblkMartin VrblkMartin VrblkMartin VrblkMartin VrblkMartin VrblkMartin VrblkMartin VrblkMartin VrblkMartin VrblkMartin VrblkMatja VrhovnikMarko VukieviMarko VukieviMarko Vukievielimir VukoviAnita Wachter (-Salzgeber)Anita Wachter (-Salzgeber)Anita Wachter (-Salzgeber)Anita Wachter (-Salzgeber)Anita Wachter (-Salzgeber)Anita Wachter (-Salzgeber)Anita Wachter (-Salzgeber)Anita Wachter (-Salzgeber)Anita Wachter (-Salzgeber)Anita Wachter (-Salzgeber)Anita Wachter (-Salzgeber)Fritz WagnerbergerFritz WagnerbergerJosef \"Sepp\" WalcherMichael WalchhoferMichael WalchhoferMichael WalchhoferMichael WalchhoferMichael WalchhoferMarie-Luce WaldmeierMarie-Luce WaldmeierBradley \"Brad\" WallBradley \"Brad\" WallVeronika Wallinger-StallmaierVeronika Wallinger-StallmaierVeronika Wallinger-StallmaierVeronika Wallinger-StallmaierVeronika Wallinger-StallmaierMaria Walliser (-Anesini)Maria Walliser (-Anesini)Maria Walliser (-Anesini)Maria Walliser (-Anesini)Maria Walliser (-Anesini)Maria Walliser (-Anesini)Per Johan Daniel WallnerPer Johan Daniel WallnerPer Johan Daniel WallnerPer Johan Daniel WallnerPer Johan Daniel WallnerPer Johan Daniel WallnerPer Johan Daniel WallnerJessica WalterMargo Lee Walters (-McDonald)Starr Walton (-Hurley)Wang Cheng-CheWang Cheng-CheMarkus WasmeierMarkus WasmeierMarkus WasmeierMarkus WasmeierMarkus WasmeierMarkus WasmeierMarkus WasmeierMarkus WasmeierMarkus WasmeierMarkus WasmeierMarkus WasmeierMarkus WasmeierAndrew WeibrechtAndrew WeibrechtAndrew WeibrechtAndrew WeibrechtAndrew WeibrechtMargarethe \"Gretl\" WeikertBetty Ellen Weir (-Bell)Hartmann \"Harti\" WeiratherChristina \"Tina\" WeiratherChristina \"Tina\" WeiratherAngelo WeissAngelo WeissAndreas \"Andi\" WenzelAndreas \"Andi\" WenzelAndreas \"Andi\" WenzelAndreas \"Andi\" WenzelAndreas \"Andi\" WenzelAndreas \"Andi\" WenzelAndreas \"Andi\" WenzelAndreas \"Andi\" WenzelAndreas \"Andi\" WenzelAndreas \"Andi\" WenzelHannelore \"Hanni\" Wenzel (-Weirather)Hannelore \"Hanni\" Wenzel (-Weirather)Hannelore \"Hanni\" Wenzel (-Weirather)Hannelore \"Hanni\" Wenzel (-Weirather)Hannelore \"Hanni\" Wenzel (-Weirather)Hannelore \"Hanni\" Wenzel (-Weirather)Petra WenzelPetra WenzelPetra WenzelPetra WenzelPetra WenzelWallace Jerold \"Buddy\" WernerWallace Jerold \"Buddy\" WernerWallace Jerold \"Buddy\" WernerWallace Jerold \"Buddy\" WernerWallace Jerold \"Buddy\" WernerWallace Jerold \"Buddy\" WernerClaudio WernliClaudio WernliKevin WertTrevor WhiteSimon Lyle Wi RuteneSimon Lyle Wi RuteneSimon Lyle Wi RuteneSimon Lyle Wi RuteneSimon Lyle Wi RuteneSimon Lyle Wi RuteneSimon Lyle Wi RuteneSimon Lyle Wi RuteneSimon Lyle Wi RuteneSimon Lyle Wi RuteneSimon Lyle Wi RuteneSimon Lyle Wi RutenePernilla Christina Wiberg (-Bjerke)Pernilla Christina Wiberg (-Bjerke)Pernilla Christina Wiberg (-Bjerke)Pernilla Christina Wiberg (-Bjerke)Pernilla Christina Wiberg (-Bjerke)Pernilla Christina Wiberg (-Bjerke)Pernilla Christina Wiberg (-Bjerke)Pernilla Christina Wiberg (-Bjerke)Pernilla Christina Wiberg (-Bjerke)Pernilla Christina Wiberg (-Bjerke)Pernilla Christina Wiberg (-Bjerke)Pernilla Christina Wiberg (-Bjerke)Pernilla Christina Wiberg (-Bjerke)Pernilla Christina Wiberg (-Bjerke)Pernilla Christina Wiberg (-Bjerke)Robert \"Kyle\" WiecheHeidi WieslerEmelie Sara Marianne WikstrmSepp WildgruberJacqueline WilesAlexander Dean \"Alex\" WilliamsNicholas WilsonNicholas WilsonPeter WirnsbergerBarbara WirthBarbara WirthSigrid WolfSigrid WolfSigrid WolfAugust WolfingerAugust WolfingerAugust WolfingerChristopher Peter \"Chris\" WomersleyChristopher Peter \"Chris\" WomersleyChristopher Peter \"Chris\" WomersleyTessa WorleyFrank-Christian WrndlFrank-Christian WrndlFrank-Christian WrndlFrank-Christian WrndlFrank-Christian WrndlJerzy Wojciech Woyna OrlewiczJerzy Wojciech Woyna OrlewiczJerzy Wojciech Woyna OrlewiczMadeleine Wuilloud (-Combelles)Madeleine Wuilloud (-Combelles)Madeleine Wuilloud (-Combelles)Xia LinaXia LinaXia LinaXia LinaYelena Dmitriyevna YakovishinaYelena Dmitriyevna YakovishinaYelena Dmitriyevna YakovishinaJunko YamakawaJunko YamakawaJunko YamakawaSachiko YamamotoSachiko YamamotoSachiko YamamotoSachiko YamamotoSachiko YamamotoSachiko YamamotoSachiko YamamotoSachiko YamamotoSachiko YamamotoVera YeremenkoVera YeremenkoMehmet YldrmMehmet YldrmMehmet YldrmYoo Hye-MinDaisuke YoshiokaNaoki YuasaNaoki YuasaDaniel YuleLarisa YurkiwLarisa YurkiwEwa Zagata (-uc)Ewa Zagata (-uc)rka Zhrobsk-Strachovrka Zhrobsk-Strachovrka Zhrobsk-Strachovrka Zhrobsk-Strachovrka Zhrobsk-Strachovrka Zhrobsk-Strachovrka Zhrobsk-Strachovrka Zhrobsk-Strachovrka Zhrobsk-Strachovrka Zhrobsk-Strachovrka Zhrobsk-StrachovPetr ZhrobskPetr ZhrobskPetr ZhrobskPetr ZhrobskPetr ZhrobskPetr ZhrobskPetr ZhrobskKarol Marian Zajc (-Sayons)Boris \"Borek\" ZakouilBoris \"Borek\" ZakouilBoris \"Borek\" ZakouilBoris \"Borek\" ZakouilBoris \"Borek\" ZakouilPetra ZakouilovPetra ZakouilovPetra ZakouilovPetra ZakouilovPetra ZakouilovPetra ZakouilovPetra ZakouilovPetra ZakouilovIgor Valeryevich ZakurdayevIgor Valeryevich ZakurdayevIgor Valeryevich ZakurdayevIgor Valeryevich ZakurdayevIgor Valeryevich ZakurdayevIgor Valeryevich ZakurdayevIgor Valeryevich ZakurdayevIgor Valeryevich ZakurdayevJake ZamanskyAdam ampaAdam ampaAdam ampaAdam ampaAndreas ampaAndreas ampaAndreas ampaEdoardo ZardiniMaria ZarucMaria ZarucAnja ZavadlavAnja ZavadlavAnja ZavadlavRokas ZaveckasRokas ZaveckasChrista ZechmeisterHannes ZehentnerHannes ZehentnerVarvara Vladimirovna Zelenskaya (-Degeorges)Varvara Vladimirovna Zelenskaya (-Degeorges)Varvara Vladimirovna Zelenskaya (-Degeorges)Varvara Vladimirovna Zelenskaya (-Degeorges)Varvara Vladimirovna Zelenskaya (-Degeorges)Varvara Vladimirovna Zelenskaya (-Degeorges)Varvara Vladimirovna Zelenskaya (-Degeorges)Varvara Vladimirovna Zelenskaya (-Degeorges)Varvara Vladimirovna Zelenskaya (-Degeorges)Heidi Zeller-BhlerHeidi Zeller-BhlerHeidi Zeller-BhlerHeidi Zeller-BhlerHeidi Zeller-BhlerHeidi Zeller-BhlerBohumr ZemanBohumr ZemanBohumr ZemanBohumr ZemanBohumr ZemanBohumr ZemanRamon ZenhusernKathrin ZettelKathrin ZettelKathrin ZettelKathrin ZettelKathrin ZettelKathrin ZettelKathrin ZettelKathrin ZettelZhang YuxinZhang YuxinAleksandr Vasilyevich ZhirovAleksandr Vasilyevich ZhirovEgon ZimmermannEgon ZimmermannEgon ZimmermannDaniela ZiniDaniela ZiniDaniela ZiniDaniela ZiniAndrea ZinsliNatko Zrni-DimNatko Zrni-DimNatko Zrni-DimNatko Zrni-DimNatko Zrni-DimNatko Zrni-DimNatko Zrni-DimNatko Zrni-DimNatko Zrni-DimNatko Zrni-DimNatko Zrni-DimNatko Zrni-DimNatko Zrni-DimAnnersli ZrydAnnersli ZrydAnnersli ZrydFilip ZubiBernadette ZurbriggenBernadette ZurbriggenBernadette ZurbriggenBernadette ZurbriggenBernadette ZurbriggenBernadette ZurbriggenBernadette ZurbriggenHeidi Zurbriggen (-Andenmatten)Heidi Zurbriggen (-Andenmatten)Heidi Zurbriggen (-Andenmatten)Heidi Zurbriggen (-Andenmatten)Heidi Zurbriggen (-Andenmatten)Heidi Zurbriggen (-Andenmatten)Heidi Zurbriggen (-Andenmatten)Heidi Zurbriggen (-Andenmatten)Heidi Zurbriggen (-Andenmatten)Pirmin ZurbriggenPirmin ZurbriggenPirmin ZurbriggenPirmin ZurbriggenPirmin ZurbriggenPirmin ZurbriggenPirmin ZurbriggenPirmin ZurbriggenSilvan ZurbriggenSilvan ZurbriggenSilvan ZurbriggenSilvan ZurbriggenStepan Olegovich ZuyevStepan Olegovich ZuyevStepan Olegovich ZuyevStepan Olegovich ZuyevStepan Olegovich ZuyevStepan Olegovich ZuyevStepan Olegovich ZuyevStepan Olegovich ZuyevVeronika Zuzulov (-Velez)Veronika Zuzulov (-Velez)Veronika Zuzulov (-Velez)Veronika Zuzulov (-Velez)Veronika Zuzulov (-Velez)Veronika Zuzulov (-Velez)Kristaps ZvejnieksKristaps ZvejnieksKristaps ZvejnieksKristaps ZvejnieksDavid ZwillingDavid Zwilling' to numeric",
      "\nThe above exception was the direct cause of the following exception:\n",
      "\u001b[0;31mTypeError\u001b[0m                                 Traceback (most recent call last)",
      "Cell \u001b[0;32mIn[33], line 1\u001b[0m\n\u001b[0;32m----> 1\u001b[0m data\u001b[38;5;241m.\u001b[39mgroupby(\u001b[38;5;124m\"\u001b[39m\u001b[38;5;124mSport\u001b[39m\u001b[38;5;124m\"\u001b[39m)\u001b[38;5;241m.\u001b[39mmean()\u001b[38;5;241m.\u001b[39mloc[:, [\u001b[38;5;124m'\u001b[39m\u001b[38;5;124mAge\u001b[39m\u001b[38;5;124m'\u001b[39m, \u001b[38;5;124m'\u001b[39m\u001b[38;5;124mHeight\u001b[39m\u001b[38;5;124m'\u001b[39m, \u001b[38;5;124m'\u001b[39m\u001b[38;5;124mWeight\u001b[39m\u001b[38;5;124m'\u001b[39m]]\n",
      "File \u001b[0;32m~/anaconda3/lib/python3.11/site-packages/pandas/core/groupby/groupby.py:2378\u001b[0m, in \u001b[0;36mGroupBy.mean\u001b[0;34m(self, numeric_only, engine, engine_kwargs)\u001b[0m\n\u001b[1;32m   2371\u001b[0m     \u001b[38;5;28;01mreturn\u001b[39;00m \u001b[38;5;28mself\u001b[39m\u001b[38;5;241m.\u001b[39m_numba_agg_general(\n\u001b[1;32m   2372\u001b[0m         grouped_mean,\n\u001b[1;32m   2373\u001b[0m         executor\u001b[38;5;241m.\u001b[39mfloat_dtype_mapping,\n\u001b[1;32m   2374\u001b[0m         engine_kwargs,\n\u001b[1;32m   2375\u001b[0m         min_periods\u001b[38;5;241m=\u001b[39m\u001b[38;5;241m0\u001b[39m,\n\u001b[1;32m   2376\u001b[0m     )\n\u001b[1;32m   2377\u001b[0m \u001b[38;5;28;01melse\u001b[39;00m:\n\u001b[0;32m-> 2378\u001b[0m     result \u001b[38;5;241m=\u001b[39m \u001b[38;5;28mself\u001b[39m\u001b[38;5;241m.\u001b[39m_cython_agg_general(\n\u001b[1;32m   2379\u001b[0m         \u001b[38;5;124m\"\u001b[39m\u001b[38;5;124mmean\u001b[39m\u001b[38;5;124m\"\u001b[39m,\n\u001b[1;32m   2380\u001b[0m         alt\u001b[38;5;241m=\u001b[39m\u001b[38;5;28;01mlambda\u001b[39;00m x: Series(x)\u001b[38;5;241m.\u001b[39mmean(numeric_only\u001b[38;5;241m=\u001b[39mnumeric_only),\n\u001b[1;32m   2381\u001b[0m         numeric_only\u001b[38;5;241m=\u001b[39mnumeric_only,\n\u001b[1;32m   2382\u001b[0m     )\n\u001b[1;32m   2383\u001b[0m     \u001b[38;5;28;01mreturn\u001b[39;00m result\u001b[38;5;241m.\u001b[39m__finalize__(\u001b[38;5;28mself\u001b[39m\u001b[38;5;241m.\u001b[39mobj, method\u001b[38;5;241m=\u001b[39m\u001b[38;5;124m\"\u001b[39m\u001b[38;5;124mgroupby\u001b[39m\u001b[38;5;124m\"\u001b[39m)\n",
      "File \u001b[0;32m~/anaconda3/lib/python3.11/site-packages/pandas/core/groupby/groupby.py:1929\u001b[0m, in \u001b[0;36mGroupBy._cython_agg_general\u001b[0;34m(self, how, alt, numeric_only, min_count, **kwargs)\u001b[0m\n\u001b[1;32m   1926\u001b[0m     result \u001b[38;5;241m=\u001b[39m \u001b[38;5;28mself\u001b[39m\u001b[38;5;241m.\u001b[39m_agg_py_fallback(how, values, ndim\u001b[38;5;241m=\u001b[39mdata\u001b[38;5;241m.\u001b[39mndim, alt\u001b[38;5;241m=\u001b[39malt)\n\u001b[1;32m   1927\u001b[0m     \u001b[38;5;28;01mreturn\u001b[39;00m result\n\u001b[0;32m-> 1929\u001b[0m new_mgr \u001b[38;5;241m=\u001b[39m data\u001b[38;5;241m.\u001b[39mgrouped_reduce(array_func)\n\u001b[1;32m   1930\u001b[0m res \u001b[38;5;241m=\u001b[39m \u001b[38;5;28mself\u001b[39m\u001b[38;5;241m.\u001b[39m_wrap_agged_manager(new_mgr)\n\u001b[1;32m   1931\u001b[0m out \u001b[38;5;241m=\u001b[39m \u001b[38;5;28mself\u001b[39m\u001b[38;5;241m.\u001b[39m_wrap_aggregated_output(res)\n",
      "File \u001b[0;32m~/anaconda3/lib/python3.11/site-packages/pandas/core/internals/managers.py:1428\u001b[0m, in \u001b[0;36mBlockManager.grouped_reduce\u001b[0;34m(self, func)\u001b[0m\n\u001b[1;32m   1424\u001b[0m \u001b[38;5;28;01mif\u001b[39;00m blk\u001b[38;5;241m.\u001b[39mis_object:\n\u001b[1;32m   1425\u001b[0m     \u001b[38;5;66;03m# split on object-dtype blocks bc some columns may raise\u001b[39;00m\n\u001b[1;32m   1426\u001b[0m     \u001b[38;5;66;03m#  while others do not.\u001b[39;00m\n\u001b[1;32m   1427\u001b[0m     \u001b[38;5;28;01mfor\u001b[39;00m sb \u001b[38;5;129;01min\u001b[39;00m blk\u001b[38;5;241m.\u001b[39m_split():\n\u001b[0;32m-> 1428\u001b[0m         applied \u001b[38;5;241m=\u001b[39m sb\u001b[38;5;241m.\u001b[39mapply(func)\n\u001b[1;32m   1429\u001b[0m         result_blocks \u001b[38;5;241m=\u001b[39m extend_blocks(applied, result_blocks)\n\u001b[1;32m   1430\u001b[0m \u001b[38;5;28;01melse\u001b[39;00m:\n",
      "File \u001b[0;32m~/anaconda3/lib/python3.11/site-packages/pandas/core/internals/blocks.py:366\u001b[0m, in \u001b[0;36mBlock.apply\u001b[0;34m(self, func, **kwargs)\u001b[0m\n\u001b[1;32m    360\u001b[0m \u001b[38;5;129m@final\u001b[39m\n\u001b[1;32m    361\u001b[0m \u001b[38;5;28;01mdef\u001b[39;00m \u001b[38;5;21mapply\u001b[39m(\u001b[38;5;28mself\u001b[39m, func, \u001b[38;5;241m*\u001b[39m\u001b[38;5;241m*\u001b[39mkwargs) \u001b[38;5;241m-\u001b[39m\u001b[38;5;241m>\u001b[39m \u001b[38;5;28mlist\u001b[39m[Block]:\n\u001b[1;32m    362\u001b[0m \u001b[38;5;250m    \u001b[39m\u001b[38;5;124;03m\"\"\"\u001b[39;00m\n\u001b[1;32m    363\u001b[0m \u001b[38;5;124;03m    apply the function to my values; return a block if we are not\u001b[39;00m\n\u001b[1;32m    364\u001b[0m \u001b[38;5;124;03m    one\u001b[39;00m\n\u001b[1;32m    365\u001b[0m \u001b[38;5;124;03m    \"\"\"\u001b[39;00m\n\u001b[0;32m--> 366\u001b[0m     result \u001b[38;5;241m=\u001b[39m func(\u001b[38;5;28mself\u001b[39m\u001b[38;5;241m.\u001b[39mvalues, \u001b[38;5;241m*\u001b[39m\u001b[38;5;241m*\u001b[39mkwargs)\n\u001b[1;32m    368\u001b[0m     result \u001b[38;5;241m=\u001b[39m maybe_coerce_values(result)\n\u001b[1;32m    369\u001b[0m     \u001b[38;5;28;01mreturn\u001b[39;00m \u001b[38;5;28mself\u001b[39m\u001b[38;5;241m.\u001b[39m_split_op_result(result)\n",
      "File \u001b[0;32m~/anaconda3/lib/python3.11/site-packages/pandas/core/groupby/groupby.py:1926\u001b[0m, in \u001b[0;36mGroupBy._cython_agg_general.<locals>.array_func\u001b[0;34m(values)\u001b[0m\n\u001b[1;32m   1923\u001b[0m \u001b[38;5;28;01melse\u001b[39;00m:\n\u001b[1;32m   1924\u001b[0m     \u001b[38;5;28;01mreturn\u001b[39;00m result\n\u001b[0;32m-> 1926\u001b[0m result \u001b[38;5;241m=\u001b[39m \u001b[38;5;28mself\u001b[39m\u001b[38;5;241m.\u001b[39m_agg_py_fallback(how, values, ndim\u001b[38;5;241m=\u001b[39mdata\u001b[38;5;241m.\u001b[39mndim, alt\u001b[38;5;241m=\u001b[39malt)\n\u001b[1;32m   1927\u001b[0m \u001b[38;5;28;01mreturn\u001b[39;00m result\n",
      "File \u001b[0;32m~/anaconda3/lib/python3.11/site-packages/pandas/core/groupby/groupby.py:1878\u001b[0m, in \u001b[0;36mGroupBy._agg_py_fallback\u001b[0;34m(self, how, values, ndim, alt)\u001b[0m\n\u001b[1;32m   1876\u001b[0m     msg \u001b[38;5;241m=\u001b[39m \u001b[38;5;124mf\u001b[39m\u001b[38;5;124m\"\u001b[39m\u001b[38;5;124magg function failed [how->\u001b[39m\u001b[38;5;132;01m{\u001b[39;00mhow\u001b[38;5;132;01m}\u001b[39;00m\u001b[38;5;124m,dtype->\u001b[39m\u001b[38;5;132;01m{\u001b[39;00mser\u001b[38;5;241m.\u001b[39mdtype\u001b[38;5;132;01m}\u001b[39;00m\u001b[38;5;124m]\u001b[39m\u001b[38;5;124m\"\u001b[39m\n\u001b[1;32m   1877\u001b[0m     \u001b[38;5;66;03m# preserve the kind of exception that raised\u001b[39;00m\n\u001b[0;32m-> 1878\u001b[0m     \u001b[38;5;28;01mraise\u001b[39;00m \u001b[38;5;28mtype\u001b[39m(err)(msg) \u001b[38;5;28;01mfrom\u001b[39;00m \u001b[38;5;21;01merr\u001b[39;00m\n\u001b[1;32m   1880\u001b[0m \u001b[38;5;28;01mif\u001b[39;00m ser\u001b[38;5;241m.\u001b[39mdtype \u001b[38;5;241m==\u001b[39m \u001b[38;5;28mobject\u001b[39m:\n\u001b[1;32m   1881\u001b[0m     res_values \u001b[38;5;241m=\u001b[39m res_values\u001b[38;5;241m.\u001b[39mastype(\u001b[38;5;28mobject\u001b[39m, copy\u001b[38;5;241m=\u001b[39m\u001b[38;5;28;01mFalse\u001b[39;00m)\n",
      "\u001b[0;31mTypeError\u001b[0m: agg function failed [how->mean,dtype->object]"
     ]
    }
   ],
   "source": [
    "data.groupby(\"Sport\").mean().loc[:, ['Age', 'Height', 'Weight']]"
   ]
  },
  {
   "cell_type": "markdown",
   "id": "6f1b01da-7b9f-4108-8da2-ef646ee2043c",
   "metadata": {},
   "source": [
    "### 31"
   ]
  },
  {
   "cell_type": "code",
   "execution_count": null,
   "id": "0abdd22b-4e79-4a92-8854-3abbd5f5b02d",
   "metadata": {},
   "outputs": [],
   "source": [
    "data.groupby(['Sport', 'Sex']).mean().loc[:, ['Age', 'Height', 'Weight']]"
   ]
  }
 ],
 "metadata": {
  "kernelspec": {
   "display_name": "Python 3 (ipykernel)",
   "language": "python",
   "name": "python3"
  },
  "language_info": {
   "codemirror_mode": {
    "name": "ipython",
    "version": 3
   },
   "file_extension": ".py",
   "mimetype": "text/x-python",
   "name": "python",
   "nbconvert_exporter": "python",
   "pygments_lexer": "ipython3",
   "version": "3.11.7"
  }
 },
 "nbformat": 4,
 "nbformat_minor": 5
}
