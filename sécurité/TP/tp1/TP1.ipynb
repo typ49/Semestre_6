{
 "cells": [
  {
   "cell_type": "markdown",
   "id": "proof-clerk",
   "metadata": {},
   "source": [
    "# TP n°1 : Fonctions de Hachage"
   ]
  },
  {
   "cell_type": "markdown",
   "id": "retired-concern",
   "metadata": {},
   "source": [
    "## 1 : Recherche de collisions "
   ]
  },
  {
   "cell_type": "markdown",
   "id": "inside-statement",
   "metadata": {},
   "source": [
    "### Exercice n°1.1\n",
    "#### 1.1.1\n",
    "_\n",
    "#### 1.1.2\n",
    "_\n",
    "#### 1.1.3"
   ]
  },
  {
   "cell_type": "code",
   "execution_count": 1,
   "id": "excess-airplane",
   "metadata": {},
   "outputs": [],
   "source": [
    "import hashlib\n",
    "import random"
   ]
  },
  {
   "cell_type": "code",
   "execution_count": 2,
   "id": "internal-guide",
   "metadata": {},
   "outputs": [],
   "source": [
    "def f(x):\n",
    "    return x%10"
   ]
  },
  {
   "cell_type": "code",
   "execution_count": 3,
   "id": "irish-steering",
   "metadata": {},
   "outputs": [],
   "source": [
    "storage = {}\n",
    "\n",
    "def recherche(y):\n",
    "    return storage.get(y, -1)\n",
    "\n",
    "# Fonction pour générer un entier aléatoire sous forme de bytes\n",
    "def alea_bits(min_value, max_value):\n",
    "    # Génère un entier aléatoire entre min_value et max_value\n",
    "    m = random.randint(min_value, max_value)\n",
    "    # Convertit l'entier en bytes\n",
    "    return m.to_bytes((m.bit_length() + 7) // 8, 'big')\n",
    "\n",
    "def alea_X(min, max):\n",
    "    return random.randint(min,max)\n",
    "\n",
    "def recherche_collision(H, alea_X, mx, nbIterMax):\n",
    "    d = {}; nbit = 0\n",
    "    while (nbit < nbIterMax):\n",
    "        m = alea_X(0, mx)\n",
    "        h = H(m)\n",
    "        if h not in d:\n",
    "            d[h] = m\n",
    "        else:\n",
    "            m0 = d[h]\n",
    "            if m0 != m:\n",
    "                return (m, m0, nbit)\n",
    "        nbit += 1\n",
    "    return (-1, -1, -1)"
   ]
  },
  {
   "cell_type": "code",
   "execution_count": 4,
   "id": "productive-placement",
   "metadata": {},
   "outputs": [
    {
     "name": "stdout",
     "output_type": "stream",
     "text": [
      "collision trouvé : (68, 58, 6)\n"
     ]
    }
   ],
   "source": [
    "collision = recherche_collision(f, alea_X, 100, 10000)\n",
    "print(f\"collision trouvé : {collision}\")"
   ]
  },
  {
   "cell_type": "markdown",
   "id": "dried-agenda",
   "metadata": {},
   "source": [
    "### Exercice n°1.2\n",
    "#### 1.2.1"
   ]
  },
  {
   "cell_type": "code",
   "execution_count": 5,
   "id": "parental-switch",
   "metadata": {},
   "outputs": [
    {
     "name": "stdout",
     "output_type": "stream",
     "text": [
      "2cf24dba\n"
     ]
    }
   ],
   "source": [
    "def monSHA256reduitA32bits(m):\n",
    "    # Convertissez m en une chaîne de caractères si ce n'est pas déjà le cas, puis encodez en bytes\n",
    "    if not isinstance(m, bytes):\n",
    "        m = str(m).encode('utf-8')\n",
    "    \n",
    "    # Calculez le SHA-256 et retournez les 8 premiers caractères hexadécimaux\n",
    "    sha = hashlib.sha256(m).hexdigest()\n",
    "    \n",
    "    return sha[:8]\n",
    "\n",
    "\n",
    "\n",
    "# Appel de la fonction\n",
    "print(monSHA256reduitA32bits(\"hello\"))"
   ]
  },
  {
   "cell_type": "markdown",
   "id": "commercial-times",
   "metadata": {},
   "source": [
    "#### 1.2.2\n",
    "À partir de 2<sup>32</sup>+1 message, on est sûr qu'une collision va arriver"
   ]
  },
  {
   "cell_type": "code",
   "execution_count": 6,
   "id": "smaller-lunch",
   "metadata": {},
   "outputs": [
    {
     "name": "stdout",
     "output_type": "stream",
     "text": [
      "Collision trouvée entre: b'\"\\x9c\"' et b'/\\x80\\xcf' après 34142 itérations\n"
     ]
    }
   ],
   "source": [
    "collision = recherche_collision(monSHA256reduitA32bits, alea_bits, 10000000, 99999)\n",
    "if collision[0] != -1:\n",
    "    print(f\"Collision trouvée entre: {collision[0]} et {collision[1]} après {collision[2]} itérations\")\n",
    "else:\n",
    "    print(\"Aucune collision trouvée.\")"
   ]
  },
  {
   "cell_type": "markdown",
   "id": "northern-mentor",
   "metadata": {},
   "source": [
    "#### 1.2.3\n",
    "b'K~K' et b'\\x8b\\xca%' ont collisionné après 99665 itérations\n",
    "\n",
    "#### 1.2.4"
   ]
  },
  {
   "cell_type": "code",
   "execution_count": 7,
   "id": "confirmed-momentum",
   "metadata": {},
   "outputs": [
    {
     "name": "stdout",
     "output_type": "stream",
     "text": [
      "la moyenne de l'apparition de collision : 0.45900659006590067\n"
     ]
    }
   ],
   "source": [
    "effectif = 100 * 99999\n",
    "nbIt = 0\n",
    "for i in range (0,100):\n",
    "    a, b, c = recherche_collision(monSHA256reduitA32bits, alea_bits, 10000000, 99999)\n",
    "    nbIt += c\n",
    "\n",
    "moy = nbIt / effectif\n",
    "print(f\"la moyenne de l'apparition de collision : {moy}\")"
   ]
  }
 ],
 "metadata": {
  "kernelspec": {
   "display_name": "Python 3",
   "language": "python",
   "name": "python3"
  },
  "language_info": {
   "codemirror_mode": {
    "name": "ipython",
    "version": 3
   },
   "file_extension": ".py",
   "mimetype": "text/x-python",
   "name": "python",
   "nbconvert_exporter": "python",
   "pygments_lexer": "ipython3",
   "version": "3.9.2"
  }
 },
 "nbformat": 4,
 "nbformat_minor": 5
}
