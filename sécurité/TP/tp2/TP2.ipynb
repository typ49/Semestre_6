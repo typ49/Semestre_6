{
 "cells": [
  {
   "cell_type": "markdown",
   "id": "spanish-championship",
   "metadata": {},
   "source": [
    "# TP n°2 - chiffrement symétrique "
   ]
  },
  {
   "cell_type": "markdown",
   "id": "hearing-accommodation",
   "metadata": {},
   "source": [
    "## 1 - AES par la pratique "
   ]
  },
  {
   "cell_type": "markdown",
   "id": "mobile-conjunction",
   "metadata": {},
   "source": [
    "### Exercice 1.1 - (Exploitation d’un code pour chiffrer une image selon AES, CBC et CTR) "
   ]
  },
  {
   "cell_type": "code",
   "execution_count": 1,
   "id": "exceptional-retailer",
   "metadata": {},
   "outputs": [
    {
     "name": "stdout",
     "output_type": "stream",
     "text": [
      "Password: elo\n",
      "{'cipher_text': b'\\x85F\\t\\xf9\\x9d9\\x9ar\\xa2.\\xa3\\xd3\\xd7e\\x08\\x86', 'salt': b'J\\x9ec\\xa9\\xf1\\xfef\\x80\\xfb\\x97Mg\\xdaKO\\x15', 'iv': b'\\xae\\x9c\"Ef\\x11\\xe8\\x02\\x8e\\x8fk*:\\xaaa\\xed', 'nonce': b\"\\xbe\\xf9M\\xea\\xd3'\\x9e\\xab\"}\n",
      "Secrete Message.\n"
     ]
    }
   ],
   "source": [
    "#### 2. Exécution du programme\n",
    "from Crypto.Random import get_random_bytes\n",
    "from Crypto.Cipher import AES\n",
    "from Crypto.Protocol.KDF import scrypt\n",
    "\n",
    "def AESnew(pk,mode,iv=None,nonce=None):\n",
    "        if (mode == AES.MODE_ECB) :\n",
    "            return AES.new(pk,AES.MODE_ECB)\n",
    "        elif (mode == AES.MODE_CBC) :\n",
    "            return AES.new(pk,AES.MODE_CBC,iv=iv)\n",
    "        elif (mode == AES.MODE_CTR) :\n",
    "            return AES.new(pk,AES.MODE_CTR,nonce=nonce)\n",
    "\n",
    "def encrypt(plain_text, password, mode):\n",
    "    salt = get_random_bytes(AES.block_size)\n",
    "    private_key = scrypt(password.encode(), salt, 16, N=2**14, r=8, p=1)\n",
    "    iv = get_random_bytes(AES.block_size)\n",
    "    nonce = get_random_bytes(int(AES.block_size/2))\n",
    "    cipher_config = AESnew(private_key,mode,iv,nonce)\n",
    "    cipher_text= cipher_config.encrypt(plain_text.encode())\n",
    "    return {'cipher_text': cipher_text,'salt': salt,'iv':iv,'nonce':nonce}\n",
    "\n",
    "def decrypt(enc_dict, password,mode):\n",
    "    cipher_text,salt,iv,nonce=enc_dict['cipher_text'],enc_dict['salt'],enc_dict['iv'],enc_dict['nonce']\n",
    "    private_key = scrypt(password.encode(), salt, 16, N=2**14, r=8, p=1)\n",
    "    cipher_config = AESnew(private_key,mode,iv,nonce)\n",
    "    return cipher_config.decrypt(cipher_text)\n",
    "\n",
    "def main():\n",
    "    password = input(\"Password: \")\n",
    "    mode = AES.MODE_ECB\n",
    "\n",
    "    encrypted = encrypt(\"Secrete Message.\", password,mode)\n",
    "    print(encrypted)\n",
    "\n",
    "    decrypted = decrypt(encrypted, password,mode)\n",
    "    print(decrypted.decode())\n",
    "main()"
   ]
  },
  {
   "cell_type": "markdown",
   "id": "loaded-prediction",
   "metadata": {},
   "source": [
    "#### 1. Comprehention du programme\n",
    "\n",
    "##### (a) Objectifs des lignes 15 et 16 ? Puis 17 et 18 ?\n",
    "* Lignes 15 et 16 : Générer un sel aléatoire pour la dérivation de la clé privée à partir du mot de passe, puis utiliser scrypt pour dériver la clé privée.\n",
    "* Lignes 17 et 18 : Générer un vecteur d'initialisation (IV) pour le mode CBC et un nonce pour le mode CTR, nécessaires pour le chiffrement.\n",
    "\n",
    "##### (b) Pourquoi invoque-t-on à la ligne 18 la fonction AESnew définie à la ligne 5 ?\n",
    "* La fonction AESnew est invoquée pour créer une nouvelle instance de chiffrement AES avec les paramètres spécifiés (clé privée, mode, IV, nonce). Pas tous les paramètres construits ne sont pas toujours utilisés; cela dépend du mode de chiffrement spécifié.\n",
    "\n",
    "##### (c) Que contient la variable cipher_text affectée à la ligne 20 ?\n",
    "* cipher_text contient le message chiffré résultant de l'application de l'algorithme AES sur le texte clair plain_text encodé.\n",
    "\n",
    "##### (d) Que retourne-t-on à la ligne 21 ?\n",
    "* On retourne un dictionnaire contenant le texte chiffré, le sel, l'IV, et le nonce utilisés pendant le chiffrement.\n",
    "\n",
    "##### (e) Que contiennent les variables affectées à la ligne 24 ?\n",
    "* Ces variables contiennent les éléments du dictionnaire enc_dict : le texte chiffré, le sel, l'IV, et le nonce, nécessaires pour déchiffrer le message.\n",
    "\n",
    "##### (f) Qu’est-ce qui est retourné à la ligne 27 ?\n",
    "* Le message déchiffré est retourné.\n",
    "\n",
    "##### (g) Que contient la variable encrypted affectée à la ligne 33 ?\n",
    "* encrypted contient le résultat du chiffrement du message \"Secret Message.\" incluant le texte chiffré, le sel, l'IV, et le nonce.\n",
    "\n",
    "#### 3. et 4. Chiffrement avec AES CBC et CTR, et manipulation des tailles de message\n",
    "\n",
    "* Pour chiffrer et déchiffrer une chaîne de caractères avec AES CBC et CTR, vous devez ajuster le mode dans la fonction main() et exécuter le programme. Concernant la robustesse aux tailles de message, certains modes nécessitent un padding pour que le message soit d'une taille compatible avec le chiffrement AES. Vous pouvez utiliser les fonctions de padding et unpadding du package Crypto.Util.Padding pour ajuster la taille des messages.\n",
    "\n",
    "#### 5. et 6. Chiffrement d'une image\n",
    "* Le code donné montre comment convertir une image en octets pour le chiffrement. Pour chiffrer une image avec AES et ECB, vous devez adapter le programme pour lire les octets de l'image au lieu d'un texte clair, puis appliquer le chiffrement. Pour CBC et CTR, le processus est similaire, mais assurez-vous d'utiliser le mode de chiffrement approprié. En visualisant l'image chiffrée, vous observerez des artefacts dus au chiffrement, mais après déchiffrement, l'image devrait être restaurée à son état original."
   ]
  },
  {
   "cell_type": "code",
   "execution_count": 2,
   "id": "silent-aaron",
   "metadata": {},
   "outputs": [],
   "source": [
    "from Crypto.Random import get_random_bytes\n",
    "from Crypto.Cipher import AES\n",
    "from Crypto.Protocol.KDF import scrypt\n",
    "import os\n",
    "\n",
    "def AESnew(pk, mode, iv=None, nonce=None):\n",
    "    if mode == AES.MODE_ECB:\n",
    "        return AES.new(pk, AES.MODE_ECB)\n",
    "    elif mode == AES.MODE_CBC:\n",
    "        return AES.new(pk, AES.MODE_CBC, iv=iv)\n",
    "    elif mode == AES.MODE_CTR:\n",
    "        return AES.new(pk, AES.MODE_CTR, nonce=nonce)\n",
    "\n",
    "def encrypt_image(file_path, password, mode):\n",
    "    with open(file_path, 'rb') as image_file:\n",
    "        plain_image_data = image_file.read()\n",
    "    salt = get_random_bytes(AES.block_size)\n",
    "    private_key = scrypt(password.encode(), salt, 16, N=2**14, r=8, p=1)\n",
    "    iv = get_random_bytes(AES.block_size)\n",
    "    nonce = get_random_bytes(int(AES.block_size/2))\n",
    "    cipher_config = AESnew(private_key, mode, iv, nonce)\n",
    "    cipher_image_data = cipher_config.encrypt(plain_image_data)\n",
    "    return {'cipher_image_data': cipher_image_data, 'salt': salt, 'iv': iv, 'nonce': nonce}\n",
    "\n",
    "def decrypt_image(enc_dict, password, mode):\n",
    "    cipher_image_data, salt, iv, nonce = enc_dict['cipher_image_data'], enc_dict['salt'], enc_dict['iv'], enc_dict['nonce']\n",
    "    private_key = scrypt(password.encode(), salt, 16, N=2**14, r=8, p=1)\n",
    "    cipher_config = AESnew(private_key, mode, iv, nonce)\n",
    "    decrypted_image_data = cipher_config.decrypt(cipher_image_data)\n",
    "    return decrypted_image_data\n",
    "\n",
    "def main():\n",
    "    password = \"strongpassword\"  # For example purposes; get from user input in practice\n",
    "    mode = AES.MODE_CBC  # CBC mode is more secure than ECB for images\n",
    "\n",
    "    file_path = \"./image/kirbo.png\"  # Path to the image you want to encrypt\n",
    "    encrypted_dict = encrypt_image(file_path, password, mode)\n",
    "    \n",
    "    # Save encrypted image\n",
    "    with open(\"./image/encrypted_image.bin\", \"wb\") as encrypted_file:\n",
    "        encrypted_file.write(encrypted_dict['cipher_image_data'])\n",
    "\n",
    "    # Decrypt image and save it\n",
    "    decrypted_image_data = decrypt_image(encrypted_dict, password, mode)\n",
    "    with open(\"./image/decrypted_image.png\", \"wb\") as decrypted_file:\n",
    "        decrypted_file.write(decrypted_image_data)\n",
    "\n",
    "if __name__ == \"__main__\":\n",
    "    main()"
   ]
  },
  {
   "cell_type": "code",
   "execution_count": null,
   "id": "informed-artist",
   "metadata": {},
   "outputs": [],
   "source": []
  }
 ],
 "metadata": {
  "kernelspec": {
   "display_name": "Python 3",
   "language": "python",
   "name": "python3"
  },
  "language_info": {
   "codemirror_mode": {
    "name": "ipython",
    "version": 3
   },
   "file_extension": ".py",
   "mimetype": "text/x-python",
   "name": "python",
   "nbconvert_exporter": "python",
   "pygments_lexer": "ipython3",
   "version": "3.9.2"
  }
 },
 "nbformat": 4,
 "nbformat_minor": 5
}
